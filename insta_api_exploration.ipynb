{
 "cells": [
  {
   "cell_type": "markdown",
   "metadata": {},
   "source": [
    "## Use Selenium to Scrape Top Influencer User Id's"
   ]
  },
  {
   "cell_type": "code",
   "execution_count": 1,
   "metadata": {},
   "outputs": [],
   "source": [
    "# # https://towardsdatascience.com/how-to-use-selenium-to-web-scrape-with-example-80f9b23a843a\n",
    "# from selenium import webdriver\n",
    "# # pip3 install chromedriver-binary\n",
    "# import chromedriver_binary"
   ]
  },
  {
   "cell_type": "code",
   "execution_count": 2,
   "metadata": {},
   "outputs": [],
   "source": [
    "# driver = webdriver.Chrome()"
   ]
  },
  {
   "cell_type": "code",
   "execution_count": 3,
   "metadata": {},
   "outputs": [],
   "source": [
    "# driver.get('https://www.instagram.com/directory/profiles/')"
   ]
  },
  {
   "cell_type": "code",
   "execution_count": 4,
   "metadata": {},
   "outputs": [],
   "source": [
    "# driver.find_element_by_xpath(\"\"\"//*[@id=\"react-root\"]/section/main/div/div[2]/div/ul[1]/li[1]/a\"\"\").click()"
   ]
  },
  {
   "cell_type": "code",
   "execution_count": 5,
   "metadata": {},
   "outputs": [],
   "source": [
    "# driver.find_element_by_xpath(\"\"\"//*[@id=\"react-root\"]/section/main/div[1]/div[2]/div/ul[1]/li[1]/a\"\"\").click()"
   ]
  },
  {
   "cell_type": "code",
   "execution_count": 6,
   "metadata": {},
   "outputs": [],
   "source": [
    "# posts = driver.find_elements_by_class_name('_7kTyW')"
   ]
  },
  {
   "cell_type": "code",
   "execution_count": 7,
   "metadata": {
    "scrolled": true
   },
   "outputs": [],
   "source": [
    "# user_ids = []\n",
    "# for post in posts:\n",
    "#     user_ids.append(post.text)"
   ]
  },
  {
   "cell_type": "code",
   "execution_count": 8,
   "metadata": {},
   "outputs": [],
   "source": [
    "# driver.back()"
   ]
  },
  {
   "cell_type": "code",
   "execution_count": 9,
   "metadata": {},
   "outputs": [],
   "source": [
    "# driver.find_element_by_xpath(\"\"\"//*[@id=\"react-root\"]/section/main/div/div[2]/div/ul[1]/li[2]/a\"\"\").click()"
   ]
  },
  {
   "cell_type": "code",
   "execution_count": 10,
   "metadata": {},
   "outputs": [],
   "source": [
    "# posts = driver.find_elements_by_class_name('_7kTyW')"
   ]
  },
  {
   "cell_type": "code",
   "execution_count": 11,
   "metadata": {},
   "outputs": [],
   "source": [
    "# for post in posts:\n",
    "#     user_ids.append(post.text)"
   ]
  },
  {
   "cell_type": "code",
   "execution_count": 12,
   "metadata": {},
   "outputs": [],
   "source": [
    "# len(user_ids)"
   ]
  },
  {
   "cell_type": "code",
   "execution_count": 13,
   "metadata": {},
   "outputs": [],
   "source": [
    "# driver.back()"
   ]
  },
  {
   "cell_type": "markdown",
   "metadata": {},
   "source": [
    "## Automate scrapping using loops to get user_id's"
   ]
  },
  {
   "cell_type": "code",
   "execution_count": 14,
   "metadata": {},
   "outputs": [],
   "source": [
    "# from: https://www.instagram.com/directory/profiles/"
   ]
  },
  {
   "cell_type": "code",
   "execution_count": 15,
   "metadata": {},
   "outputs": [],
   "source": [
    "# main_dir1 = [str(x) for x in range(1,5)]\n",
    "# main_dir2 = [str(x) for x in range(1,26)]\n",
    "# sub_dir1 = [str(x) for x in range(1,5)]\n",
    "# sub_dir2 = [str(x) for x in range(1,4)]"
   ]
  },
  {
   "cell_type": "code",
   "execution_count": 16,
   "metadata": {},
   "outputs": [],
   "source": [
    "# def main_dir_str(x, y):\n",
    "#     \"\"\"\n",
    "#     Returns string for the argument in method driver.find_element_by_xpath()\n",
    "    \n",
    "#     Input: x, y strings for xpath locations on https://www.instagram.com/directory/profiles/\n",
    "#     Output: string for xpath\n",
    "#     \"\"\"\n",
    "#     return \"\"\"//*[@id=\"react-root\"]/section/main/div/div[2]/div/ul[\"\"\" + x + \"\"\"]/li[\"\"\" + y + \"\"\"]/a\"\"\"\n",
    "\n",
    "# def sub_dir_str(x, y):\n",
    "#     \"\"\"\n",
    "#     Returns string for the argument in method driver.find_element_by_xpath()\n",
    "    \n",
    "#     Input: x, y strings for xpath locations on https://www.instagram.com/directory/profiles/<sub dir #>/\n",
    "#     Output: string for xpath\n",
    "#     \"\"\"\n",
    "#     if x == '4':\n",
    "#         return \"\"\"//*[@id=\"react-root\"]/section/main/div/div[2]/div/ul[4]/li/a\"\"\"\n",
    "#     else:\n",
    "#         return \"\"\"//*[@id=\"react-root\"]/section/main/div/div[2]/div/ul[\"\"\" + x + \"\"\"]/li[\"\"\" + y + \"\"\"]/a\"\"\""
   ]
  },
  {
   "cell_type": "code",
   "execution_count": 17,
   "metadata": {},
   "outputs": [],
   "source": [
    "# import random\n",
    "# random.randint(6,10)/10"
   ]
  },
  {
   "cell_type": "code",
   "execution_count": 18,
   "metadata": {
    "scrolled": true
   },
   "outputs": [],
   "source": [
    "# import time\n",
    "# import random\n",
    "# user_ids = []\n",
    "# for x_main in main_dir1:\n",
    "#     for y_main in main_dir2:\n",
    "#         driver.get('https://www.instagram.com/directory/profiles/')\n",
    "#         driver.find_element_by_xpath(main_dir_str(x_main, y_main)).click()\n",
    "#         for x_sub in sub_dir1:\n",
    "#             for y_sub in sub_dir2:\n",
    "#                 time.sleep(random.randint(6,10)/10)\n",
    "#                 driver.find_element_by_xpath(sub_dir_str(x_sub, y_sub)).click()\n",
    "#                 time.sleep(random.randint(6,10)/10)\n",
    "#                 posts = driver.find_elements_by_class_name('_7kTyW')\n",
    "#                 for post in posts:\n",
    "#                     user_ids.append(post.text)\n",
    "#                 driver.back()"
   ]
  },
  {
   "cell_type": "code",
   "execution_count": 19,
   "metadata": {},
   "outputs": [],
   "source": [
    "# len(user_ids)"
   ]
  },
  {
   "cell_type": "code",
   "execution_count": 20,
   "metadata": {},
   "outputs": [],
   "source": [
    "# unique, counts = np.unique(user_ids, return_counts = True)"
   ]
  },
  {
   "cell_type": "code",
   "execution_count": 21,
   "metadata": {},
   "outputs": [],
   "source": [
    "# len(counts)"
   ]
  },
  {
   "cell_type": "code",
   "execution_count": 22,
   "metadata": {},
   "outputs": [],
   "source": [
    "# len(unique)"
   ]
  },
  {
   "cell_type": "code",
   "execution_count": 23,
   "metadata": {},
   "outputs": [],
   "source": [
    "# unique[1]"
   ]
  },
  {
   "cell_type": "code",
   "execution_count": 24,
   "metadata": {},
   "outputs": [],
   "source": [
    "# user_ids[-1]"
   ]
  },
  {
   "cell_type": "code",
   "execution_count": 25,
   "metadata": {},
   "outputs": [],
   "source": [
    "# type(unique)"
   ]
  },
  {
   "cell_type": "markdown",
   "metadata": {},
   "source": [
    "## Save Unique User Id's as .csv"
   ]
  },
  {
   "cell_type": "code",
   "execution_count": 26,
   "metadata": {},
   "outputs": [],
   "source": [
    "# from numpy import savetxt"
   ]
  },
  {
   "cell_type": "code",
   "execution_count": 27,
   "metadata": {},
   "outputs": [],
   "source": [
    "# savetxt('user_ids.csv'\n",
    "#         , unique\n",
    "#         , delimiter = ','\n",
    "#         , fmt = '%s'\n",
    "#        )"
   ]
  },
  {
   "cell_type": "markdown",
   "metadata": {},
   "source": [
    "## Load Unique User Id's"
   ]
  },
  {
   "cell_type": "code",
   "execution_count": 1,
   "metadata": {},
   "outputs": [],
   "source": [
    "from numpy import loadtxt\n",
    "import numpy as np\n",
    "import pandas as pd\n",
    "import matplotlib.pyplot as plt\n",
    "plt.style.use('fivethirtyeight')"
   ]
  },
  {
   "cell_type": "code",
   "execution_count": 2,
   "metadata": {},
   "outputs": [],
   "source": [
    "unique_ids = loadtxt('user_ids.csv'\n",
    "                     , delimiter = '\\n'\n",
    "                     , dtype = str\n",
    "                    )"
   ]
  },
  {
   "cell_type": "code",
   "execution_count": 3,
   "metadata": {},
   "outputs": [
    {
     "data": {
      "text/plain": [
       "numpy.ndarray"
      ]
     },
     "execution_count": 3,
     "metadata": {},
     "output_type": "execute_result"
    }
   ],
   "source": [
    "type(unique_ids)"
   ]
  },
  {
   "cell_type": "code",
   "execution_count": 4,
   "metadata": {},
   "outputs": [
    {
     "data": {
      "text/plain": [
       "100000"
      ]
     },
     "execution_count": 4,
     "metadata": {},
     "output_type": "execute_result"
    }
   ],
   "source": [
    "len(unique_ids)"
   ]
  },
  {
   "cell_type": "markdown",
   "metadata": {},
   "source": [
    "## Data for Multiple Users"
   ]
  },
  {
   "cell_type": "code",
   "execution_count": 5,
   "metadata": {},
   "outputs": [],
   "source": [
    "from instaloader import *\n",
    "from instaloader import Instaloader as insta"
   ]
  },
  {
   "cell_type": "code",
   "execution_count": 6,
   "metadata": {},
   "outputs": [],
   "source": [
    "# instaloader from https://instaloader.github.io/module/structures.html?highlight=get_followers#instaloader.Profile.get_followers"
   ]
  },
  {
   "cell_type": "code",
   "execution_count": 10,
   "metadata": {},
   "outputs": [],
   "source": [
    "def download_instaloader(lst):\n",
    "    \"\"\"\n",
    "    Returns list of dictonaries of user profile information\n",
    "    Input: lst, list of user id strings\n",
    "    Output: lst, list of user id string\n",
    "            lst_dict, list of user profile dictionary\n",
    "    \"\"\"\n",
    "    import instaloader\n",
    "    import time\n",
    "    import random\n",
    "    bot = instaloader.Instaloader()\n",
    "    # for private profiles\n",
    "    bot.login('your_instagram_acct_name'\n",
    "              , 'your_instagram_acct_name_password'\n",
    "             )\n",
    "    lst_dict = []\n",
    "    name_lst = []\n",
    "    for userid in lst:\n",
    "        try:\n",
    "            name_lst.append(userid)\n",
    "            time.sleep(random.randint(3,9)/10)\n",
    "            profile = Profile.from_username(bot.context, userid)\n",
    "            lst_dict.append({'user_name': profile.username\n",
    "                              , 'user_id': profile.userid\n",
    "                              , 'private': profile.is_private\n",
    "                              , 'followed': profile.followed_by_viewer\n",
    "                              , 'post_count': profile.mediacount\n",
    "                              , 'igtv_count': profile.igtvcount\n",
    "                              , 'followers_count': profile.followers\n",
    "                              , 'following_count': profile.followees\n",
    "                              , 'external_url': profile.external_url\n",
    "                              , 'business_acct': profile.is_business_account\n",
    "                              , 'business_cat': profile.business_category_name\n",
    "                              , 'bio': profile.biography\n",
    "                              , 'blocked_by_viewers': profile.blocked_by_viewer\n",
    "                              , 'follows': profile.follows_viewer\n",
    "                              , 'full_name': profile.full_name\n",
    "                              , 'blocked_viewers': profile.has_blocked_viewer\n",
    "                              , 'public_story': profile.has_public_story\n",
    "                              , 'requested_viewer': profile.has_requested_viewer\n",
    "                              , 'profile_pic_url': profile.profile_pic_url\n",
    "                              , 'similar_accounts': {x for x in profile.get_similar_accounts()}\n",
    "                             })\n",
    "        except:\n",
    "            name_lst.remove(userid)\n",
    "            continue\n",
    "    return name_lst, lst_dict "
   ]
  },
  {
   "cell_type": "code",
   "execution_count": 11,
   "metadata": {
    "scrolled": true
   },
   "outputs": [
    {
     "name": "stderr",
     "output_type": "stream",
     "text": [
      "JSON Query to 0_arie_00/feed/: Could not find \"window._sharedData\" in html response. [retrying; skip with ^C]\n",
      "JSON Query to 0_arie_00/feed/: Could not find \"window._sharedData\" in html response. [retrying; skip with ^C]\n",
      "JSON Query to 0_doctor_0_/feed/: 404 Not Found [retrying; skip with ^C]\n",
      "JSON Query to 0_doctor_0_/feed/: 404 Not Found [retrying; skip with ^C]\n",
      "JSON Query to 0_yasmim_0/feed/: 404 Not Found [retrying; skip with ^C]\n",
      "JSON Query to 0_yasmim_0/feed/: 404 Not Found [retrying; skip with ^C]\n",
      "JSON Query to 0abs__/feed/: 404 Not Found [retrying; skip with ^C]\n",
      "JSON Query to 0abs__/feed/: 404 Not Found [retrying; skip with ^C]\n",
      "JSON Query to 0b89h/feed/: 404 Not Found [retrying; skip with ^C]\n",
      "JSON Query to 0b89h/feed/: 404 Not Found [retrying; skip with ^C]\n",
      "JSON Query to 0buy_followers0/feed/: 404 Not Found [retrying; skip with ^C]\n",
      "JSON Query to 0buy_followers0/feed/: 404 Not Found [retrying; skip with ^C]\n",
      "JSON Query to 0bv_.ps.b.done/feed/: 404 Not Found [retrying; skip with ^C]\n",
      "JSON Query to 0bv_.ps.b.done/feed/: 404 Not Found [retrying; skip with ^C]\n",
      "JSON Query to 0caahsz/feed/: 404 Not Found [retrying; skip with ^C]\n",
      "JSON Query to 0caahsz/feed/: 404 Not Found [retrying; skip with ^C]\n",
      "JSON Query to 0eaae/feed/: 404 Not Found [retrying; skip with ^C]\n",
      "JSON Query to 0eaae/feed/: 404 Not Found [retrying; skip with ^C]\n",
      "JSON Query to 0eevs/feed/: Could not find \"window._sharedData\" in html response. [retrying; skip with ^C]\n",
      "JSON Query to 0eevs/feed/: Could not find \"window._sharedData\" in html response. [retrying; skip with ^C]\n",
      "JSON Query to 0efecanyakut/feed/: 404 Not Found [retrying; skip with ^C]\n",
      "JSON Query to 0efecanyakut/feed/: 404 Not Found [retrying; skip with ^C]\n"
     ]
    },
    {
     "name": "stdout",
     "output_type": "stream",
     "text": [
      "\n",
      "Too many queries in the last time. Need to wait 330 seconds, until 15:48.\n"
     ]
    },
    {
     "name": "stderr",
     "output_type": "stream",
     "text": [
      "JSON Query to 0fficial.dno/feed/: 404 Not Found [retrying; skip with ^C]\n",
      "JSON Query to 0fficial.dno/feed/: 404 Not Found [retrying; skip with ^C]\n",
      "JSON Query to 0fficial.rowan/feed/: 404 Not Found [retrying; skip with ^C]\n",
      "JSON Query to 0fficial.rowan/feed/: 404 Not Found [retrying; skip with ^C]\n",
      "JSON Query to 0fficial_yogi_/feed/: 404 Not Found [retrying; skip with ^C]\n",
      "JSON Query to 0fficial_yogi_/feed/: 404 Not Found [retrying; skip with ^C]\n",
      "JSON Query to 0glu4/feed/: 404 Not Found [retrying; skip with ^C]\n",
      "JSON Query to 0glu4/feed/: 404 Not Found [retrying; skip with ^C]\n",
      "JSON Query to 0ilz9_/feed/: 404 Not Found [retrying; skip with ^C]\n",
      "JSON Query to 0ilz9_/feed/: 404 Not Found [retrying; skip with ^C]\n",
      "JSON Query to 0iqq7/feed/: Could not find \"window._sharedData\" in html response. [retrying; skip with ^C]\n",
      "JSON Query to 0iqq7/feed/: Could not find \"window._sharedData\" in html response. [retrying; skip with ^C]\n"
     ]
    },
    {
     "name": "stdout",
     "output_type": "stream",
     "text": [
      "\n",
      "Too many queries in the last time. Need to wait 16 seconds, until 15:51.\n"
     ]
    },
    {
     "name": "stderr",
     "output_type": "stream",
     "text": [
      "JSON Query to 0l.y9/feed/: 404 Not Found [retrying; skip with ^C]\n",
      "JSON Query to 0l.y9/feed/: 404 Not Found [retrying; skip with ^C]\n",
      "JSON Query to 0l2.ni/feed/: 404 Not Found [retrying; skip with ^C]\n",
      "JSON Query to 0l2.ni/feed/: 404 Not Found [retrying; skip with ^C]\n",
      "JSON Query to 0lll0lll0lll0lll/feed/: 404 Not Found [retrying; skip with ^C]\n",
      "JSON Query to 0lll0lll0lll0lll/feed/: 404 Not Found [retrying; skip with ^C]\n",
      "JSON Query to 0lo200k/feed/: 404 Not Found [retrying; skip with ^C]\n",
      "JSON Query to 0lo200k/feed/: 404 Not Found [retrying; skip with ^C]\n",
      "JSON Query to 0med_4x4/feed/: 404 Not Found [retrying; skip with ^C]\n",
      "JSON Query to 0med_4x4/feed/: 404 Not Found [retrying; skip with ^C]\n",
      "JSON Query to 0mxr8/feed/: 404 Not Found [retrying; skip with ^C]\n",
      "JSON Query to 0mxr8/feed/: 404 Not Found [retrying; skip with ^C]\n",
      "JSON Query to 0nlyfanxs/feed/: 404 Not Found [retrying; skip with ^C]\n",
      "JSON Query to 0nlyfanxs/feed/: 404 Not Found [retrying; skip with ^C]\n"
     ]
    },
    {
     "name": "stdout",
     "output_type": "stream",
     "text": [
      "\n",
      "Too many queries in the last time. Need to wait 312 seconds, until 15:59.\n"
     ]
    },
    {
     "name": "stderr",
     "output_type": "stream",
     "text": [
      "JSON Query to 0o88968/feed/: Could not find \"window._sharedData\" in html response. [retrying; skip with ^C]\n",
      "JSON Query to 0o88968/feed/: Could not find \"window._sharedData\" in html response. [retrying; skip with ^C]\n",
      "JSON Query to 0pameoff/feed/: 404 Not Found [retrying; skip with ^C]\n",
      "JSON Query to 0pameoff/feed/: 404 Not Found [retrying; skip with ^C]\n",
      "JSON Query to 0q0._m/feed/: 404 Not Found [retrying; skip with ^C]\n",
      "JSON Query to 0q0._m/feed/: 404 Not Found [retrying; skip with ^C]\n",
      "JSON Query to 0sajad_qasim/feed/: 404 Not Found [retrying; skip with ^C]\n",
      "JSON Query to 0sajad_qasim/feed/: 404 Not Found [retrying; skip with ^C]\n",
      "JSON Query to 0scandal/feed/: 404 Not Found [retrying; skip with ^C]\n",
      "JSON Query to 0scandal/feed/: 404 Not Found [retrying; skip with ^C]\n",
      "JSON Query to 0vsimith/feed/: 404 Not Found [retrying; skip with ^C]\n",
      "JSON Query to 0vsimith/feed/: 404 Not Found [retrying; skip with ^C]\n",
      "JSON Query to 0x.vjl/feed/: 404 Not Found [retrying; skip with ^C]\n",
      "JSON Query to 0x.vjl/feed/: 404 Not Found [retrying; skip with ^C]\n"
     ]
    },
    {
     "name": "stdout",
     "output_type": "stream",
     "text": [
      "\n",
      "Too many queries in the last time. Need to wait 222 seconds, until 16:10.\n"
     ]
    },
    {
     "name": "stderr",
     "output_type": "stream",
     "text": [
      "JSON Query to 1.2ug/feed/: 404 Not Found [retrying; skip with ^C]\n",
      "JSON Query to 1.2ug/feed/: 404 Not Found [retrying; skip with ^C]\n",
      "JSON Query to 1.9wwi/feed/: 404 Not Found [retrying; skip with ^C]\n",
      "JSON Query to 1.9wwi/feed/: 404 Not Found [retrying; skip with ^C]\n"
     ]
    }
   ],
   "source": [
    "# 150:300 Updated 11/17/2020...only 150 downloads per day\n",
    "# Change [150:300] to [300:450] on 11/18/2020\n",
    "name_lst, lst_dict = download_instaloader(unique_ids[150:300])"
   ]
  },
  {
   "cell_type": "code",
   "execution_count": 12,
   "metadata": {
    "scrolled": true
   },
   "outputs": [
    {
     "data": {
      "text/plain": [
       "(117, 117)"
      ]
     },
     "execution_count": 12,
     "metadata": {},
     "output_type": "execute_result"
    }
   ],
   "source": [
    "len(name_lst), len(lst_dict)"
   ]
  },
  {
   "cell_type": "code",
   "execution_count": 13,
   "metadata": {},
   "outputs": [
    {
     "data": {
      "text/html": [
       "<div>\n",
       "<style scoped>\n",
       "    .dataframe tbody tr th:only-of-type {\n",
       "        vertical-align: middle;\n",
       "    }\n",
       "\n",
       "    .dataframe tbody tr th {\n",
       "        vertical-align: top;\n",
       "    }\n",
       "\n",
       "    .dataframe thead th {\n",
       "        text-align: right;\n",
       "    }\n",
       "</style>\n",
       "<table border=\"1\" class=\"dataframe\">\n",
       "  <thead>\n",
       "    <tr style=\"text-align: right;\">\n",
       "      <th></th>\n",
       "      <th>user_name</th>\n",
       "      <th>user_id</th>\n",
       "      <th>private</th>\n",
       "      <th>followed</th>\n",
       "      <th>post_count</th>\n",
       "      <th>igtv_count</th>\n",
       "      <th>followers_count</th>\n",
       "      <th>following_count</th>\n",
       "      <th>external_url</th>\n",
       "      <th>business_acct</th>\n",
       "      <th>business_cat</th>\n",
       "      <th>bio</th>\n",
       "      <th>blocked_by_viewers</th>\n",
       "      <th>follows</th>\n",
       "      <th>full_name</th>\n",
       "      <th>blocked_viewers</th>\n",
       "      <th>public_story</th>\n",
       "      <th>requested_viewer</th>\n",
       "      <th>profile_pic_url</th>\n",
       "      <th>similar_accounts</th>\n",
       "    </tr>\n",
       "  </thead>\n",
       "  <tbody>\n",
       "    <tr>\n",
       "      <th>0</th>\n",
       "      <td>0_1js</td>\n",
       "      <td>7601073256</td>\n",
       "      <td>False</td>\n",
       "      <td>False</td>\n",
       "      <td>3</td>\n",
       "      <td>0</td>\n",
       "      <td>30316</td>\n",
       "      <td>7</td>\n",
       "      <td>None</td>\n",
       "      <td>False</td>\n",
       "      <td>None</td>\n",
       "      <td>‏همَ ألنآس موجُودين ، بس جيب أليريح البآل ،</td>\n",
       "      <td>False</td>\n",
       "      <td>False</td>\n",
       "      <td></td>\n",
       "      <td>False</td>\n",
       "      <td>False</td>\n",
       "      <td>False</td>\n",
       "      <td>https://instagram.fptp2-1.fna.fbcdn.net/v/t51....</td>\n",
       "      <td>{&lt;Profile jayreubens (12184680070)&gt;, &lt;Profile ...</td>\n",
       "    </tr>\n",
       "    <tr>\n",
       "      <th>1</th>\n",
       "      <td>0___l2</td>\n",
       "      <td>1663780479</td>\n",
       "      <td>False</td>\n",
       "      <td>False</td>\n",
       "      <td>0</td>\n",
       "      <td>0</td>\n",
       "      <td>22614</td>\n",
       "      <td>1556</td>\n",
       "      <td>http://tellonym.me/eng_1999/</td>\n",
       "      <td>False</td>\n",
       "      <td>None</td>\n",
       "      <td>- ℱℛ𝒪ℳ 𝒜𝒩𝒪𝒯ℋℰℛ 𝒫ℒ𝒜𝒩ℰ𝒯 📍\\n- 6|𝙵𝙴𝙱𝚁𝚄𝙰𝚁𝚈🎂\\n- (  𝕌...</td>\n",
       "      <td>False</td>\n",
       "      <td>False</td>\n",
       "      <td></td>\n",
       "      <td>False</td>\n",
       "      <td>True</td>\n",
       "      <td>False</td>\n",
       "      <td>https://scontent-sjc3-1.cdninstagram.com/v/t51...</td>\n",
       "      <td>{&lt;Profile jayreubens (12184680070)&gt;, &lt;Profile ...</td>\n",
       "    </tr>\n",
       "    <tr>\n",
       "      <th>2</th>\n",
       "      <td>0__shila__0</td>\n",
       "      <td>6473773787</td>\n",
       "      <td>True</td>\n",
       "      <td>False</td>\n",
       "      <td>9</td>\n",
       "      <td>0</td>\n",
       "      <td>69524</td>\n",
       "      <td>289</td>\n",
       "      <td>None</td>\n",
       "      <td>False</td>\n",
       "      <td>None</td>\n",
       "      <td>‌‌</td>\n",
       "      <td>False</td>\n",
       "      <td>False</td>\n",
       "      <td></td>\n",
       "      <td>False</td>\n",
       "      <td>False</td>\n",
       "      <td>False</td>\n",
       "      <td>https://scontent-sjc3-1.cdninstagram.com/v/t51...</td>\n",
       "      <td>{&lt;Profile jayreubens (12184680070)&gt;, &lt;Profile ...</td>\n",
       "    </tr>\n",
       "  </tbody>\n",
       "</table>\n",
       "</div>"
      ],
      "text/plain": [
       "     user_name     user_id  private  followed  post_count  igtv_count  \\\n",
       "0        0_1js  7601073256    False     False           3           0   \n",
       "1       0___l2  1663780479    False     False           0           0   \n",
       "2  0__shila__0  6473773787     True     False           9           0   \n",
       "\n",
       "   followers_count  following_count                  external_url  \\\n",
       "0            30316                7                          None   \n",
       "1            22614             1556  http://tellonym.me/eng_1999/   \n",
       "2            69524              289                          None   \n",
       "\n",
       "   business_acct business_cat  \\\n",
       "0          False         None   \n",
       "1          False         None   \n",
       "2          False         None   \n",
       "\n",
       "                                                 bio  blocked_by_viewers  \\\n",
       "0        ‏همَ ألنآس موجُودين ، بس جيب أليريح البآل ،               False   \n",
       "1  - ℱℛ𝒪ℳ 𝒜𝒩𝒪𝒯ℋℰℛ 𝒫ℒ𝒜𝒩ℰ𝒯 📍\\n- 6|𝙵𝙴𝙱𝚁𝚄𝙰𝚁𝚈🎂\\n- (  𝕌...               False   \n",
       "2                                                 ‌‌               False   \n",
       "\n",
       "   follows full_name  blocked_viewers  public_story  requested_viewer  \\\n",
       "0    False                      False         False             False   \n",
       "1    False                      False          True             False   \n",
       "2    False                      False         False             False   \n",
       "\n",
       "                                     profile_pic_url  \\\n",
       "0  https://instagram.fptp2-1.fna.fbcdn.net/v/t51....   \n",
       "1  https://scontent-sjc3-1.cdninstagram.com/v/t51...   \n",
       "2  https://scontent-sjc3-1.cdninstagram.com/v/t51...   \n",
       "\n",
       "                                    similar_accounts  \n",
       "0  {<Profile jayreubens (12184680070)>, <Profile ...  \n",
       "1  {<Profile jayreubens (12184680070)>, <Profile ...  \n",
       "2  {<Profile jayreubens (12184680070)>, <Profile ...  "
      ]
     },
     "execution_count": 13,
     "metadata": {},
     "output_type": "execute_result"
    }
   ],
   "source": [
    "# 150 is the max number for data downloads per day\n",
    "# Change df_1_150 to df_150_300 on 11/18/2020\n",
    "\n",
    "df_150_300 = pd.DataFrame({'user_id': name_lst\n",
    "                        , 'profile': lst_dict\n",
    "                       }\n",
    "                      )\n",
    "df_150_300 = df_150_300.profile.apply(pd.Series)\n",
    "df_150_300.head(3)"
   ]
  },
  {
   "cell_type": "code",
   "execution_count": 14,
   "metadata": {},
   "outputs": [
    {
     "data": {
      "text/plain": [
       "user_name               0\n",
       "user_id                 0\n",
       "private                 0\n",
       "followed                0\n",
       "post_count              0\n",
       "igtv_count              0\n",
       "followers_count         0\n",
       "following_count         0\n",
       "external_url          102\n",
       "business_acct           0\n",
       "business_cat           90\n",
       "bio                     0\n",
       "blocked_by_viewers      0\n",
       "follows                 0\n",
       "full_name               0\n",
       "blocked_viewers         0\n",
       "public_story            0\n",
       "requested_viewer        0\n",
       "profile_pic_url         0\n",
       "similar_accounts        0\n",
       "dtype: int64"
      ]
     },
     "execution_count": 14,
     "metadata": {},
     "output_type": "execute_result"
    }
   ],
   "source": [
    "df_150_300.isna().sum()"
   ]
  },
  {
   "cell_type": "code",
   "execution_count": 15,
   "metadata": {},
   "outputs": [
    {
     "data": {
      "text/plain": [
       "user_name             0\n",
       "user_id               0\n",
       "private               0\n",
       "followed              0\n",
       "post_count            0\n",
       "igtv_count            0\n",
       "followers_count       0\n",
       "following_count       0\n",
       "external_url          0\n",
       "business_acct         0\n",
       "business_cat          0\n",
       "bio                   0\n",
       "blocked_by_viewers    0\n",
       "follows               0\n",
       "full_name             0\n",
       "blocked_viewers       0\n",
       "public_story          0\n",
       "requested_viewer      0\n",
       "profile_pic_url       0\n",
       "similar_accounts      0\n",
       "dtype: int64"
      ]
     },
     "execution_count": 15,
     "metadata": {},
     "output_type": "execute_result"
    }
   ],
   "source": [
    "df_150_300.fillna('None', inplace = True)\n",
    "df_150_300.isna().sum()"
   ]
  },
  {
   "cell_type": "code",
   "execution_count": 16,
   "metadata": {},
   "outputs": [
    {
     "data": {
      "text/plain": [
       "(117, 20)"
      ]
     },
     "execution_count": 16,
     "metadata": {},
     "output_type": "execute_result"
    }
   ],
   "source": [
    "df_150_300.shape"
   ]
  },
  {
   "cell_type": "code",
   "execution_count": 21,
   "metadata": {},
   "outputs": [
    {
     "data": {
      "text/plain": [
       "(117, 20)"
      ]
     },
     "execution_count": 21,
     "metadata": {},
     "output_type": "execute_result"
    }
   ],
   "source": [
    "# Save and test load\n",
    "df_150_300.to_csv('./data/df_150_300.csv'\n",
    "                , encoding='utf-8'\n",
    "                , index = False\n",
    "               )\n",
    "df_150_300_test = pd.read_csv('./data/df_150_300.csv'\n",
    "                            , encoding='utf-8'\n",
    "                           )\n",
    "df_150_300_test.shape"
   ]
  },
  {
   "cell_type": "code",
   "execution_count": 18,
   "metadata": {},
   "outputs": [
    {
     "name": "stdout",
     "output_type": "stream",
     "text": [
      "<class 'pandas.core.frame.DataFrame'>\n",
      "RangeIndex: 117 entries, 0 to 116\n",
      "Data columns (total 20 columns):\n",
      " #   Column              Non-Null Count  Dtype \n",
      "---  ------              --------------  ----- \n",
      " 0   user_name           117 non-null    object\n",
      " 1   user_id             117 non-null    int64 \n",
      " 2   private             117 non-null    bool  \n",
      " 3   followed            117 non-null    bool  \n",
      " 4   post_count          117 non-null    int64 \n",
      " 5   igtv_count          117 non-null    int64 \n",
      " 6   followers_count     117 non-null    int64 \n",
      " 7   following_count     117 non-null    int64 \n",
      " 8   external_url        117 non-null    object\n",
      " 9   business_acct       117 non-null    bool  \n",
      " 10  business_cat        117 non-null    object\n",
      " 11  bio                 117 non-null    object\n",
      " 12  blocked_by_viewers  117 non-null    bool  \n",
      " 13  follows             117 non-null    bool  \n",
      " 14  full_name           117 non-null    object\n",
      " 15  blocked_viewers     117 non-null    bool  \n",
      " 16  public_story        117 non-null    bool  \n",
      " 17  requested_viewer    117 non-null    bool  \n",
      " 18  profile_pic_url     117 non-null    object\n",
      " 19  similar_accounts    117 non-null    object\n",
      "dtypes: bool(8), int64(5), object(7)\n",
      "memory usage: 12.0+ KB\n",
      "<class 'pandas.core.frame.DataFrame'>\n",
      "RangeIndex: 117 entries, 0 to 116\n",
      "Data columns (total 20 columns):\n",
      " #   Column              Non-Null Count  Dtype \n",
      "---  ------              --------------  ----- \n",
      " 0   user_name           117 non-null    object\n",
      " 1   user_id             117 non-null    int64 \n",
      " 2   private             117 non-null    bool  \n",
      " 3   followed            117 non-null    bool  \n",
      " 4   post_count          117 non-null    int64 \n",
      " 5   igtv_count          117 non-null    int64 \n",
      " 6   followers_count     117 non-null    int64 \n",
      " 7   following_count     117 non-null    int64 \n",
      " 8   external_url        117 non-null    object\n",
      " 9   business_acct       117 non-null    bool  \n",
      " 10  business_cat        117 non-null    object\n",
      " 11  bio                 97 non-null     object\n",
      " 12  blocked_by_viewers  117 non-null    bool  \n",
      " 13  follows             117 non-null    bool  \n",
      " 14  full_name           92 non-null     object\n",
      " 15  blocked_viewers     117 non-null    bool  \n",
      " 16  public_story        117 non-null    bool  \n",
      " 17  requested_viewer    117 non-null    bool  \n",
      " 18  profile_pic_url     117 non-null    object\n",
      " 19  similar_accounts    117 non-null    object\n",
      "dtypes: bool(8), int64(5), object(7)\n",
      "memory usage: 12.0+ KB\n"
     ]
    },
    {
     "data": {
      "text/plain": [
       "(None, None)"
      ]
     },
     "execution_count": 18,
     "metadata": {},
     "output_type": "execute_result"
    }
   ],
   "source": [
    "# validate save and test load\n",
    "df_150_300.info(), df_150_300_test.info()"
   ]
  },
  {
   "cell_type": "markdown",
   "metadata": {},
   "source": [
    "## Check bio nulls..."
   ]
  },
  {
   "cell_type": "code",
   "execution_count": 19,
   "metadata": {},
   "outputs": [
    {
     "data": {
      "text/plain": [
       "Int64Index([9, 12, 17, 18, 20, 22, 23, 28, 35, 40, 47, 59, 62, 67, 82, 87, 89,\n",
       "            92, 97, 107],\n",
       "           dtype='int64')"
      ]
     },
     "execution_count": 19,
     "metadata": {},
     "output_type": "execute_result"
    }
   ],
   "source": [
    "df_150_300_test[df_150_300_test.bio.isna()]['bio'].index"
   ]
  },
  {
   "cell_type": "code",
   "execution_count": 20,
   "metadata": {},
   "outputs": [
    {
     "data": {
      "text/plain": [
       "nan"
      ]
     },
     "execution_count": 20,
     "metadata": {},
     "output_type": "execute_result"
    }
   ],
   "source": [
    "df_150_300_test.bio.iloc[9]"
   ]
  },
  {
   "cell_type": "markdown",
   "metadata": {},
   "source": [
    "## Check full_name nulls..."
   ]
  },
  {
   "cell_type": "code",
   "execution_count": 22,
   "metadata": {},
   "outputs": [
    {
     "data": {
      "text/plain": [
       "Int64Index([  0,   1,   2,   5,   7,  16,  17,  20,  21,  23,  30,  35,  40,\n",
       "             45,  46,  47,  60,  62,  67,  80,  82,  85,  88,  94, 105],\n",
       "           dtype='int64')"
      ]
     },
     "execution_count": 22,
     "metadata": {},
     "output_type": "execute_result"
    }
   ],
   "source": [
    "df_150_300_test[df_150_300_test.full_name.isna()]['full_name'].index"
   ]
  },
  {
   "cell_type": "code",
   "execution_count": 24,
   "metadata": {},
   "outputs": [
    {
     "data": {
      "text/plain": [
       "nan"
      ]
     },
     "execution_count": 24,
     "metadata": {},
     "output_type": "execute_result"
    }
   ],
   "source": [
    "df_150_300_test.full_name.iloc[0]"
   ]
  },
  {
   "cell_type": "code",
   "execution_count": 26,
   "metadata": {},
   "outputs": [],
   "source": [
    "df_150_300_test.fillna('None'\n",
    "                     , inplace = True\n",
    "                    )"
   ]
  },
  {
   "cell_type": "code",
   "execution_count": 27,
   "metadata": {},
   "outputs": [
    {
     "data": {
      "text/plain": [
       "user_name             0\n",
       "user_id               0\n",
       "private               0\n",
       "followed              0\n",
       "post_count            0\n",
       "igtv_count            0\n",
       "followers_count       0\n",
       "following_count       0\n",
       "external_url          0\n",
       "business_acct         0\n",
       "business_cat          0\n",
       "bio                   0\n",
       "blocked_by_viewers    0\n",
       "follows               0\n",
       "full_name             0\n",
       "blocked_viewers       0\n",
       "public_story          0\n",
       "requested_viewer      0\n",
       "profile_pic_url       0\n",
       "similar_accounts      0\n",
       "dtype: int64"
      ]
     },
     "execution_count": 27,
     "metadata": {},
     "output_type": "execute_result"
    }
   ],
   "source": [
    "df_150_300_test.isna().sum()"
   ]
  },
  {
   "cell_type": "markdown",
   "metadata": {},
   "source": [
    "## Combine Data Frames from Pervious "
   ]
  },
  {
   "cell_type": "code",
   "execution_count": 34,
   "metadata": {},
   "outputs": [
    {
     "data": {
      "text/plain": [
       "(122, 20)"
      ]
     },
     "execution_count": 34,
     "metadata": {},
     "output_type": "execute_result"
    }
   ],
   "source": [
    "df_1_150 = pd.read_csv('./data/df_1_150.csv')\n",
    "df_1_150.fillna('None'\n",
    "                , inplace = True\n",
    "               )\n",
    "df_1_150.shape"
   ]
  },
  {
   "cell_type": "code",
   "execution_count": 35,
   "metadata": {},
   "outputs": [
    {
     "data": {
      "text/plain": [
       "(239, 20)"
      ]
     },
     "execution_count": 35,
     "metadata": {},
     "output_type": "execute_result"
    }
   ],
   "source": [
    "# combine df with pervious dataframes\n",
    "df = df_1_150.append(df_150_300)\n",
    "df.shape"
   ]
  },
  {
   "cell_type": "code",
   "execution_count": 36,
   "metadata": {},
   "outputs": [
    {
     "data": {
      "text/plain": [
       "user_name             0\n",
       "user_id               0\n",
       "private               0\n",
       "followed              0\n",
       "post_count            0\n",
       "igtv_count            0\n",
       "followers_count       0\n",
       "following_count       0\n",
       "external_url          0\n",
       "business_acct         0\n",
       "business_cat          0\n",
       "bio                   0\n",
       "blocked_by_viewers    0\n",
       "follows               0\n",
       "full_name             0\n",
       "blocked_viewers       0\n",
       "public_story          0\n",
       "requested_viewer      0\n",
       "profile_pic_url       0\n",
       "similar_accounts      0\n",
       "dtype: int64"
      ]
     },
     "execution_count": 36,
     "metadata": {},
     "output_type": "execute_result"
    }
   ],
   "source": [
    "# check for nulls\n",
    "df.isna().sum()"
   ]
  },
  {
   "cell_type": "code",
   "execution_count": 37,
   "metadata": {},
   "outputs": [],
   "source": [
    "df.to_csv('./data/df.csv')"
   ]
  },
  {
   "cell_type": "markdown",
   "metadata": {},
   "source": [
    "## EDA of Data Collected"
   ]
  },
  {
   "cell_type": "code",
   "execution_count": 105,
   "metadata": {},
   "outputs": [
    {
     "data": {
      "image/png": "[encoded data removed]",
      "text/plain": [
       "<Figure size 432x288 with 1 Axes>"
      ]
     },
     "metadata": {},
     "output_type": "display_data"
    }
   ],
   "source": [
    "df_1_150_test.followers_count.hist(bins=50\n",
    "                                   , log = False\n",
    "                                  )\n",
    "plt.xticks(rotation=90)\n",
    "plt.title('Distribution fo Followers')\n",
    "plt.ylabel('Count')\n",
    "plt.xlabel('Followers');"
   ]
  },
  {
   "cell_type": "raw",
   "metadata": {},
   "source": [
    "df_1_150_test.followers_count.hist(bins=50\n",
    "                                   , log = False\n",
    "                                  )\n",
    "plt.xticks(rotation=90);"
   ]
  },
  {
   "cell_type": "code",
   "execution_count": null,
   "metadata": {},
   "outputs": [],
   "source": []
  }
 ],
 "metadata": {
  "kernelspec": {
   "display_name": "Python 3",
   "language": "python",
   "name": "python3"
  },
  "language_info": {
   "codemirror_mode": {
    "name": "ipython",
    "version": 3
   },
   "file_extension": ".py",
   "mimetype": "text/x-python",
   "name": "python",
   "nbconvert_exporter": "python",
   "pygments_lexer": "ipython3",
   "version": "3.8.5"
  }
 },
 "nbformat": 4,
 "nbformat_minor": 4
}
