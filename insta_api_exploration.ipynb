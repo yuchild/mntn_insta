{
 "cells": [
  {
   "cell_type": "markdown",
   "metadata": {},
   "source": [
    "### possible alternative https://realpython.com/instagram-bot-python-instapy/"
   ]
  },
  {
   "cell_type": "code",
   "execution_count": null,
   "metadata": {},
   "outputs": [],
   "source": [
    "from time import sleep"
   ]
  },
  {
   "cell_type": "code",
   "execution_count": null,
   "metadata": {},
   "outputs": [],
   "source": [
    "from selenium import webdriver"
   ]
  },
  {
   "cell_type": "code",
   "execution_count": null,
   "metadata": {},
   "outputs": [],
   "source": [
    "from webdriver_manager.firefox import GeckoDriverManager"
   ]
  },
  {
   "cell_type": "code",
   "execution_count": null,
   "metadata": {
    "scrolled": true
   },
   "outputs": [],
   "source": [
    "# browser = webdriver.Firefox(executable_path = GeckoDriverManager().install())"
   ]
  },
  {
   "cell_type": "code",
   "execution_count": null,
   "metadata": {},
   "outputs": [],
   "source": [
    "# browser = webdriver.Firefox(executable_path = GeckoDriverManager().install()) #initializes Firefox driver\n",
    "# browser.get('https://www.instagram.com/') # types url into address bar and hits enter\n",
    "# sleep(5) # waits five seconds\n",
    "# browser.close() # closes the browser"
   ]
  },
  {
   "cell_type": "code",
   "execution_count": null,
   "metadata": {},
   "outputs": [],
   "source": []
  },
  {
   "cell_type": "code",
   "execution_count": null,
   "metadata": {},
   "outputs": [],
   "source": [
    "# browser = webdriver.Firefox(executable_path = GeckoDriverManager().install())\n",
    "# browser.implicitly_wait(5)\n",
    "# browser.get('https://www.instagram.com/')\n",
    "\n",
    "# sleep(2)\n",
    "\n",
    "# username_input = browser.find_element_by_css_selector(\"input[name='username']\")\n",
    "# password_input = browser.find_element_by_css_selector(\"input[name='password']\")\n",
    "\n",
    "# username_input.send_keys('david@sfdataplungers.com')\n",
    "\n",
    "# sleep(1)\n",
    "\n",
    "# password_input.send_keys('SpacePants2020!@#')\n",
    "\n",
    "# sleep(1)\n",
    "\n",
    "# login_link = browser.find_element_by_xpath(\"//button[@type='submit']\")\n",
    "# login_link.click()\n",
    "\n",
    "# sleep(5)\n",
    "\n",
    "# browser.close()"
   ]
  },
  {
   "cell_type": "code",
   "execution_count": null,
   "metadata": {},
   "outputs": [],
   "source": [
    "from page_objects import LoginPage, HomePage"
   ]
  },
  {
   "cell_type": "code",
   "execution_count": null,
   "metadata": {},
   "outputs": [],
   "source": [
    "%load_ext autoreload\n",
    "%autoreload 2"
   ]
  },
  {
   "cell_type": "code",
   "execution_count": null,
   "metadata": {
    "scrolled": false
   },
   "outputs": [],
   "source": [
    "# browser = webdriver.Firefox(executable_path = GeckoDriverManager().install())\n",
    "# browser.implicitly_wait(5)\n",
    "\n",
    "# load_home = HomePage(browser)\n",
    "# login_ = load_home.go_to_login_page()\n",
    "# login_.login(\"user\", \"pass\")\n",
    "\n",
    "# sleep(20)\n",
    "\n",
    "# browser.close()"
   ]
  },
  {
   "cell_type": "markdown",
   "metadata": {},
   "source": [
    "From: https://www.geeksforgeeks.org/instagram-explore-module-in-python/"
   ]
  },
  {
   "cell_type": "code",
   "execution_count": 2,
   "metadata": {},
   "outputs": [],
   "source": [
    "import instagram_explore as ie\n",
    "import json"
   ]
  },
  {
   "cell_type": "code",
   "execution_count": 3,
   "metadata": {},
   "outputs": [],
   "source": [
    "result = ie.user('travelbabbo')\n",
    "\n",
    "parsed_data = json.dumps(result\n",
    "                         , indent = 4\n",
    "                         , sort_keys = True\n",
    "                        )"
   ]
  },
  {
   "cell_type": "code",
   "execution_count": 5,
   "metadata": {},
   "outputs": [
    {
     "name": "stdout",
     "output_type": "stream",
     "text": [
      "[\n",
      "    {\n",
      "        \"biography\": \"World's #4 Most Influential Traveler - Forbes\\n97 countries (62 w/kids)\\nAmbassador: AFAR \\n4x 2021 SATW Muster Award Winner\\n#takeyourkidseverywhere\",\n",
      "        \"blocked_by_viewer\": false,\n",
      "        \"business_category_name\": null,\n",
      "        \"business_email\": null,\n",
      "        \"category_enum\": null,\n",
      "        \"connected_fb_page\": null,\n",
      "        \"country_block\": false,\n",
      "        \"edge_felix_video_timeline\": {\n",
      "            \"count\": 0,\n",
      "            \"edges\": [],\n",
      "            \"page_info\":\n"
     ]
    }
   ],
   "source": [
    "print(parsed_data[:500])"
   ]
  },
  {
   "cell_type": "code",
   "execution_count": null,
   "metadata": {},
   "outputs": [],
   "source": []
  }
 ],
 "metadata": {
  "kernelspec": {
   "display_name": "Python 3",
   "language": "python",
   "name": "python3"
  },
  "language_info": {
   "codemirror_mode": {
    "name": "ipython",
    "version": 3
   },
   "file_extension": ".py",
   "mimetype": "text/x-python",
   "name": "python",
   "nbconvert_exporter": "python",
   "pygments_lexer": "ipython3",
   "version": "3.8.5"
  }
 },
 "nbformat": 4,
 "nbformat_minor": 4
}
