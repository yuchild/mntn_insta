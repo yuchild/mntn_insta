{
 "cells": [
  {
   "cell_type": "markdown",
   "metadata": {},
   "source": [
    "### Documentation: https://rapidapi.com/blog/instagram-api-python/"
   ]
  },
  {
   "cell_type": "code",
   "execution_count": 1,
   "metadata": {},
   "outputs": [
    {
     "data": {
      "text/plain": [
       "{'count': 3,\n",
       " 'page_info': {'has_next_page': False, 'end_cursor': None},\n",
       " 'edges': [{'node': {'comments_disabled': False,\n",
       "    '__typename': 'GraphSidecar',\n",
       "    'id': '2258459918707474312',\n",
       "    'edge_media_to_caption': {'edges': [{'node': {'text': 'Not only did we win the #virtualstarsgymnastics team competition, we also swept the event titles! \\nFX: @sammontague11 \\nPH: @james_strevey \\nSR: @nickjsmiley \\nVT: Sam Montague/Nick Smiley\\nPB: @chernando92 \\nHB: @mike.the.italian.peluso'}}]},\n",
       "    'shortcode': 'B9XqVSKBD-I',\n",
       "    'edge_media_to_comment': {'count': 4},\n",
       "    'taken_at_timestamp': 1583449424,\n",
       "    'dimensions': {'height': 750, 'width': 750},\n",
       "    'display_url': 'https://scontent-atl3-1.cdninstagram.com/v/t51.2885-15/e35/87735786_238424007191163_839654482208762354_n.jpg?_nc_ht=scontent-atl3-1.cdninstagram.com&_nc_cat=103&_nc_ohc=f-yrt6MosvUAX_1hYPG&_nc_tp=18&oh=18fe7ca2d7e349d988097646aefcbe12&oe=5F971E2E',\n",
       "    'edge_liked_by': {'count': 202},\n",
       "    'edge_media_preview_like': {'count': 202},\n",
       "    'owner': {'id': '1528942775'},\n",
       "    'thumbnail_src': 'https://scontent-atl3-1.cdninstagram.com/v/t51.2885-15/sh0.08/e35/s640x640/87735786_238424007191163_839654482208762354_n.jpg?_nc_ht=scontent-atl3-1.cdninstagram.com&_nc_cat=103&_nc_ohc=f-yrt6MosvUAX_1hYPG&_nc_tp=24&oh=d2969cebbed1ad644f09133f0f976b62&oe=5F97845F',\n",
       "    'thumbnail_resources': [{'src': 'https://scontent-atl3-1.cdninstagram.com/v/t51.2885-15/e35/s150x150/87735786_238424007191163_839654482208762354_n.jpg?_nc_ht=scontent-atl3-1.cdninstagram.com&_nc_cat=103&_nc_ohc=f-yrt6MosvUAX_1hYPG&_nc_tp=15&oh=9dcf0ed2e5d8e372a0096405c66bbd75&oe=5F97B5C0',\n",
       "      'config_width': 150,\n",
       "      'config_height': 150},\n",
       "     {'src': 'https://scontent-atl3-1.cdninstagram.com/v/t51.2885-15/e35/s240x240/87735786_238424007191163_839654482208762354_n.jpg?_nc_ht=scontent-atl3-1.cdninstagram.com&_nc_cat=103&_nc_ohc=f-yrt6MosvUAX_1hYPG&_nc_tp=15&oh=fee2b0304d3019a149e1f763ddecfc2e&oe=5F97124B',\n",
       "      'config_width': 240,\n",
       "      'config_height': 240},\n",
       "     {'src': 'https://scontent-atl3-1.cdninstagram.com/v/t51.2885-15/e35/s320x320/87735786_238424007191163_839654482208762354_n.jpg?_nc_ht=scontent-atl3-1.cdninstagram.com&_nc_cat=103&_nc_ohc=f-yrt6MosvUAX_1hYPG&_nc_tp=15&oh=de2a6ff6d3c966f13c52123a5f593476&oe=5F97A873',\n",
       "      'config_width': 320,\n",
       "      'config_height': 320},\n",
       "     {'src': 'https://scontent-atl3-1.cdninstagram.com/v/t51.2885-15/e35/s480x480/87735786_238424007191163_839654482208762354_n.jpg?_nc_ht=scontent-atl3-1.cdninstagram.com&_nc_cat=103&_nc_ohc=f-yrt6MosvUAX_1hYPG&_nc_tp=15&oh=7e6f24188acd948d3466618b3acbfcd0&oe=5F970F2F',\n",
       "      'config_width': 480,\n",
       "      'config_height': 480},\n",
       "     {'src': 'https://scontent-atl3-1.cdninstagram.com/v/t51.2885-15/sh0.08/e35/s640x640/87735786_238424007191163_839654482208762354_n.jpg?_nc_ht=scontent-atl3-1.cdninstagram.com&_nc_cat=103&_nc_ohc=f-yrt6MosvUAX_1hYPG&_nc_tp=24&oh=d2969cebbed1ad644f09133f0f976b62&oe=5F97845F',\n",
       "      'config_width': 640,\n",
       "      'config_height': 640}],\n",
       "    'is_video': False,\n",
       "    'accessibility_caption': None}},\n",
       "  {'node': {'comments_disabled': False,\n",
       "    '__typename': 'GraphVideo',\n",
       "    'id': '2257744315323613582',\n",
       "    'edge_media_to_caption': {'edges': [{'node': {'text': 'Last month we took part in (and won) the world’s first ever virtual gymnastics meet! #virtualstarsgymnastics provided us with an opportunity to compete with teams across the country without having to travel, thanks to everyone that made this innovative and unique event so successful!'}}]},\n",
       "    'shortcode': 'B9VHn4khYGO',\n",
       "    'edge_media_to_comment': {'count': 1},\n",
       "    'taken_at_timestamp': 1583364144,\n",
       "    'dimensions': {'height': 421, 'width': 750},\n",
       "    'display_url': 'https://scontent-atl3-1.cdninstagram.com/v/t51.2885-15/e35/88134989_234677814231266_8384754161248408249_n.jpg?_nc_ht=scontent-atl3-1.cdninstagram.com&_nc_cat=102&_nc_ohc=JuSZ8jgFTAkAX-05y88&_nc_tp=18&oh=3706828e3911855861547e986fea89bf&oe=5F97B18C',\n",
       "    'edge_liked_by': {'count': 218},\n",
       "    'edge_media_preview_like': {'count': 218},\n",
       "    'owner': {'id': '1528942775'},\n",
       "    'thumbnail_src': 'https://scontent-atl3-1.cdninstagram.com/v/t51.2885-15/e35/c157.0.405.405a/88134989_234677814231266_8384754161248408249_n.jpg?_nc_ht=scontent-atl3-1.cdninstagram.com&_nc_cat=102&_nc_ohc=JuSZ8jgFTAkAX-05y88&oh=733e1c7537d2e6b3d216258dab2244ef&oe=5F976444',\n",
       "    'thumbnail_resources': [{'src': 'https://scontent-atl3-1.cdninstagram.com/v/t51.2885-15/e35/c157.0.405.405a/s150x150/88134989_234677814231266_8384754161248408249_n.jpg?_nc_ht=scontent-atl3-1.cdninstagram.com&_nc_cat=102&_nc_ohc=JuSZ8jgFTAkAX-05y88&tp=16&oh=2b7e871527223171c1f6037ffe4696c5&oe=5F97A9FA',\n",
       "      'config_width': 150,\n",
       "      'config_height': 150},\n",
       "     {'src': 'https://scontent-atl3-1.cdninstagram.com/v/t51.2885-15/e35/c157.0.405.405a/s240x240/88134989_234677814231266_8384754161248408249_n.jpg?_nc_ht=scontent-atl3-1.cdninstagram.com&_nc_cat=102&_nc_ohc=JuSZ8jgFTAkAX-05y88&tp=16&oh=de9bc7ce89c7ba2c3b8a39ff2ec35305&oe=5F973534',\n",
       "      'config_width': 240,\n",
       "      'config_height': 240},\n",
       "     {'src': 'https://scontent-atl3-1.cdninstagram.com/v/t51.2885-15/e35/c157.0.405.405a/s320x320/88134989_234677814231266_8384754161248408249_n.jpg?_nc_ht=scontent-atl3-1.cdninstagram.com&_nc_cat=102&_nc_ohc=JuSZ8jgFTAkAX-05y88&tp=16&oh=70cc9182c60748d2842f5e86e423892f&oe=5F97B78A',\n",
       "      'config_width': 320,\n",
       "      'config_height': 320},\n",
       "     {'src': 'https://scontent-atl3-1.cdninstagram.com/v/t51.2885-15/e35/c157.0.405.405a/88134989_234677814231266_8384754161248408249_n.jpg?_nc_ht=scontent-atl3-1.cdninstagram.com&_nc_cat=102&_nc_ohc=JuSZ8jgFTAkAX-05y88&oh=733e1c7537d2e6b3d216258dab2244ef&oe=5F976444',\n",
       "      'config_width': 480,\n",
       "      'config_height': 480},\n",
       "     {'src': 'https://scontent-atl3-1.cdninstagram.com/v/t51.2885-15/e35/c157.0.405.405a/88134989_234677814231266_8384754161248408249_n.jpg?_nc_ht=scontent-atl3-1.cdninstagram.com&_nc_cat=102&_nc_ohc=JuSZ8jgFTAkAX-05y88&oh=733e1c7537d2e6b3d216258dab2244ef&oe=5F976444',\n",
       "      'config_width': 640,\n",
       "      'config_height': 640}],\n",
       "    'is_video': True,\n",
       "    'accessibility_caption': None,\n",
       "    'product_type': 'feed',\n",
       "    'video_view_count': 783}},\n",
       "  {'node': {'comments_disabled': False,\n",
       "    '__typename': 'GraphImage',\n",
       "    'id': '2249803045198597145',\n",
       "    'edge_media_to_caption': {'edges': [{'node': {'text': 'Last week, along with the men’s team @gymatuic , we competed in a meet called Virtual Stars which was done 100% online. “What?” Yep, 100% online, \\nIf you’re interested in seeing routines of us or other gymnasts taking part in the meet — go to YouTube and use the tag #VirtualStarsGymnastics to see them all. The days of having to do meets in person may be limited 👀 In the words of squid-ward: “fuuuutuuurrreeee”'}}]},\n",
       "    'shortcode': 'B845_Mbp4wZ',\n",
       "    'edge_media_to_comment': {'count': 0},\n",
       "    'taken_at_timestamp': 1582417444,\n",
       "    'dimensions': {'height': 750, 'width': 750},\n",
       "    'display_url': 'https://scontent-atl3-1.cdninstagram.com/v/t51.2885-15/e35/84350684_282129899418344_707816938818066146_n.jpg?_nc_ht=scontent-atl3-1.cdninstagram.com&_nc_cat=108&_nc_ohc=htw7JByB5CgAX8Xsp-b&_nc_tp=18&oh=4a2bb8a7abae5ef435afc8ba3a4b16dd&oe=5FBF9073&ig_cache_key=MjI0OTgwMzA0NTE5ODU5NzE0NQ%3D%3D.2',\n",
       "    'edge_liked_by': {'count': 40},\n",
       "    'edge_media_preview_like': {'count': 40},\n",
       "    'owner': {'id': '15884644295'},\n",
       "    'thumbnail_src': 'https://scontent-atl3-1.cdninstagram.com/v/t51.2885-15/sh0.08/e35/s640x640/84350684_282129899418344_707816938818066146_n.jpg?_nc_ht=scontent-atl3-1.cdninstagram.com&_nc_cat=108&_nc_ohc=htw7JByB5CgAX8Xsp-b&_nc_tp=24&oh=e231c3bcd7953701055cf4eb8d03ee76&oe=5FBE9B02&ig_cache_key=MjI0OTgwMzA0NTE5ODU5NzE0NQ%3D%3D.2',\n",
       "    'thumbnail_resources': [{'src': 'https://scontent-atl3-1.cdninstagram.com/v/t51.2885-15/e35/s150x150/84350684_282129899418344_707816938818066146_n.jpg?_nc_ht=scontent-atl3-1.cdninstagram.com&_nc_cat=108&_nc_ohc=htw7JByB5CgAX8Xsp-b&_nc_tp=15&oh=c95c5865ed41b772217666e8a9b59ca3&oe=5FBCB4E1&ig_cache_key=MjI0OTgwMzA0NTE5ODU5NzE0NQ%3D%3D.2',\n",
       "      'config_width': 150,\n",
       "      'config_height': 150},\n",
       "     {'src': 'https://scontent-atl3-1.cdninstagram.com/v/t51.2885-15/e35/s240x240/84350684_282129899418344_707816938818066146_n.jpg?_nc_ht=scontent-atl3-1.cdninstagram.com&_nc_cat=108&_nc_ohc=htw7JByB5CgAX8Xsp-b&_nc_tp=15&oh=a6355bb9a331588bd935809954a82363&oe=5FBF0156&ig_cache_key=MjI0OTgwMzA0NTE5ODU5NzE0NQ%3D%3D.2',\n",
       "      'config_width': 240,\n",
       "      'config_height': 240},\n",
       "     {'src': 'https://scontent-atl3-1.cdninstagram.com/v/t51.2885-15/e35/s320x320/84350684_282129899418344_707816938818066146_n.jpg?_nc_ht=scontent-atl3-1.cdninstagram.com&_nc_cat=108&_nc_ohc=htw7JByB5CgAX8Xsp-b&_nc_tp=15&oh=cd8f6e1a5e33262997d5b3fb251680e6&oe=5FC031EE&ig_cache_key=MjI0OTgwMzA0NTE5ODU5NzE0NQ%3D%3D.2',\n",
       "      'config_width': 320,\n",
       "      'config_height': 320},\n",
       "     {'src': 'https://scontent-atl3-1.cdninstagram.com/v/t51.2885-15/e35/s480x480/84350684_282129899418344_707816938818066146_n.jpg?_nc_ht=scontent-atl3-1.cdninstagram.com&_nc_cat=108&_nc_ohc=htw7JByB5CgAX8Xsp-b&_nc_tp=15&oh=a02d9092d301493f927a426dce683706&oe=5FBE1CB2&ig_cache_key=MjI0OTgwMzA0NTE5ODU5NzE0NQ%3D%3D.2',\n",
       "      'config_width': 480,\n",
       "      'config_height': 480},\n",
       "     {'src': 'https://scontent-atl3-1.cdninstagram.com/v/t51.2885-15/sh0.08/e35/s640x640/84350684_282129899418344_707816938818066146_n.jpg?_nc_ht=scontent-atl3-1.cdninstagram.com&_nc_cat=108&_nc_ohc=htw7JByB5CgAX8Xsp-b&_nc_tp=24&oh=e231c3bcd7953701055cf4eb8d03ee76&oe=5FBE9B02&ig_cache_key=MjI0OTgwMzA0NTE5ODU5NzE0NQ%3D%3D.2',\n",
       "      'config_width': 640,\n",
       "      'config_height': 640}],\n",
       "    'is_video': False,\n",
       "    'accessibility_caption': 'Photo by NIU Mens Gymnastics on February 22, 2020.'}}]}"
      ]
     },
     "execution_count": 1,
     "metadata": {},
     "output_type": "execute_result"
    }
   ],
   "source": [
    "import http.client\n",
    "import json\n",
    "\n",
    "conn = http.client.HTTPSConnection(\"instagramdimashirokovv1.p.rapidapi.com\")\n",
    "\n",
    "headers = {\n",
    "    'x-rapidapi-host': \"InstagramdimashirokovV1.p.rapidapi.com\",\n",
    "    'x-rapidapi-key': \"d8bd99579amsh60d48190a20b6d4p18dcbdjsnd5edf570cb37\",\n",
    "    'useQueryString': True\n",
    "    }\n",
    "\n",
    "conn.request(\"GET\", \"/tag/virtualstarsgymnastics/optional\", headers=headers)\n",
    "\n",
    "res = conn.getresponse()\n",
    "data = res.read()\n",
    "\n",
    "json_dictionary = json.loads(data.decode(\"utf-8\"))\n",
    "json_dictionary"
   ]
  },
  {
   "cell_type": "code",
   "execution_count": 2,
   "metadata": {},
   "outputs": [
    {
     "data": {
      "text/plain": [
       "1"
      ]
     },
     "execution_count": 2,
     "metadata": {},
     "output_type": "execute_result"
    }
   ],
   "source": [
    "len(json_dictionary)"
   ]
  },
  {
   "cell_type": "markdown",
   "metadata": {},
   "source": [
    "### Alternative Doc: https://github.com/ping/instagram_private_api"
   ]
  },
  {
   "cell_type": "code",
   "execution_count": 4,
   "metadata": {},
   "outputs": [
    {
     "name": "stdout",
     "output_type": "stream",
     "text": [
      "CEMhnLOjc-s\n"
     ]
    }
   ],
   "source": [
    "from instagram_private_api import Client, ClientCompatPatch\n",
    "\n",
    "user_name = 'tracy@phambu.com'\n",
    "password = 'SpacePants2020!@'\n",
    "\n",
    "api = Client(user_name, password)\n",
    "results = api.feed_timeline()\n",
    "items = [item for item in results.get('feed_items', [])\n",
    "         if item.get('media_or_ad')]\n",
    "for item in items:\n",
    "    # Manually patch the entity to match the public api as closely as possible, optional\n",
    "    # To automatically patch entities, initialise the Client with auto_patch=True\n",
    "    ClientCompatPatch.media(item['media_or_ad'])\n",
    "    print(item['media_or_ad']['code'])"
   ]
  },
  {
   "cell_type": "markdown",
   "metadata": {},
   "source": [
    "### possible alternative https://realpython.com/instagram-bot-python-instapy/"
   ]
  },
  {
   "cell_type": "code",
   "execution_count": 10,
   "metadata": {},
   "outputs": [],
   "source": [
    "from time import sleep"
   ]
  },
  {
   "cell_type": "code",
   "execution_count": 11,
   "metadata": {},
   "outputs": [],
   "source": [
    "from selenium import webdriver"
   ]
  },
  {
   "cell_type": "code",
   "execution_count": 12,
   "metadata": {},
   "outputs": [],
   "source": [
    "from webdriver_manager.firefox import GeckoDriverManager"
   ]
  },
  {
   "cell_type": "code",
   "execution_count": 13,
   "metadata": {
    "scrolled": true
   },
   "outputs": [
    {
     "name": "stderr",
     "output_type": "stream",
     "text": [
      "[WDM] - Driver [/home/david/.wdm/drivers/geckodriver/linux64/v0.27.0/geckodriver] found in cache\n"
     ]
    }
   ],
   "source": [
    "browser = webdriver.Firefox(executable_path = GeckoDriverManager().install())"
   ]
  },
  {
   "cell_type": "code",
   "execution_count": 19,
   "metadata": {},
   "outputs": [
    {
     "name": "stderr",
     "output_type": "stream",
     "text": [
      "[WDM] - Driver [/home/david/.wdm/drivers/geckodriver/linux64/v0.27.0/geckodriver] found in cache\n"
     ]
    }
   ],
   "source": [
    "browser = webdriver.Firefox(executable_path = GeckoDriverManager().install()) #initializes Firefox driver\n",
    "browser.get('https://www.instagram.com/') # types url into address bar and hits enter\n",
    "sleep(5) # waits five seconds\n",
    "browser.close() # closes the browser"
   ]
  },
  {
   "cell_type": "code",
   "execution_count": 27,
   "metadata": {},
   "outputs": [
    {
     "name": "stderr",
     "output_type": "stream",
     "text": [
      "[WDM] - Driver [/home/david/.wdm/drivers/geckodriver/linux64/v0.27.0/geckodriver] found in cache\n"
     ]
    }
   ],
   "source": [
    "# browser = webdriver.Firefox(executable_path = GeckoDriverManager().install())\n",
    "# browser.implicitly_wait(5)\n",
    "# browser.get('https://www.instagram.com/')\n",
    "\n",
    "# sleep(2)\n",
    "\n",
    "# username_input = browser.find_element_by_css_selector(\"input[name='username']\")\n",
    "# password_input = browser.find_element_by_css_selector(\"input[name='password']\")\n",
    "\n",
    "# username_input.send_keys('tracy@phambu.com')\n",
    "\n",
    "# sleep(1)\n",
    "\n",
    "# password_input.send_keys('SpacePants2020!@#')\n",
    "\n",
    "# sleep(1)\n",
    "\n",
    "# login_link = browser.find_element_by_xpath(\"//button[@type='submit']\")\n",
    "# login_link.click()\n",
    "\n",
    "# sleep(5)\n",
    "\n",
    "# browser.close()"
   ]
  },
  {
   "cell_type": "code",
   "execution_count": 45,
   "metadata": {},
   "outputs": [],
   "source": [
    "from page_objects import LoginPage, HomePage"
   ]
  },
  {
   "cell_type": "code",
   "execution_count": 46,
   "metadata": {},
   "outputs": [
    {
     "name": "stdout",
     "output_type": "stream",
     "text": [
      "The autoreload extension is already loaded. To reload it, use:\n",
      "  %reload_ext autoreload\n"
     ]
    }
   ],
   "source": [
    "%load_ext autoreload\n",
    "%autoreload 2"
   ]
  },
  {
   "cell_type": "code",
   "execution_count": 49,
   "metadata": {
    "scrolled": true
   },
   "outputs": [
    {
     "ename": "SyntaxError",
     "evalue": "invalid syntax (<ipython-input-49-ca164caef35f>, line 5)",
     "output_type": "error",
     "traceback": [
      "\u001b[0;36m  File \u001b[0;32m\"<ipython-input-49-ca164caef35f>\"\u001b[0;36m, line \u001b[0;32m5\u001b[0m\n\u001b[0;31m    LoginPage.login(, 'tracy@phambu.com', 'SpacePants2020!@#')\u001b[0m\n\u001b[0m                    ^\u001b[0m\n\u001b[0;31mSyntaxError\u001b[0m\u001b[0;31m:\u001b[0m invalid syntax\n"
     ]
    }
   ],
   "source": [
    "browser = webdriver.Firefox(executable_path = GeckoDriverManager().install())\n",
    "browser.implicitly_wait(5)\n",
    "\n",
    "home_page = HomePage(browser)\n",
    "LoginPage.login('tracy@phambu.com', 'SpacePants2020!@#')\n",
    "\n",
    "browser.close()"
   ]
  },
  {
   "cell_type": "code",
   "execution_count": null,
   "metadata": {},
   "outputs": [],
   "source": []
  }
 ],
 "metadata": {
  "kernelspec": {
   "display_name": "Python 3",
   "language": "python",
   "name": "python3"
  },
  "language_info": {
   "codemirror_mode": {
    "name": "ipython",
    "version": 3
   },
   "file_extension": ".py",
   "mimetype": "text/x-python",
   "name": "python",
   "nbconvert_exporter": "python",
   "pygments_lexer": "ipython3",
   "version": "3.8.5"
  }
 },
 "nbformat": 4,
 "nbformat_minor": 4
}
