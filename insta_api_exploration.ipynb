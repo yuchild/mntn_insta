{
 "cells": [
  {
   "cell_type": "markdown",
   "metadata": {},
   "source": [
    "## Use Selenium to Scrape Top Influencer User Id's"
   ]
  },
  {
   "cell_type": "code",
   "execution_count": 1,
   "metadata": {},
   "outputs": [],
   "source": [
    "# # https://towardsdatascience.com/how-to-use-selenium-to-web-scrape-with-example-80f9b23a843a\n",
    "# from selenium import webdriver\n",
    "# # pip3 install chromedriver-binary\n",
    "# import chromedriver_binary"
   ]
  },
  {
   "cell_type": "code",
   "execution_count": 2,
   "metadata": {},
   "outputs": [],
   "source": [
    "# driver = webdriver.Chrome()"
   ]
  },
  {
   "cell_type": "code",
   "execution_count": 3,
   "metadata": {},
   "outputs": [],
   "source": [
    "# driver.get('https://www.instagram.com/directory/profiles/')"
   ]
  },
  {
   "cell_type": "code",
   "execution_count": 4,
   "metadata": {},
   "outputs": [],
   "source": [
    "# driver.find_element_by_xpath(\"\"\"//*[@id=\"react-root\"]/section/main/div/div[2]/div/ul[1]/li[1]/a\"\"\").click()"
   ]
  },
  {
   "cell_type": "code",
   "execution_count": 5,
   "metadata": {},
   "outputs": [],
   "source": [
    "# driver.find_element_by_xpath(\"\"\"//*[@id=\"react-root\"]/section/main/div[1]/div[2]/div/ul[1]/li[1]/a\"\"\").click()"
   ]
  },
  {
   "cell_type": "code",
   "execution_count": 6,
   "metadata": {},
   "outputs": [],
   "source": [
    "# posts = driver.find_elements_by_class_name('_7kTyW')"
   ]
  },
  {
   "cell_type": "code",
   "execution_count": 7,
   "metadata": {
    "scrolled": true
   },
   "outputs": [],
   "source": [
    "# user_ids = []\n",
    "# for post in posts:\n",
    "#     user_ids.append(post.text)"
   ]
  },
  {
   "cell_type": "code",
   "execution_count": 8,
   "metadata": {},
   "outputs": [],
   "source": [
    "# driver.back()"
   ]
  },
  {
   "cell_type": "code",
   "execution_count": 9,
   "metadata": {},
   "outputs": [],
   "source": [
    "# driver.find_element_by_xpath(\"\"\"//*[@id=\"react-root\"]/section/main/div/div[2]/div/ul[1]/li[2]/a\"\"\").click()"
   ]
  },
  {
   "cell_type": "code",
   "execution_count": 10,
   "metadata": {},
   "outputs": [],
   "source": [
    "# posts = driver.find_elements_by_class_name('_7kTyW')"
   ]
  },
  {
   "cell_type": "code",
   "execution_count": 11,
   "metadata": {},
   "outputs": [],
   "source": [
    "# for post in posts:\n",
    "#     user_ids.append(post.text)"
   ]
  },
  {
   "cell_type": "code",
   "execution_count": 12,
   "metadata": {},
   "outputs": [],
   "source": [
    "# len(user_ids)"
   ]
  },
  {
   "cell_type": "code",
   "execution_count": 13,
   "metadata": {},
   "outputs": [],
   "source": [
    "# driver.back()"
   ]
  },
  {
   "cell_type": "markdown",
   "metadata": {},
   "source": [
    "## Automate scrapping using loops to get user_id's"
   ]
  },
  {
   "cell_type": "code",
   "execution_count": 14,
   "metadata": {},
   "outputs": [],
   "source": [
    "# from: https://www.instagram.com/directory/profiles/"
   ]
  },
  {
   "cell_type": "code",
   "execution_count": 15,
   "metadata": {},
   "outputs": [],
   "source": [
    "# main_dir1 = [str(x) for x in range(1,5)]\n",
    "# main_dir2 = [str(x) for x in range(1,26)]\n",
    "# sub_dir1 = [str(x) for x in range(1,5)]\n",
    "# sub_dir2 = [str(x) for x in range(1,4)]"
   ]
  },
  {
   "cell_type": "code",
   "execution_count": 16,
   "metadata": {},
   "outputs": [],
   "source": [
    "# def main_dir_str(x, y):\n",
    "#     \"\"\"\n",
    "#     Returns string for the argument in method driver.find_element_by_xpath()\n",
    "    \n",
    "#     Input: x, y strings for xpath locations on https://www.instagram.com/directory/profiles/\n",
    "#     Output: string for xpath\n",
    "#     \"\"\"\n",
    "#     return \"\"\"//*[@id=\"react-root\"]/section/main/div/div[2]/div/ul[\"\"\" + x + \"\"\"]/li[\"\"\" + y + \"\"\"]/a\"\"\"\n",
    "\n",
    "# def sub_dir_str(x, y):\n",
    "#     \"\"\"\n",
    "#     Returns string for the argument in method driver.find_element_by_xpath()\n",
    "    \n",
    "#     Input: x, y strings for xpath locations on https://www.instagram.com/directory/profiles/<sub dir #>/\n",
    "#     Output: string for xpath\n",
    "#     \"\"\"\n",
    "#     if x == '4':\n",
    "#         return \"\"\"//*[@id=\"react-root\"]/section/main/div/div[2]/div/ul[4]/li/a\"\"\"\n",
    "#     else:\n",
    "#         return \"\"\"//*[@id=\"react-root\"]/section/main/div/div[2]/div/ul[\"\"\" + x + \"\"\"]/li[\"\"\" + y + \"\"\"]/a\"\"\""
   ]
  },
  {
   "cell_type": "code",
   "execution_count": 17,
   "metadata": {},
   "outputs": [],
   "source": [
    "# import random\n",
    "# random.randint(6,10)/10"
   ]
  },
  {
   "cell_type": "code",
   "execution_count": 18,
   "metadata": {
    "scrolled": true
   },
   "outputs": [],
   "source": [
    "# import time\n",
    "# import random\n",
    "# user_ids = []\n",
    "# for x_main in main_dir1:\n",
    "#     for y_main in main_dir2:\n",
    "#         driver.get('https://www.instagram.com/directory/profiles/')\n",
    "#         driver.find_element_by_xpath(main_dir_str(x_main, y_main)).click()\n",
    "#         for x_sub in sub_dir1:\n",
    "#             for y_sub in sub_dir2:\n",
    "#                 time.sleep(random.randint(6,10)/10)\n",
    "#                 driver.find_element_by_xpath(sub_dir_str(x_sub, y_sub)).click()\n",
    "#                 time.sleep(random.randint(6,10)/10)\n",
    "#                 posts = driver.find_elements_by_class_name('_7kTyW')\n",
    "#                 for post in posts:\n",
    "#                     user_ids.append(post.text)\n",
    "#                 driver.back()"
   ]
  },
  {
   "cell_type": "code",
   "execution_count": 19,
   "metadata": {},
   "outputs": [],
   "source": [
    "# len(user_ids)"
   ]
  },
  {
   "cell_type": "code",
   "execution_count": 20,
   "metadata": {},
   "outputs": [],
   "source": [
    "# unique, counts = np.unique(user_ids, return_counts = True)"
   ]
  },
  {
   "cell_type": "code",
   "execution_count": 21,
   "metadata": {},
   "outputs": [],
   "source": [
    "# len(counts)"
   ]
  },
  {
   "cell_type": "code",
   "execution_count": 22,
   "metadata": {},
   "outputs": [],
   "source": [
    "# len(unique)"
   ]
  },
  {
   "cell_type": "code",
   "execution_count": 23,
   "metadata": {},
   "outputs": [],
   "source": [
    "# unique[1]"
   ]
  },
  {
   "cell_type": "code",
   "execution_count": 24,
   "metadata": {},
   "outputs": [],
   "source": [
    "# user_ids[-1]"
   ]
  },
  {
   "cell_type": "code",
   "execution_count": 25,
   "metadata": {},
   "outputs": [],
   "source": [
    "# type(unique)"
   ]
  },
  {
   "cell_type": "markdown",
   "metadata": {},
   "source": [
    "## Save Unique User Id's as .csv"
   ]
  },
  {
   "cell_type": "code",
   "execution_count": 26,
   "metadata": {},
   "outputs": [],
   "source": [
    "# from numpy import savetxt"
   ]
  },
  {
   "cell_type": "code",
   "execution_count": 27,
   "metadata": {},
   "outputs": [],
   "source": [
    "# savetxt('user_ids.csv'\n",
    "#         , unique\n",
    "#         , delimiter = ','\n",
    "#         , fmt = '%s'\n",
    "#        )"
   ]
  },
  {
   "cell_type": "markdown",
   "metadata": {},
   "source": [
    "## Load Unique User Id's"
   ]
  },
  {
   "cell_type": "code",
   "execution_count": 28,
   "metadata": {},
   "outputs": [],
   "source": [
    "from numpy import loadtxt\n",
    "import numpy as np\n",
    "import pandas as pd\n",
    "import matplotlib.pyplot as plt\n",
    "plt.style.use('fivethirtyeight')"
   ]
  },
  {
   "cell_type": "code",
   "execution_count": 29,
   "metadata": {},
   "outputs": [],
   "source": [
    "unique_ids = loadtxt('user_ids.csv'\n",
    "                     , delimiter = '\\n'\n",
    "                     , dtype = str\n",
    "                    )"
   ]
  },
  {
   "cell_type": "code",
   "execution_count": 30,
   "metadata": {},
   "outputs": [
    {
     "data": {
      "text/plain": [
       "numpy.ndarray"
      ]
     },
     "execution_count": 30,
     "metadata": {},
     "output_type": "execute_result"
    }
   ],
   "source": [
    "type(unique_ids)"
   ]
  },
  {
   "cell_type": "code",
   "execution_count": 31,
   "metadata": {},
   "outputs": [
    {
     "data": {
      "text/plain": [
       "100000"
      ]
     },
     "execution_count": 31,
     "metadata": {},
     "output_type": "execute_result"
    }
   ],
   "source": [
    "len(unique_ids)"
   ]
  },
  {
   "cell_type": "markdown",
   "metadata": {},
   "source": [
    "## Data for Multiple Users"
   ]
  },
  {
   "cell_type": "code",
   "execution_count": 32,
   "metadata": {},
   "outputs": [],
   "source": [
    "from instaloader import *\n",
    "from instaloader import Instaloader as insta"
   ]
  },
  {
   "cell_type": "code",
   "execution_count": 33,
   "metadata": {},
   "outputs": [],
   "source": [
    "# instaloader from https://instaloader.github.io/module/structures.html?highlight=get_followers#instaloader.Profile.get_followers"
   ]
  },
  {
   "cell_type": "code",
   "execution_count": 61,
   "metadata": {
    "scrolled": true
   },
   "outputs": [
    {
     "name": "stdout",
     "output_type": "stream",
     "text": [
      "\n",
      "HTTP redirect from https://www.instagram.com/graphql/query to https://www.instagram.com/accounts/login/\n"
     ]
    },
    {
     "name": "stderr",
     "output_type": "stream",
     "text": [
      "JSON Query to graphql/query: 429 Too Many Requests: redirected to login [retrying; skip with ^C]\n",
      "Requests within last 10/11/20/22/30/60 minutes grouped by type:\n",
      "                              other:    1    1    1    1    1    1\n",
      "   472f257a40c653c64c666ce877d59d2b:   28   28   28   28   28   28\n",
      "   2b0673e0dc4580674a88d426fe00ea90:    4    4    4    4    4    4\n",
      " * 97b41c52301f77ce508f55e66d17620e:    9    9    9    9    9    9\n",
      "Instagram responded with HTTP error \"429 - Too Many Requests\". Please\n",
      "do not run multiple instances of Instaloader in parallel or within\n",
      "short sequence. Also, do not use any Instagram App while Instaloader\n",
      "is running.\n",
      "The request will be retried in 646 seconds, at 09:14.\n"
     ]
    },
    {
     "name": "stdout",
     "output_type": "stream",
     "text": [
      "\n",
      "HTTP redirect from https://www.instagram.com/graphql/query to https://www.instagram.com/accounts/login/\n"
     ]
    },
    {
     "name": "stderr",
     "output_type": "stream",
     "text": [
      "JSON Query to graphql/query: 429 Too Many Requests: redirected to login [retrying; skip with ^C]\n",
      "Requests within last 10/11/20/22/30/60 minutes grouped by type:\n",
      "                              other:    0    0    1    1    1    1\n",
      "   472f257a40c653c64c666ce877d59d2b:    0    0   28   28   28   28\n",
      "   2b0673e0dc4580674a88d426fe00ea90:    0    2    4    4    4    4\n",
      " * 97b41c52301f77ce508f55e66d17620e:    1    6   10   10   10   10\n",
      "Instagram responded with HTTP error \"429 - Too Many Requests\". Please\n",
      "do not run multiple instances of Instaloader in parallel or within\n",
      "short sequence. Also, do not use any Instagram App while Instaloader\n",
      "is running.\n",
      "The request will be retried in 8 seconds, at 09:15.\n"
     ]
    },
    {
     "name": "stdout",
     "output_type": "stream",
     "text": [
      "\n",
      "HTTP redirect from https://www.instagram.com/graphql/query to https://www.instagram.com/accounts/login/\n"
     ]
    },
    {
     "ename": "ConnectionException",
     "evalue": "JSON Query to graphql/query: 429 Too Many Requests: redirected to login",
     "output_type": "error",
     "traceback": [
      "\u001b[0;31m---------------------------------------------------------------------------\u001b[0m",
      "\u001b[0;31mTooManyRequestsException\u001b[0m                  Traceback (most recent call last)",
      "\u001b[0;32m~/.local/lib/python3.8/site-packages/instaloader/instaloadercontext.py\u001b[0m in \u001b[0;36mget_json\u001b[0;34m(self, path, params, host, session, _attempt)\u001b[0m\n\u001b[1;32m    327\u001b[0m                     \u001b[0;31m# alternate rate limit exceeded behavior\u001b[0m\u001b[0;34m\u001b[0m\u001b[0;34m\u001b[0m\u001b[0;34m\u001b[0m\u001b[0m\n\u001b[0;32m--> 328\u001b[0;31m                     \u001b[0;32mraise\u001b[0m \u001b[0mTooManyRequestsException\u001b[0m\u001b[0;34m(\u001b[0m\u001b[0;34m\"429 Too Many Requests: redirected to login\"\u001b[0m\u001b[0;34m)\u001b[0m\u001b[0;34m\u001b[0m\u001b[0;34m\u001b[0m\u001b[0m\n\u001b[0m\u001b[1;32m    329\u001b[0m                 \u001b[0;32mif\u001b[0m \u001b[0mredirect_url\u001b[0m\u001b[0;34m.\u001b[0m\u001b[0mstartswith\u001b[0m\u001b[0;34m(\u001b[0m\u001b[0;34m'https://{}/'\u001b[0m\u001b[0;34m.\u001b[0m\u001b[0mformat\u001b[0m\u001b[0;34m(\u001b[0m\u001b[0mhost\u001b[0m\u001b[0;34m)\u001b[0m\u001b[0;34m)\u001b[0m\u001b[0;34m:\u001b[0m\u001b[0;34m\u001b[0m\u001b[0;34m\u001b[0m\u001b[0m\n",
      "\u001b[0;31mTooManyRequestsException\u001b[0m: 429 Too Many Requests: redirected to login",
      "\nDuring handling of the above exception, another exception occurred:\n",
      "\u001b[0;31mTooManyRequestsException\u001b[0m                  Traceback (most recent call last)",
      "\u001b[0;32m~/.local/lib/python3.8/site-packages/instaloader/instaloadercontext.py\u001b[0m in \u001b[0;36mget_json\u001b[0;34m(self, path, params, host, session, _attempt)\u001b[0m\n\u001b[1;32m    327\u001b[0m                     \u001b[0;31m# alternate rate limit exceeded behavior\u001b[0m\u001b[0;34m\u001b[0m\u001b[0;34m\u001b[0m\u001b[0;34m\u001b[0m\u001b[0m\n\u001b[0;32m--> 328\u001b[0;31m                     \u001b[0;32mraise\u001b[0m \u001b[0mTooManyRequestsException\u001b[0m\u001b[0;34m(\u001b[0m\u001b[0;34m\"429 Too Many Requests: redirected to login\"\u001b[0m\u001b[0;34m)\u001b[0m\u001b[0;34m\u001b[0m\u001b[0;34m\u001b[0m\u001b[0m\n\u001b[0m\u001b[1;32m    329\u001b[0m                 \u001b[0;32mif\u001b[0m \u001b[0mredirect_url\u001b[0m\u001b[0;34m.\u001b[0m\u001b[0mstartswith\u001b[0m\u001b[0;34m(\u001b[0m\u001b[0;34m'https://{}/'\u001b[0m\u001b[0;34m.\u001b[0m\u001b[0mformat\u001b[0m\u001b[0;34m(\u001b[0m\u001b[0mhost\u001b[0m\u001b[0;34m)\u001b[0m\u001b[0;34m)\u001b[0m\u001b[0;34m:\u001b[0m\u001b[0;34m\u001b[0m\u001b[0;34m\u001b[0m\u001b[0m\n",
      "\u001b[0;31mTooManyRequestsException\u001b[0m: 429 Too Many Requests: redirected to login",
      "\nDuring handling of the above exception, another exception occurred:\n",
      "\u001b[0;31mTooManyRequestsException\u001b[0m                  Traceback (most recent call last)",
      "\u001b[0;32m~/.local/lib/python3.8/site-packages/instaloader/instaloadercontext.py\u001b[0m in \u001b[0;36mget_json\u001b[0;34m(self, path, params, host, session, _attempt)\u001b[0m\n\u001b[1;32m    327\u001b[0m                     \u001b[0;31m# alternate rate limit exceeded behavior\u001b[0m\u001b[0;34m\u001b[0m\u001b[0;34m\u001b[0m\u001b[0;34m\u001b[0m\u001b[0m\n\u001b[0;32m--> 328\u001b[0;31m                     \u001b[0;32mraise\u001b[0m \u001b[0mTooManyRequestsException\u001b[0m\u001b[0;34m(\u001b[0m\u001b[0;34m\"429 Too Many Requests: redirected to login\"\u001b[0m\u001b[0;34m)\u001b[0m\u001b[0;34m\u001b[0m\u001b[0;34m\u001b[0m\u001b[0m\n\u001b[0m\u001b[1;32m    329\u001b[0m                 \u001b[0;32mif\u001b[0m \u001b[0mredirect_url\u001b[0m\u001b[0;34m.\u001b[0m\u001b[0mstartswith\u001b[0m\u001b[0;34m(\u001b[0m\u001b[0;34m'https://{}/'\u001b[0m\u001b[0;34m.\u001b[0m\u001b[0mformat\u001b[0m\u001b[0;34m(\u001b[0m\u001b[0mhost\u001b[0m\u001b[0;34m)\u001b[0m\u001b[0;34m)\u001b[0m\u001b[0;34m:\u001b[0m\u001b[0;34m\u001b[0m\u001b[0;34m\u001b[0m\u001b[0m\n",
      "\u001b[0;31mTooManyRequestsException\u001b[0m: 429 Too Many Requests: redirected to login",
      "\nThe above exception was the direct cause of the following exception:\n",
      "\u001b[0;31mConnectionException\u001b[0m                       Traceback (most recent call last)",
      "\u001b[0;32m<ipython-input-61-4844a129f819>\u001b[0m in \u001b[0;36m<module>\u001b[0;34m\u001b[0m\n\u001b[1;32m     15\u001b[0m \u001b[0mtxt\u001b[0m \u001b[0;34m=\u001b[0m \u001b[0;34m[\u001b[0m\u001b[0;34m]\u001b[0m\u001b[0;34m\u001b[0m\u001b[0;34m\u001b[0m\u001b[0m\n\u001b[1;32m     16\u001b[0m \u001b[0;32mfor\u001b[0m \u001b[0mpost\u001b[0m \u001b[0;32min\u001b[0m \u001b[0mislice\u001b[0m\u001b[0;34m(\u001b[0m\u001b[0mposts_sorted_by_likes\u001b[0m\u001b[0;34m,\u001b[0m \u001b[0mceil\u001b[0m\u001b[0;34m(\u001b[0m\u001b[0mprofile\u001b[0m\u001b[0;34m.\u001b[0m\u001b[0mmediacount\u001b[0m \u001b[0;34m*\u001b[0m \u001b[0mX_percentage\u001b[0m \u001b[0;34m/\u001b[0m \u001b[0;36m100\u001b[0m\u001b[0;34m)\u001b[0m\u001b[0;34m)\u001b[0m\u001b[0;34m:\u001b[0m\u001b[0;34m\u001b[0m\u001b[0;34m\u001b[0m\u001b[0m\n\u001b[0;32m---> 17\u001b[0;31m     \u001b[0;32mfor\u001b[0m \u001b[0mc\u001b[0m \u001b[0;32min\u001b[0m \u001b[0mpost\u001b[0m\u001b[0;34m.\u001b[0m\u001b[0mget_comments\u001b[0m\u001b[0;34m(\u001b[0m\u001b[0;34m)\u001b[0m\u001b[0;34m:\u001b[0m\u001b[0;34m\u001b[0m\u001b[0;34m\u001b[0m\u001b[0m\n\u001b[0m\u001b[1;32m     18\u001b[0m         \u001b[0mtxt\u001b[0m\u001b[0;34m.\u001b[0m\u001b[0mappend\u001b[0m\u001b[0;34m(\u001b[0m\u001b[0mc\u001b[0m\u001b[0;34m.\u001b[0m\u001b[0mtext\u001b[0m\u001b[0;34m)\u001b[0m\u001b[0;34m\u001b[0m\u001b[0;34m\u001b[0m\u001b[0m\n",
      "\u001b[0;32m~/.local/lib/python3.8/site-packages/instaloader/structures.py\u001b[0m in \u001b[0;36mget_comments\u001b[0;34m(self)\u001b[0m\n\u001b[1;32m    426\u001b[0m             \u001b[0;32myield\u001b[0m \u001b[0;32mfrom\u001b[0m \u001b[0;34m(\u001b[0m\u001b[0m_postcomment\u001b[0m\u001b[0;34m(\u001b[0m\u001b[0mcomment\u001b[0m\u001b[0;34m[\u001b[0m\u001b[0;34m'node'\u001b[0m\u001b[0;34m]\u001b[0m\u001b[0;34m)\u001b[0m \u001b[0;32mfor\u001b[0m \u001b[0mcomment\u001b[0m \u001b[0;32min\u001b[0m \u001b[0mcomment_edges\u001b[0m\u001b[0;34m)\u001b[0m\u001b[0;34m\u001b[0m\u001b[0;34m\u001b[0m\u001b[0m\n\u001b[1;32m    427\u001b[0m             \u001b[0;32mreturn\u001b[0m\u001b[0;34m\u001b[0m\u001b[0;34m\u001b[0m\u001b[0m\n\u001b[0;32m--> 428\u001b[0;31m         yield from NodeIterator(\n\u001b[0m\u001b[1;32m    429\u001b[0m             \u001b[0mself\u001b[0m\u001b[0;34m.\u001b[0m\u001b[0m_context\u001b[0m\u001b[0;34m,\u001b[0m\u001b[0;34m\u001b[0m\u001b[0;34m\u001b[0m\u001b[0m\n\u001b[1;32m    430\u001b[0m             \u001b[0;34m'97b41c52301f77ce508f55e66d17620e'\u001b[0m\u001b[0;34m,\u001b[0m\u001b[0;34m\u001b[0m\u001b[0;34m\u001b[0m\u001b[0m\n",
      "\u001b[0;32m~/.local/lib/python3.8/site-packages/instaloader/nodeiterator.py\u001b[0m in \u001b[0;36m__next__\u001b[0;34m(self)\u001b[0m\n\u001b[1;32m    127\u001b[0m             \u001b[0;32mreturn\u001b[0m \u001b[0mself\u001b[0m\u001b[0;34m.\u001b[0m\u001b[0m_node_wrapper\u001b[0m\u001b[0;34m(\u001b[0m\u001b[0mnode\u001b[0m\u001b[0;34m)\u001b[0m\u001b[0;34m\u001b[0m\u001b[0;34m\u001b[0m\u001b[0m\n\u001b[1;32m    128\u001b[0m         \u001b[0;32mif\u001b[0m \u001b[0mself\u001b[0m\u001b[0;34m.\u001b[0m\u001b[0m_data\u001b[0m\u001b[0;34m[\u001b[0m\u001b[0;34m'page_info'\u001b[0m\u001b[0;34m]\u001b[0m\u001b[0;34m[\u001b[0m\u001b[0;34m'has_next_page'\u001b[0m\u001b[0;34m]\u001b[0m\u001b[0;34m:\u001b[0m\u001b[0;34m\u001b[0m\u001b[0;34m\u001b[0m\u001b[0m\n\u001b[0;32m--> 129\u001b[0;31m             \u001b[0mquery_response\u001b[0m \u001b[0;34m=\u001b[0m \u001b[0mself\u001b[0m\u001b[0;34m.\u001b[0m\u001b[0m_query\u001b[0m\u001b[0;34m(\u001b[0m\u001b[0mself\u001b[0m\u001b[0;34m.\u001b[0m\u001b[0m_data\u001b[0m\u001b[0;34m[\u001b[0m\u001b[0;34m'page_info'\u001b[0m\u001b[0;34m]\u001b[0m\u001b[0;34m[\u001b[0m\u001b[0;34m'end_cursor'\u001b[0m\u001b[0;34m]\u001b[0m\u001b[0;34m)\u001b[0m\u001b[0;34m\u001b[0m\u001b[0;34m\u001b[0m\u001b[0m\n\u001b[0m\u001b[1;32m    130\u001b[0m             \u001b[0mpage_index\u001b[0m\u001b[0;34m,\u001b[0m \u001b[0mdata\u001b[0m \u001b[0;34m=\u001b[0m \u001b[0mself\u001b[0m\u001b[0;34m.\u001b[0m\u001b[0m_page_index\u001b[0m\u001b[0;34m,\u001b[0m \u001b[0mself\u001b[0m\u001b[0;34m.\u001b[0m\u001b[0m_data\u001b[0m\u001b[0;34m\u001b[0m\u001b[0;34m\u001b[0m\u001b[0m\n\u001b[1;32m    131\u001b[0m             \u001b[0;32mtry\u001b[0m\u001b[0;34m:\u001b[0m\u001b[0;34m\u001b[0m\u001b[0;34m\u001b[0m\u001b[0m\n",
      "\u001b[0;32m~/.local/lib/python3.8/site-packages/instaloader/nodeiterator.py\u001b[0m in \u001b[0;36m_query\u001b[0;34m(self, after)\u001b[0m\n\u001b[1;32m     96\u001b[0m         \u001b[0;32mtry\u001b[0m\u001b[0;34m:\u001b[0m\u001b[0;34m\u001b[0m\u001b[0;34m\u001b[0m\u001b[0m\n\u001b[1;32m     97\u001b[0m             data = self._edge_extractor(\n\u001b[0;32m---> 98\u001b[0;31m                 self._context.graphql_query(\n\u001b[0m\u001b[1;32m     99\u001b[0m                     \u001b[0mself\u001b[0m\u001b[0;34m.\u001b[0m\u001b[0m_query_hash\u001b[0m\u001b[0;34m,\u001b[0m \u001b[0;34m{\u001b[0m\u001b[0;34m**\u001b[0m\u001b[0mself\u001b[0m\u001b[0;34m.\u001b[0m\u001b[0m_query_variables\u001b[0m\u001b[0;34m,\u001b[0m \u001b[0;34m**\u001b[0m\u001b[0mpagination_variables\u001b[0m\u001b[0;34m}\u001b[0m\u001b[0;34m,\u001b[0m \u001b[0mself\u001b[0m\u001b[0;34m.\u001b[0m\u001b[0m_query_referer\u001b[0m\u001b[0;34m\u001b[0m\u001b[0;34m\u001b[0m\u001b[0m\n\u001b[1;32m    100\u001b[0m                 )\n",
      "\u001b[0;32m~/.local/lib/python3.8/site-packages/instaloader/instaloadercontext.py\u001b[0m in \u001b[0;36mgraphql_query\u001b[0;34m(self, query_hash, variables, referer, rhx_gis)\u001b[0m\n\u001b[1;32m    416\u001b[0m                 \u001b[0mtmpsession\u001b[0m\u001b[0;34m.\u001b[0m\u001b[0mheaders\u001b[0m\u001b[0;34m[\u001b[0m\u001b[0;34m'x-instagram-gis'\u001b[0m\u001b[0;34m]\u001b[0m \u001b[0;34m=\u001b[0m \u001b[0mx_instagram_gis\u001b[0m\u001b[0;34m\u001b[0m\u001b[0;34m\u001b[0m\u001b[0m\n\u001b[1;32m    417\u001b[0m \u001b[0;34m\u001b[0m\u001b[0m\n\u001b[0;32m--> 418\u001b[0;31m             resp_json = self.get_json('graphql/query',\n\u001b[0m\u001b[1;32m    419\u001b[0m                                       params={'query_hash': query_hash,\n\u001b[1;32m    420\u001b[0m                                               'variables': variables_json},\n",
      "\u001b[0;32m~/.local/lib/python3.8/site-packages/instaloader/instaloadercontext.py\u001b[0m in \u001b[0;36mget_json\u001b[0;34m(self, path, params, host, session, _attempt)\u001b[0m\n\u001b[1;32m    382\u001b[0m                     \u001b[0;32mif\u001b[0m \u001b[0mis_other_query\u001b[0m\u001b[0;34m:\u001b[0m\u001b[0;34m\u001b[0m\u001b[0;34m\u001b[0m\u001b[0m\n\u001b[1;32m    383\u001b[0m                         \u001b[0mself\u001b[0m\u001b[0;34m.\u001b[0m\u001b[0m_rate_controller\u001b[0m\u001b[0;34m.\u001b[0m\u001b[0mhandle_429\u001b[0m\u001b[0;34m(\u001b[0m\u001b[0;34m'other'\u001b[0m\u001b[0;34m)\u001b[0m\u001b[0;34m\u001b[0m\u001b[0;34m\u001b[0m\u001b[0m\n\u001b[0;32m--> 384\u001b[0;31m                 \u001b[0;32mreturn\u001b[0m \u001b[0mself\u001b[0m\u001b[0;34m.\u001b[0m\u001b[0mget_json\u001b[0m\u001b[0;34m(\u001b[0m\u001b[0mpath\u001b[0m\u001b[0;34m=\u001b[0m\u001b[0mpath\u001b[0m\u001b[0;34m,\u001b[0m \u001b[0mparams\u001b[0m\u001b[0;34m=\u001b[0m\u001b[0mparams\u001b[0m\u001b[0;34m,\u001b[0m \u001b[0mhost\u001b[0m\u001b[0;34m=\u001b[0m\u001b[0mhost\u001b[0m\u001b[0;34m,\u001b[0m \u001b[0msession\u001b[0m\u001b[0;34m=\u001b[0m\u001b[0msess\u001b[0m\u001b[0;34m,\u001b[0m \u001b[0m_attempt\u001b[0m\u001b[0;34m=\u001b[0m\u001b[0m_attempt\u001b[0m \u001b[0;34m+\u001b[0m \u001b[0;36m1\u001b[0m\u001b[0;34m)\u001b[0m\u001b[0;34m\u001b[0m\u001b[0;34m\u001b[0m\u001b[0m\n\u001b[0m\u001b[1;32m    385\u001b[0m             \u001b[0;32mexcept\u001b[0m \u001b[0mKeyboardInterrupt\u001b[0m\u001b[0;34m:\u001b[0m\u001b[0;34m\u001b[0m\u001b[0;34m\u001b[0m\u001b[0m\n\u001b[1;32m    386\u001b[0m                 \u001b[0mself\u001b[0m\u001b[0;34m.\u001b[0m\u001b[0merror\u001b[0m\u001b[0;34m(\u001b[0m\u001b[0;34m\"[skipped by user]\"\u001b[0m\u001b[0;34m,\u001b[0m \u001b[0mrepeat_at_end\u001b[0m\u001b[0;34m=\u001b[0m\u001b[0;32mFalse\u001b[0m\u001b[0;34m)\u001b[0m\u001b[0;34m\u001b[0m\u001b[0;34m\u001b[0m\u001b[0m\n",
      "\u001b[0;32m~/.local/lib/python3.8/site-packages/instaloader/instaloadercontext.py\u001b[0m in \u001b[0;36mget_json\u001b[0;34m(self, path, params, host, session, _attempt)\u001b[0m\n\u001b[1;32m    382\u001b[0m                     \u001b[0;32mif\u001b[0m \u001b[0mis_other_query\u001b[0m\u001b[0;34m:\u001b[0m\u001b[0;34m\u001b[0m\u001b[0;34m\u001b[0m\u001b[0m\n\u001b[1;32m    383\u001b[0m                         \u001b[0mself\u001b[0m\u001b[0;34m.\u001b[0m\u001b[0m_rate_controller\u001b[0m\u001b[0;34m.\u001b[0m\u001b[0mhandle_429\u001b[0m\u001b[0;34m(\u001b[0m\u001b[0;34m'other'\u001b[0m\u001b[0;34m)\u001b[0m\u001b[0;34m\u001b[0m\u001b[0;34m\u001b[0m\u001b[0m\n\u001b[0;32m--> 384\u001b[0;31m                 \u001b[0;32mreturn\u001b[0m \u001b[0mself\u001b[0m\u001b[0;34m.\u001b[0m\u001b[0mget_json\u001b[0m\u001b[0;34m(\u001b[0m\u001b[0mpath\u001b[0m\u001b[0;34m=\u001b[0m\u001b[0mpath\u001b[0m\u001b[0;34m,\u001b[0m \u001b[0mparams\u001b[0m\u001b[0;34m=\u001b[0m\u001b[0mparams\u001b[0m\u001b[0;34m,\u001b[0m \u001b[0mhost\u001b[0m\u001b[0;34m=\u001b[0m\u001b[0mhost\u001b[0m\u001b[0;34m,\u001b[0m \u001b[0msession\u001b[0m\u001b[0;34m=\u001b[0m\u001b[0msess\u001b[0m\u001b[0;34m,\u001b[0m \u001b[0m_attempt\u001b[0m\u001b[0;34m=\u001b[0m\u001b[0m_attempt\u001b[0m \u001b[0;34m+\u001b[0m \u001b[0;36m1\u001b[0m\u001b[0;34m)\u001b[0m\u001b[0;34m\u001b[0m\u001b[0;34m\u001b[0m\u001b[0m\n\u001b[0m\u001b[1;32m    385\u001b[0m             \u001b[0;32mexcept\u001b[0m \u001b[0mKeyboardInterrupt\u001b[0m\u001b[0;34m:\u001b[0m\u001b[0;34m\u001b[0m\u001b[0;34m\u001b[0m\u001b[0m\n\u001b[1;32m    386\u001b[0m                 \u001b[0mself\u001b[0m\u001b[0;34m.\u001b[0m\u001b[0merror\u001b[0m\u001b[0;34m(\u001b[0m\u001b[0;34m\"[skipped by user]\"\u001b[0m\u001b[0;34m,\u001b[0m \u001b[0mrepeat_at_end\u001b[0m\u001b[0;34m=\u001b[0m\u001b[0;32mFalse\u001b[0m\u001b[0;34m)\u001b[0m\u001b[0;34m\u001b[0m\u001b[0;34m\u001b[0m\u001b[0m\n",
      "\u001b[0;32m~/.local/lib/python3.8/site-packages/instaloader/instaloadercontext.py\u001b[0m in \u001b[0;36mget_json\u001b[0;34m(self, path, params, host, session, _attempt)\u001b[0m\n\u001b[1;32m    372\u001b[0m                     \u001b[0;32mraise\u001b[0m \u001b[0mQueryReturnedNotFoundException\u001b[0m\u001b[0;34m(\u001b[0m\u001b[0merror_string\u001b[0m\u001b[0;34m)\u001b[0m \u001b[0;32mfrom\u001b[0m \u001b[0merr\u001b[0m\u001b[0;34m\u001b[0m\u001b[0;34m\u001b[0m\u001b[0m\n\u001b[1;32m    373\u001b[0m                 \u001b[0;32melse\u001b[0m\u001b[0;34m:\u001b[0m\u001b[0;34m\u001b[0m\u001b[0;34m\u001b[0m\u001b[0m\n\u001b[0;32m--> 374\u001b[0;31m                     \u001b[0;32mraise\u001b[0m \u001b[0mConnectionException\u001b[0m\u001b[0;34m(\u001b[0m\u001b[0merror_string\u001b[0m\u001b[0;34m)\u001b[0m \u001b[0;32mfrom\u001b[0m \u001b[0merr\u001b[0m\u001b[0;34m\u001b[0m\u001b[0;34m\u001b[0m\u001b[0m\n\u001b[0m\u001b[1;32m    375\u001b[0m             \u001b[0mself\u001b[0m\u001b[0;34m.\u001b[0m\u001b[0merror\u001b[0m\u001b[0;34m(\u001b[0m\u001b[0merror_string\u001b[0m \u001b[0;34m+\u001b[0m \u001b[0;34m\" [retrying; skip with ^C]\"\u001b[0m\u001b[0;34m,\u001b[0m \u001b[0mrepeat_at_end\u001b[0m\u001b[0;34m=\u001b[0m\u001b[0;32mFalse\u001b[0m\u001b[0;34m)\u001b[0m\u001b[0;34m\u001b[0m\u001b[0;34m\u001b[0m\u001b[0m\n\u001b[1;32m    376\u001b[0m             \u001b[0;32mtry\u001b[0m\u001b[0;34m:\u001b[0m\u001b[0;34m\u001b[0m\u001b[0;34m\u001b[0m\u001b[0m\n",
      "\u001b[0;31mConnectionException\u001b[0m: JSON Query to graphql/query: 429 Too Many Requests: redirected to login"
     ]
    }
   ],
   "source": [
    "from itertools import islice\n",
    "from math import ceil\n",
    "\n",
    "PROFILE = 'CLAIRE_MOST' # profile to download from\n",
    "\n",
    "profile = instaloader.Profile.from_username(bot.context, PROFILE)\n",
    "\n",
    "X_percentage = 2 # percentage of posts that should be downloaded\n",
    "\n",
    "post = profile.get_posts()\n",
    "\n",
    "posts_sorted_by_likes = sorted(post,\n",
    "                               key=lambda p: p.likes + p.comments,\n",
    "                               reverse=True)\n",
    "txt = []\n",
    "for post in islice(posts_sorted_by_likes, ceil(profile.mediacount * X_percentage / 100)):\n",
    "    for c in post.get_comments():\n",
    "        txt.append(c.text)"
   ]
  },
  {
   "cell_type": "code",
   "execution_count": null,
   "metadata": {},
   "outputs": [],
   "source": []
  },
  {
   "cell_type": "code",
   "execution_count": null,
   "metadata": {},
   "outputs": [],
   "source": []
  },
  {
   "cell_type": "markdown",
   "metadata": {},
   "source": [
    "## Getting Comments, get a few potential users..."
   ]
  },
  {
   "cell_type": "code",
   "execution_count": 60,
   "metadata": {},
   "outputs": [],
   "source": [
    "bot = instaloader.Instaloader()\n",
    "# bot.login('user', 'pass')"
   ]
  },
  {
   "cell_type": "code",
   "execution_count": 57,
   "metadata": {},
   "outputs": [
    {
     "data": {
      "text/plain": [
       "['shades😎',\n",
       " '😍😍',\n",
       " 'MOOD 😍✨',\n",
       " 'I love you',\n",
       " 'So cute 💛',\n",
       " '🦋😍✨',\n",
       " 'Mood',\n",
       " 'She favors MC Lyte',\n",
       " '😍',\n",
       " 'you’re everything wow 😩']"
      ]
     },
     "execution_count": 57,
     "metadata": {},
     "output_type": "execute_result"
    }
   ],
   "source": [
    "txt[:10]"
   ]
  },
  {
   "cell_type": "code",
   "execution_count": 58,
   "metadata": {},
   "outputs": [
    {
     "data": {
      "text/plain": [
       "1896"
      ]
     },
     "execution_count": 58,
     "metadata": {},
     "output_type": "execute_result"
    }
   ],
   "source": [
    "len(txt)"
   ]
  },
  {
   "cell_type": "code",
   "execution_count": null,
   "metadata": {},
   "outputs": [],
   "source": []
  },
  {
   "cell_type": "code",
   "execution_count": null,
   "metadata": {},
   "outputs": [],
   "source": []
  },
  {
   "cell_type": "code",
   "execution_count": null,
   "metadata": {},
   "outputs": [],
   "source": []
  },
  {
   "cell_type": "code",
   "execution_count": null,
   "metadata": {},
   "outputs": [],
   "source": []
  },
  {
   "cell_type": "code",
   "execution_count": null,
   "metadata": {},
   "outputs": [],
   "source": []
  },
  {
   "cell_type": "code",
   "execution_count": null,
   "metadata": {},
   "outputs": [],
   "source": []
  },
  {
   "cell_type": "code",
   "execution_count": null,
   "metadata": {},
   "outputs": [],
   "source": []
  },
  {
   "cell_type": "code",
   "execution_count": 34,
   "metadata": {},
   "outputs": [],
   "source": [
    "def download_instaloader(lst):\n",
    "    \"\"\"\n",
    "    Returns list of dictonaries of user profile information\n",
    "    Input: lst, list of user id strings\n",
    "    Output: lst, list of scrapped user id string\n",
    "            lst_dict, list of scrapped user profile dictionary\n",
    "    \"\"\"\n",
    "    import instaloader\n",
    "    import time\n",
    "    import random\n",
    "    bot = instaloader.Instaloader()\n",
    "    # for private profiles\n",
    "    bot.login('user'\n",
    "              , 'pass'\n",
    "             )\n",
    "    lst_dict = []\n",
    "    name_lst = []\n",
    "    for userid in lst:\n",
    "        try:\n",
    "            name_lst.append(userid)\n",
    "            time.sleep(random.randint(3,9)/10)\n",
    "            profile = Profile.from_username(bot.context, userid)\n",
    "            lst_dict.append({'user_name': profile.username\n",
    "                              , 'user_id': profile.userid\n",
    "                              , 'private': profile.is_private\n",
    "                              , 'followed': profile.followed_by_viewer\n",
    "                              , 'post_count': profile.mediacount\n",
    "                              , 'igtv_count': profile.igtvcount\n",
    "                              , 'followers_count': profile.followers\n",
    "                              , 'following_count': profile.followees\n",
    "                              , 'external_url': profile.external_url\n",
    "                              , 'business_acct': profile.is_business_account\n",
    "                              , 'business_cat': profile.business_category_name\n",
    "                              , 'bio': profile.biography\n",
    "                              , 'blocked_by_viewers': profile.blocked_by_viewer\n",
    "                              , 'follows': profile.follows_viewer\n",
    "                              , 'full_name': profile.full_name\n",
    "                              , 'blocked_viewers': profile.has_blocked_viewer\n",
    "                              , 'public_story': profile.has_public_story\n",
    "                              , 'requested_viewer': profile.has_requested_viewer\n",
    "                              , 'profile_pic_url': profile.profile_pic_url\n",
    "                              , 'similar_accounts': {x for x in profile.get_similar_accounts()}\n",
    "                             })\n",
    "        except:\n",
    "            name_lst.remove(userid)\n",
    "            continue\n",
    "    return name_lst, lst_dict "
   ]
  },
  {
   "cell_type": "code",
   "execution_count": 61,
   "metadata": {},
   "outputs": [],
   "source": [
    "# A&E 100 Fashion Influencers from: https://www.amraandelma.com/100-top-fashion-influencers-in-2020/\n",
    "# ae_list = ['COLESPROUSE'\n",
    "# , 'CHIARAFERRAGNI'\n",
    "# , 'CAMILACOELHO'\n",
    "# , 'LAURENCONRAD'\n",
    "# , 'AIMEESONG'\n",
    "# , 'NEGIN_MIRSALEHI'\n",
    "# , 'SINCERELYJULES'\n",
    "# , 'OLIVIAPALERMO'\n",
    "# , 'ALEXACHUNG'\n",
    "# , 'KARENWAZEN'\n",
    "# , 'CARODAUR'\n",
    "# , 'LEONIEHANNE'\n",
    "# , 'WEWOREWHAT'\n",
    "# , 'LENAPERMINOVA'\n",
    "# , 'IAMGALLA'\n",
    "# , 'NICOLEWARNE'\n",
    "# , 'IRENEISGOOD'\n",
    "# , 'IMJENNIM'\n",
    "# , 'BLAIREADIEBEE'\n",
    "# , 'XENIAADONTS'\n",
    "# , 'JEANNEDAMAS'\n",
    "# , 'CHRISELLELIM'\n",
    "# , 'JULIABEROLZHEIMER'\n",
    "# , 'XENIA'\n",
    "# , 'MARGARET__ZHANG'\n",
    "# , 'GALAGONZALEZ'\n",
    "# , 'MVB'\n",
    "# , 'WENDYSLOOKBOOK'\n",
    "# , 'HELENABORDON'\n",
    "# , 'LEANDRAMCOHEN'\n",
    "# , 'KAITLYNN'\n",
    "# , 'MIAMIAMINE'\n",
    "# , 'CAMILLECHARRIERE'\n",
    "# , 'GIOVANNAENGELBERT'\n",
    "# , 'THEPACMAN82'\n",
    "# , 'CLUBFASHIONISTA'\n",
    "# , 'GABIFRESH'\n",
    "# , 'GARANCEDORE'\n",
    "# , 'ELMABEGANOVICH'\n",
    "# , 'ICONACCIDENTAL'\n",
    "# , 'COLORMECOURTNEY'\n",
    "# , 'ELLE_FERGUSON'\n",
    "# , 'RUMINEELY'\n",
    "# , 'NIMABENATI'\n",
    "# , 'EMMAHILL'\n",
    "# , 'BRYANBOYCOM' # doesn't work\n",
    "# , 'CANDELA_________'\n",
    "# , 'BIANCABRANDOLINI'\n",
    "# , 'SUSIEBUBBLE'\n",
    "# , 'ERIKA_BOLDRIN'\n",
    "# , 'MARYCAKE'\n",
    "# , 'ALEALIMAY'\n",
    "# , 'NYCBAMBI'\n",
    "# , 'NEWDARLINGS'\n",
    "# , 'MIRANDAMAKAROFF'\n",
    "# , 'YOYOKULALA'\n",
    "# , 'LEOMIEANDERSON'\n",
    "# , 'STYLEMEMAEVE'\n",
    "# , 'DEBORABROSA'\n",
    "# , 'SOPHIAROE'\n",
    "# , 'MAJAWYH'\n",
    "# , 'HEIR'\n",
    "# , 'ALEXANDRALAPP_'\n",
    "# , 'GRECEGHANEM'\n",
    "# , 'TINALEUNG'\n",
    "# , 'ASIYAMI_GOLD'\n",
    "# , 'TAMUMCPHERSON'\n",
    "# , 'OLJARYZ'\n",
    "# , '_JEANETTEMADSEN_'\n",
    "# , 'INESDELAFRESSANGEOFFICIAL'\n",
    "# , 'AMINAMUADDI'\n",
    "# , 'NIKITADMADHANI'\n",
    "# , 'LIFEOFBOHEME'\n",
    "# , 'SHINI.PARK'\n",
    "# , 'PANDORASYKES'\n",
    "# , 'MATTHEWZORPAS'\n",
    "# , 'NICOLETTEMASON'\n",
    "# , 'DOUBLE3XPOSURE'\n",
    "# , 'MONIKH'\n",
    "# , 'THEFRUGALITY'\n",
    "# , 'LEFEVREDIARY'\n",
    "# , 'THENOTORIOUSKIA'\n",
    "# , 'MADELYNNFURLONG'\n",
    "# , 'KARENBRITCHICK'\n",
    "# , 'THELITTLEMAGPIE'\n",
    "# , 'BIGHAIRLOUDMOUTH'\n",
    "# , 'CHRISSYFORD'\n",
    "# , 'CARLOTTAODDI'\n",
    "# , 'TYLYNNNGUYEN'\n",
    "# , 'STEPHANIEBROEK'\n",
    "# , 'ITSMEKELLIEB'\n",
    "# , 'STYLISHCURVES'\n",
    "# , 'GUIZIOO'\n",
    "# , 'STEPHANIEYEBOAH'\n",
    "# , 'GEMMATALBOT'\n",
    "# , 'KERRYPIERI'\n",
    "# , 'INFLUENCINGINCOLOR'\n",
    "# , 'CLAIRE_MOST'\n",
    "# , 'ARIADIBARI'\n",
    "# , 'PRETTYPROPERQUAINT']\n",
    "# len(ae_list)"
   ]
  },
  {
   "cell_type": "code",
   "execution_count": 62,
   "metadata": {},
   "outputs": [],
   "source": [
    "# Download data for A&E Top 100 Influencers\n",
    "# name_lst, lst_dict = download_instaloader(ae_list)"
   ]
  },
  {
   "cell_type": "code",
   "execution_count": 63,
   "metadata": {},
   "outputs": [],
   "source": [
    "# len(name_lst), len(lst_dict)"
   ]
  },
  {
   "cell_type": "code",
   "execution_count": 64,
   "metadata": {},
   "outputs": [],
   "source": [
    "# df_ae_100 = pd.DataFrame({'user_id': name_lst\n",
    "#                         , 'profile': lst_dict\n",
    "#                        }\n",
    "#                       )\n",
    "# df_ae_100 = df_ae_100.profile.apply(pd.Series)\n",
    "# df_ae_100.head(3)"
   ]
  },
  {
   "cell_type": "code",
   "execution_count": 65,
   "metadata": {},
   "outputs": [],
   "source": [
    "# df_ae_100.isna().sum()"
   ]
  },
  {
   "cell_type": "code",
   "execution_count": 66,
   "metadata": {},
   "outputs": [],
   "source": [
    "# df_ae_100.fillna('None'\n",
    "#                  , inplace = True\n",
    "#                 )\n",
    "# df_ae_100.isna().sum()"
   ]
  },
  {
   "cell_type": "code",
   "execution_count": 67,
   "metadata": {},
   "outputs": [],
   "source": [
    "# df_ae_100.to_csv('./data/df_ae_100.csv')"
   ]
  },
  {
   "cell_type": "markdown",
   "metadata": {},
   "source": [
    "## Similar Accounts"
   ]
  },
  {
   "cell_type": "code",
   "execution_count": 46,
   "metadata": {},
   "outputs": [
    {
     "data": {
      "text/plain": [
       "Unnamed: 0            0\n",
       "user_name             0\n",
       "user_id               0\n",
       "private               0\n",
       "followed              0\n",
       "post_count            0\n",
       "igtv_count            0\n",
       "followers_count       0\n",
       "following_count       0\n",
       "external_url          0\n",
       "business_acct         0\n",
       "business_cat          0\n",
       "bio                   0\n",
       "blocked_by_viewers    0\n",
       "follows               0\n",
       "full_name             0\n",
       "blocked_viewers       0\n",
       "public_story          0\n",
       "requested_viewer      0\n",
       "profile_pic_url       0\n",
       "similar_accounts      0\n",
       "dtype: int64"
      ]
     },
     "execution_count": 46,
     "metadata": {},
     "output_type": "execute_result"
    }
   ],
   "source": [
    "df_ae_100 = pd.read_csv('./data/df_ae_100.csv')\n",
    "df_ae_100.fillna('None', inplace = True)\n",
    "df_ae_100.isna().sum()"
   ]
  },
  {
   "cell_type": "code",
   "execution_count": 47,
   "metadata": {
    "scrolled": true
   },
   "outputs": [
    {
     "data": {
      "text/plain": [
       "'{<Profile vanessamorgan (179431427)>, <Profile brycehall (1449154051)>, <Profile debbyryan (9429520)>, <Profile camilo (41217567)>, <Profile milliebobbybrown (3439002676)>, <Profile dovecameron (145312309)>, <Profile mollyringwald (325358143)>, <Profile sabrinacarpenter (8713286)>, <Profile alishaboe (53920838)>, <Profile thecwriverdale (2952293448)>, <Profile madelame (223094862)>, <Profile t22felton (335916623)>, <Profile harrystyles (144605776)>, <Profile zayn (2033147472)>, <Profile chrishemsworth (1822594644)>, <Profile jadenhossler (29200471)>, <Profile laurenjauregui (187568215)>, <Profile aron.piper (942821982)>, <Profile camila_cabello (19596899)>, <Profile archiecomics (299325029)>, <Profile niallhoran (46983271)>, <Profile madchenamick (1415277685)>, <Profile addisonraee (304358009)>, <Profile lizgillz (29158522)>, <Profile noahschnapp (343716991)>, <Profile nickjonas (189396108)>, <Profile lilhuddy (456520866)>, <Profile therealcalebmclaughlin (2016820410)>, <Profile dualipa (12331195)>, <Profile hero_ft (455377598)>, <Profile gigihadid (12995776)>, <Profile billieeilish (28527810)>, <Profile strangerthingstv (2093563594)>, <Profile lexijayde (2235064523)>, <Profile tomholland2013 (176618189)>, <Profile ester_exposito (386189519)>, <Profile ddlovato (189393625)>, <Profile kimkardashian (18428658)>, <Profile jacobelordi (26442490)>, <Profile aidanrgallagher (1441640189)>, <Profile dylansprouse (181996286)>, <Profile lilireinhart (49067778)>, <Profile liampayne (1293310212)>, <Profile selenagomez (460563723)>, <Profile arianagrande (7719696)>, <Profile kiernanshipka (16556324)>, <Profile charlidamelio (183250726)>, <Profile tinistoessel (324735270)>, <Profile avani (220252994)>, <Profile camimendes (3248600900)>, <Profile shawnmendes (212742998)>, <Profile amybethmcnulty (2281529693)>, <Profile netflixlat (1479381866)>, <Profile ashleytisdale (14734199)>, <Profile nina (206022012)>, <Profile jorgelopez_as (198673790)>, <Profile kendalljenner (6380930)>, <Profile jamescharles (2153680783)>, <Profile mileycyrus (325734299)>, <Profile justinbieber (6860189)>, <Profile joeyking (51840413)>, <Profile lisaandlena (1510966691)>, <Profile marisolnichols (183401892)>, <Profile jackdgrazer (3549694374)>, <Profile realbarbarapalvin (210746792)>, <Profile kenzie (321358273)>, <Profile ncentineo (33283012)>, <Profile kjapa (38053836)>, <Profile iansomerhalder (231067598)>, <Profile lilyjcollins (666908117)>, <Profile dannapaola (7584726)>, <Profile kyliejenner (12281817)>, <Profile seventeen (22492633)>, <Profile netflixqueue (15123646942)>, <Profile tchalamet (29716451)>, <Profile lanacondor (12278755)>, <Profile sofiacarson (184346091)>, <Profile finnwolfhardofficial (3172510187)>, <Profile louispartridge_ (410718201)>, <Profile dixiedamelio (174530045)>}'"
      ]
     },
     "execution_count": 47,
     "metadata": {},
     "output_type": "execute_result"
    }
   ],
   "source": [
    "df_ae_100.similar_accounts.iloc[0]"
   ]
  },
  {
   "cell_type": "markdown",
   "metadata": {},
   "source": [
    "## A&E Top 100 Exploration"
   ]
  },
  {
   "cell_type": "code",
   "execution_count": 48,
   "metadata": {},
   "outputs": [
    {
     "data": {
      "text/plain": [
       "Index(['Unnamed: 0', 'user_name', 'user_id', 'private', 'followed',\n",
       "       'post_count', 'igtv_count', 'followers_count', 'following_count',\n",
       "       'external_url', 'business_acct', 'business_cat', 'bio',\n",
       "       'blocked_by_viewers', 'follows', 'full_name', 'blocked_viewers',\n",
       "       'public_story', 'requested_viewer', 'profile_pic_url',\n",
       "       'similar_accounts'],\n",
       "      dtype='object')"
      ]
     },
     "execution_count": 48,
     "metadata": {},
     "output_type": "execute_result"
    }
   ],
   "source": [
    "df_ae_100.columns"
   ]
  },
  {
   "cell_type": "code",
   "execution_count": 49,
   "metadata": {},
   "outputs": [
    {
     "name": "stdout",
     "output_type": "stream",
     "text": [
      "<class 'pandas.core.frame.DataFrame'>\n",
      "RangeIndex: 98 entries, 0 to 97\n",
      "Data columns (total 21 columns):\n",
      " #   Column              Non-Null Count  Dtype \n",
      "---  ------              --------------  ----- \n",
      " 0   Unnamed: 0          98 non-null     int64 \n",
      " 1   user_name           98 non-null     object\n",
      " 2   user_id             98 non-null     int64 \n",
      " 3   private             98 non-null     bool  \n",
      " 4   followed            98 non-null     bool  \n",
      " 5   post_count          98 non-null     int64 \n",
      " 6   igtv_count          98 non-null     int64 \n",
      " 7   followers_count     98 non-null     int64 \n",
      " 8   following_count     98 non-null     int64 \n",
      " 9   external_url        98 non-null     object\n",
      " 10  business_acct       98 non-null     bool  \n",
      " 11  business_cat        98 non-null     object\n",
      " 12  bio                 98 non-null     object\n",
      " 13  blocked_by_viewers  98 non-null     bool  \n",
      " 14  follows             98 non-null     bool  \n",
      " 15  full_name           98 non-null     object\n",
      " 16  blocked_viewers     98 non-null     bool  \n",
      " 17  public_story        98 non-null     bool  \n",
      " 18  requested_viewer    98 non-null     bool  \n",
      " 19  profile_pic_url     98 non-null     object\n",
      " 20  similar_accounts    98 non-null     object\n",
      "dtypes: bool(8), int64(6), object(7)\n",
      "memory usage: 10.8+ KB\n"
     ]
    }
   ],
   "source": [
    "df_ae_100.info()"
   ]
  },
  {
   "cell_type": "code",
   "execution_count": 50,
   "metadata": {},
   "outputs": [
    {
     "data": {
      "text/html": [
       "<div>\n",
       "<style scoped>\n",
       "    .dataframe tbody tr th:only-of-type {\n",
       "        vertical-align: middle;\n",
       "    }\n",
       "\n",
       "    .dataframe tbody tr th {\n",
       "        vertical-align: top;\n",
       "    }\n",
       "\n",
       "    .dataframe thead th {\n",
       "        text-align: right;\n",
       "    }\n",
       "</style>\n",
       "<table border=\"1\" class=\"dataframe\">\n",
       "  <thead>\n",
       "    <tr style=\"text-align: right;\">\n",
       "      <th></th>\n",
       "      <th>Unnamed: 0</th>\n",
       "      <th>user_id</th>\n",
       "      <th>post_count</th>\n",
       "      <th>igtv_count</th>\n",
       "      <th>followers_count</th>\n",
       "      <th>following_count</th>\n",
       "    </tr>\n",
       "  </thead>\n",
       "  <tbody>\n",
       "    <tr>\n",
       "      <th>count</th>\n",
       "      <td>98.000000</td>\n",
       "      <td>9.800000e+01</td>\n",
       "      <td>98.000000</td>\n",
       "      <td>98.000000</td>\n",
       "      <td>9.800000e+01</td>\n",
       "      <td>98.000000</td>\n",
       "    </tr>\n",
       "    <tr>\n",
       "      <th>mean</th>\n",
       "      <td>48.500000</td>\n",
       "      <td>4.690684e+08</td>\n",
       "      <td>3875.285714</td>\n",
       "      <td>13.704082</td>\n",
       "      <td>1.675334e+06</td>\n",
       "      <td>1318.489796</td>\n",
       "    </tr>\n",
       "    <tr>\n",
       "      <th>std</th>\n",
       "      <td>28.434134</td>\n",
       "      <td>1.485081e+09</td>\n",
       "      <td>3072.908817</td>\n",
       "      <td>22.327095</td>\n",
       "      <td>4.187624e+06</td>\n",
       "      <td>1150.752969</td>\n",
       "    </tr>\n",
       "    <tr>\n",
       "      <th>min</th>\n",
       "      <td>0.000000</td>\n",
       "      <td>1.237191e+06</td>\n",
       "      <td>42.000000</td>\n",
       "      <td>0.000000</td>\n",
       "      <td>3.570000e+04</td>\n",
       "      <td>4.000000</td>\n",
       "    </tr>\n",
       "    <tr>\n",
       "      <th>25%</th>\n",
       "      <td>24.250000</td>\n",
       "      <td>9.556582e+06</td>\n",
       "      <td>1675.250000</td>\n",
       "      <td>1.000000</td>\n",
       "      <td>2.557178e+05</td>\n",
       "      <td>712.250000</td>\n",
       "    </tr>\n",
       "    <tr>\n",
       "      <th>50%</th>\n",
       "      <td>48.500000</td>\n",
       "      <td>2.235591e+07</td>\n",
       "      <td>3235.000000</td>\n",
       "      <td>5.000000</td>\n",
       "      <td>5.162350e+05</td>\n",
       "      <td>992.500000</td>\n",
       "    </tr>\n",
       "    <tr>\n",
       "      <th>75%</th>\n",
       "      <td>72.750000</td>\n",
       "      <td>1.934312e+08</td>\n",
       "      <td>4918.750000</td>\n",
       "      <td>18.750000</td>\n",
       "      <td>1.205482e+06</td>\n",
       "      <td>1469.250000</td>\n",
       "    </tr>\n",
       "    <tr>\n",
       "      <th>max</th>\n",
       "      <td>97.000000</td>\n",
       "      <td>8.628689e+09</td>\n",
       "      <td>15684.000000</td>\n",
       "      <td>153.000000</td>\n",
       "      <td>3.340389e+07</td>\n",
       "      <td>6370.000000</td>\n",
       "    </tr>\n",
       "  </tbody>\n",
       "</table>\n",
       "</div>"
      ],
      "text/plain": [
       "       Unnamed: 0       user_id    post_count  igtv_count  followers_count  \\\n",
       "count   98.000000  9.800000e+01     98.000000   98.000000     9.800000e+01   \n",
       "mean    48.500000  4.690684e+08   3875.285714   13.704082     1.675334e+06   \n",
       "std     28.434134  1.485081e+09   3072.908817   22.327095     4.187624e+06   \n",
       "min      0.000000  1.237191e+06     42.000000    0.000000     3.570000e+04   \n",
       "25%     24.250000  9.556582e+06   1675.250000    1.000000     2.557178e+05   \n",
       "50%     48.500000  2.235591e+07   3235.000000    5.000000     5.162350e+05   \n",
       "75%     72.750000  1.934312e+08   4918.750000   18.750000     1.205482e+06   \n",
       "max     97.000000  8.628689e+09  15684.000000  153.000000     3.340389e+07   \n",
       "\n",
       "       following_count  \n",
       "count        98.000000  \n",
       "mean       1318.489796  \n",
       "std        1150.752969  \n",
       "min           4.000000  \n",
       "25%         712.250000  \n",
       "50%         992.500000  \n",
       "75%        1469.250000  \n",
       "max        6370.000000  "
      ]
     },
     "execution_count": 50,
     "metadata": {},
     "output_type": "execute_result"
    }
   ],
   "source": [
    "df_ae_100.describe()"
   ]
  },
  {
   "cell_type": "code",
   "execution_count": 51,
   "metadata": {},
   "outputs": [
    {
     "data": {
      "text/plain": [
       "'Lifestyle at @laurenconradco \\nDesigner for @lclaurenconrad and @lclittleco \\nCo-founder of @thelittlemarket \\nBeauty at @laurenconradbeauty'"
      ]
     },
     "execution_count": 51,
     "metadata": {},
     "output_type": "execute_result"
    }
   ],
   "source": [
    "df_ae_100.bio.iloc[3]"
   ]
  },
  {
   "cell_type": "code",
   "execution_count": null,
   "metadata": {},
   "outputs": [],
   "source": []
  },
  {
   "cell_type": "code",
   "execution_count": null,
   "metadata": {},
   "outputs": [],
   "source": []
  },
  {
   "cell_type": "code",
   "execution_count": null,
   "metadata": {},
   "outputs": [],
   "source": []
  },
  {
   "cell_type": "code",
   "execution_count": null,
   "metadata": {},
   "outputs": [],
   "source": []
  },
  {
   "cell_type": "code",
   "execution_count": null,
   "metadata": {},
   "outputs": [],
   "source": []
  },
  {
   "cell_type": "code",
   "execution_count": null,
   "metadata": {},
   "outputs": [],
   "source": []
  },
  {
   "cell_type": "code",
   "execution_count": null,
   "metadata": {},
   "outputs": [],
   "source": []
  },
  {
   "cell_type": "code",
   "execution_count": null,
   "metadata": {},
   "outputs": [],
   "source": []
  },
  {
   "cell_type": "code",
   "execution_count": null,
   "metadata": {},
   "outputs": [],
   "source": []
  },
  {
   "cell_type": "code",
   "execution_count": null,
   "metadata": {},
   "outputs": [],
   "source": []
  },
  {
   "cell_type": "code",
   "execution_count": null,
   "metadata": {},
   "outputs": [],
   "source": []
  },
  {
   "cell_type": "code",
   "execution_count": null,
   "metadata": {},
   "outputs": [],
   "source": []
  },
  {
   "cell_type": "markdown",
   "metadata": {},
   "source": [
    "## Daily Downloads"
   ]
  },
  {
   "cell_type": "code",
   "execution_count": 35,
   "metadata": {
    "scrolled": true
   },
   "outputs": [
    {
     "name": "stderr",
     "output_type": "stream",
     "text": [
      "JSON Query to 1992kidz/feed/: 404 Not Found [retrying; skip with ^C]\n",
      "JSON Query to 1992kidz/feed/: 404 Not Found [retrying; skip with ^C]\n",
      "JSON Query to graphql/query: HTTP error code 500. [retrying; skip with ^C]\n",
      "JSON Query to 19980417c/feed/: 404 Not Found [retrying; skip with ^C]\n",
      "JSON Query to 19980417c/feed/: 404 Not Found [retrying; skip with ^C]\n",
      "JSON Query to 19r_ra/feed/: Could not find \"window._sharedData\" in html response. [retrying; skip with ^C]\n",
      "JSON Query to 19r_ra/feed/: Could not find \"window._sharedData\" in html response. [retrying; skip with ^C]\n",
      "JSON Query to 1_04eg/feed/: 404 Not Found [retrying; skip with ^C]\n",
      "JSON Query to 1_04eg/feed/: 404 Not Found [retrying; skip with ^C]\n",
      "JSON Query to 1_1__1_1_1_1_1__1_1_1_1__1_1_1/feed/: Could not find \"window._sharedData\" in html response. [retrying; skip with ^C]\n",
      "JSON Query to 1_1__1_1_1_1_1__1_1_1_1__1_1_1/feed/: Could not find \"window._sharedData\" in html response. [retrying; skip with ^C]\n",
      "JSON Query to 1_1ie9/feed/: 404 Not Found [retrying; skip with ^C]\n",
      "JSON Query to 1_1ie9/feed/: 404 Not Found [retrying; skip with ^C]\n",
      "JSON Query to 1__69k/feed/: 404 Not Found [retrying; skip with ^C]\n",
      "JSON Query to 1__69k/feed/: 404 Not Found [retrying; skip with ^C]\n",
      "JSON Query to 1___strannik/feed/: 404 Not Found [retrying; skip with ^C]\n",
      "JSON Query to 1___strannik/feed/: 404 Not Found [retrying; skip with ^C]\n",
      "JSON Query to 1_abdl/feed/: 404 Not Found [retrying; skip with ^C]\n",
      "JSON Query to 1_abdl/feed/: 404 Not Found [retrying; skip with ^C]\n",
      "JSON Query to 1_daqa_7ez/feed/: 404 Not Found [retrying; skip with ^C]\n",
      "JSON Query to 1_daqa_7ez/feed/: 404 Not Found [retrying; skip with ^C]\n",
      "JSON Query to 1_ire_/feed/: 404 Not Found [retrying; skip with ^C]\n"
     ]
    },
    {
     "name": "stdout",
     "output_type": "stream",
     "text": [
      "\n",
      "Too many queries in the last time. Need to wait 326 seconds, until 07:33.\n"
     ]
    },
    {
     "name": "stderr",
     "output_type": "stream",
     "text": [
      "JSON Query to 1_ire_/feed/: 404 Not Found [retrying; skip with ^C]\n",
      "JSON Query to 1_levent_nails/feed/: 404 Not Found [retrying; skip with ^C]\n",
      "JSON Query to 1_levent_nails/feed/: 404 Not Found [retrying; skip with ^C]\n",
      "JSON Query to 1_sal1mov/feed/: 404 Not Found [retrying; skip with ^C]\n",
      "JSON Query to 1_sal1mov/feed/: 404 Not Found [retrying; skip with ^C]\n",
      "JSON Query to 1_shobe_9/feed/: 404 Not Found [retrying; skip with ^C]\n",
      "JSON Query to 1_shobe_9/feed/: 404 Not Found [retrying; skip with ^C]\n",
      "JSON Query to 1abcdada/feed/: 404 Not Found [retrying; skip with ^C]\n",
      "JSON Query to 1abcdada/feed/: 404 Not Found [retrying; skip with ^C]\n",
      "JSON Query to 1angel_betty/feed/: 404 Not Found [retrying; skip with ^C]\n",
      "JSON Query to 1angel_betty/feed/: 404 Not Found [retrying; skip with ^C]\n",
      "JSON Query to 1bdullah_official/feed/: 404 Not Found [retrying; skip with ^C]\n",
      "JSON Query to 1bdullah_official/feed/: 404 Not Found [retrying; skip with ^C]\n",
      "JSON Query to 1bigswagg/feed/: 404 Not Found [retrying; skip with ^C]\n",
      "JSON Query to 1bigswagg/feed/: 404 Not Found [retrying; skip with ^C]\n",
      "JSON Query to 1bke1/feed/: Could not find \"window._sharedData\" in html response. [retrying; skip with ^C]\n",
      "JSON Query to 1bke1/feed/: Could not find \"window._sharedData\" in html response. [retrying; skip with ^C]\n"
     ]
    },
    {
     "name": "stdout",
     "output_type": "stream",
     "text": [
      "\n",
      "Too many queries in the last time. Need to wait 216 seconds, until 07:44.\n"
     ]
    },
    {
     "name": "stderr",
     "output_type": "stream",
     "text": [
      "JSON Query to 1cv_t/feed/: Could not find \"window._sharedData\" in html response. [retrying; skip with ^C]\n",
      "JSON Query to 1cv_t/feed/: Could not find \"window._sharedData\" in html response. [retrying; skip with ^C]\n",
      "JSON Query to 1cxvz_/feed/: 404 Not Found [retrying; skip with ^C]\n",
      "JSON Query to 1cxvz_/feed/: 404 Not Found [retrying; skip with ^C]\n",
      "JSON Query to 1czd_/feed/: 429 Too Many Requests [retrying; skip with ^C]\n",
      "Requests within last 10/11/20/22/30/60 minutes grouped by type:\n",
      " *                            other:   64   70  108  136  181  181\n",
      "   9ca88e465c3f866a76f7adee3871bdd8:   39   46   63   75   96   96\n",
      "                             iphone:   39   46   64   76   96   96\n",
      "   ad99dd9d3646cc3c0dda65debcd266a7:   40   46   64   76   97   97\n",
      "Instagram responded with HTTP error \"429 - Too Many Requests\". Please\n",
      "do not run multiple instances of Instaloader in parallel or within\n",
      "short sequence. Also, do not use any Instagram App while Instaloader\n",
      "is running.\n",
      "The request will be retried in 15 seconds, at 07:48.\n",
      "JSON Query to 1czd_/feed/: 429 Too Many Requests [retrying; skip with ^C]\n",
      "Requests within last 10/11/20/22/30/60 minutes grouped by type:\n",
      " *                            other:   61   69  107  134  182  182\n",
      "   9ca88e465c3f866a76f7adee3871bdd8:   37   43   62   73   96   96\n",
      "                             iphone:   37   44   62   73   96   96\n",
      "   ad99dd9d3646cc3c0dda65debcd266a7:   37   44   62   73   97   97\n",
      "Instagram responded with HTTP error \"429 - Too Many Requests\". Please\n",
      "do not run multiple instances of Instaloader in parallel or within\n",
      "short sequence. Also, do not use any Instagram App while Instaloader\n",
      "is running.\n",
      "The request will be retried in 15 seconds, at 07:48.\n",
      "JSON Query to 1d6x_/feed/: 429 Too Many Requests [retrying; skip with ^C]\n",
      "Requests within last 10/11/20/22/30/60 minutes grouped by type:\n",
      " *                            other:   59   69  109  127  184  184\n",
      "   9ca88e465c3f866a76f7adee3871bdd8:   35   41   62   71   96   96\n",
      "                             iphone:   35   41   62   72   96   96\n",
      "   ad99dd9d3646cc3c0dda65debcd266a7:   36   41   62   72   97   97\n",
      "Instagram responded with HTTP error \"429 - Too Many Requests\". Please\n",
      "do not run multiple instances of Instaloader in parallel or within\n",
      "short sequence. Also, do not use any Instagram App while Instaloader\n",
      "is running.\n",
      "The request will be retried in 7 seconds, at 07:48.\n",
      "JSON Query to 1d6x_/feed/: 429 Too Many Requests [retrying; skip with ^C]\n",
      "Requests within last 10/11/20/22/30/60 minutes grouped by type:\n",
      " *                            other:   59   69  110  126  185  185\n",
      "   9ca88e465c3f866a76f7adee3871bdd8:   35   40   62   71   96   96\n",
      "                             iphone:   35   41   62   71   96   96\n",
      "   ad99dd9d3646cc3c0dda65debcd266a7:   35   41   62   71   97   97\n",
      "Instagram responded with HTTP error \"429 - Too Many Requests\". Please\n",
      "do not run multiple instances of Instaloader in parallel or within\n",
      "short sequence. Also, do not use any Instagram App while Instaloader\n",
      "is running.\n",
      "The request will be retried in 17 seconds, at 07:48.\n",
      "JSON Query to 1d_n3/feed/: 429 Too Many Requests [retrying; skip with ^C]\n",
      "Requests within last 10/11/20/22/30/60 minutes grouped by type:\n",
      " *                            other:   59   69  112  124  187  187\n",
      "   9ca88e465c3f866a76f7adee3871bdd8:   32   38   62   69   96   96\n",
      "                             iphone:   33   38   62   69   96   96\n",
      "   ad99dd9d3646cc3c0dda65debcd266a7:   33   38   62   70   97   97\n",
      "Instagram responded with HTTP error \"429 - Too Many Requests\". Please\n",
      "do not run multiple instances of Instaloader in parallel or within\n",
      "short sequence. Also, do not use any Instagram App while Instaloader\n",
      "is running.\n",
      "The request will be retried in 7 seconds, at 07:49.\n",
      "JSON Query to 1d_n3/feed/: 429 Too Many Requests [retrying; skip with ^C]\n",
      "Requests within last 10/11/20/22/30/60 minutes grouped by type:\n",
      " *                            other:   59   67  113  123  188  188\n",
      "   9ca88e465c3f866a76f7adee3871bdd8:   32   37   62   68   96   96\n",
      "                             iphone:   32   37   62   68   96   96\n",
      "   ad99dd9d3646cc3c0dda65debcd266a7:   32   37   62   68   97   97\n",
      "Instagram responded with HTTP error \"429 - Too Many Requests\". Please\n",
      "do not run multiple instances of Instaloader in parallel or within\n",
      "short sequence. Also, do not use any Instagram App while Instaloader\n",
      "is running.\n",
      "The request will be retried in 11 seconds, at 07:49.\n",
      "JSON Query to 1dbjtenjtdv/feed/: 429 Too Many Requests [retrying; skip with ^C]\n",
      "Requests within last 10/11/20/22/30/60 minutes grouped by type:\n",
      " *                            other:   59   66  115  124  190  190\n",
      "   9ca88e465c3f866a76f7adee3871bdd8:   30   36   62   66   96   96\n",
      "                             iphone:   30   37   62   67   96   96\n",
      "   ad99dd9d3646cc3c0dda65debcd266a7:   30   37   62   67   97   97\n",
      "Instagram responded with HTTP error \"429 - Too Many Requests\". Please\n",
      "do not run multiple instances of Instaloader in parallel or within\n",
      "short sequence. Also, do not use any Instagram App while Instaloader\n",
      "is running.\n",
      "The request will be retried in 12 seconds, at 07:49.\n",
      "JSON Query to 1dbjtenjtdv/feed/: 429 Too Many Requests [retrying; skip with ^C]\n",
      "Requests within last 10/11/20/22/30/60 minutes grouped by type:\n",
      " *                            other:   59   65  116  120  191  191\n",
      "   9ca88e465c3f866a76f7adee3871bdd8:   28   34   62   65   96   96\n",
      "                             iphone:   29   35   62   65   96   96\n",
      "   ad99dd9d3646cc3c0dda65debcd266a7:   29   35   62   66   97   97\n",
      "Instagram responded with HTTP error \"429 - Too Many Requests\". Please\n",
      "do not run multiple instances of Instaloader in parallel or within\n",
      "short sequence. Also, do not use any Instagram App while Instaloader\n",
      "is running.\n",
      "The request will be retried in 14 seconds, at 07:49.\n",
      "JSON Query to 1deli_adam47/feed/: 429 Too Many Requests [retrying; skip with ^C]\n",
      "Requests within last 10/11/20/22/30/60 minutes grouped by type:\n",
      " *                            other:   58   65  118  119  193  193\n",
      "   9ca88e465c3f866a76f7adee3871bdd8:   25   32   62   63   96   96\n",
      "                             iphone:   26   33   62   63   96   96\n",
      "   ad99dd9d3646cc3c0dda65debcd266a7:   26   33   62   63   97   97\n",
      "Instagram responded with HTTP error \"429 - Too Many Requests\". Please\n",
      "do not run multiple instances of Instaloader in parallel or within\n",
      "short sequence. Also, do not use any Instagram App while Instaloader\n",
      "is running.\n",
      "The request will be retried in 13 seconds, at 07:50.\n",
      "JSON Query to 1deli_adam47/feed/: 429 Too Many Requests [retrying; skip with ^C]\n",
      "Requests within last 10/11/20/22/30/60 minutes grouped by type:\n",
      " *                            other:   57   65  119  119  194  194\n",
      "   9ca88e465c3f866a76f7adee3871bdd8:   23   31   62   62   96   96\n",
      "                             iphone:   24   31   62   62   96   96\n",
      "   ad99dd9d3646cc3c0dda65debcd266a7:   24   31   62   62   97   97\n",
      "Instagram responded with HTTP error \"429 - Too Many Requests\". Please\n",
      "do not run multiple instances of Instaloader in parallel or within\n",
      "short sequence. Also, do not use any Instagram App while Instaloader\n",
      "is running.\n",
      "The request will be retried in 7 seconds, at 07:50.\n",
      "JSON Query to 1demetozdemirf.p/feed/: 429 Too Many Requests [retrying; skip with ^C]\n",
      "Requests within last 10/11/20/22/30/60 minutes grouped by type:\n",
      " *                            other:   59   65  121  121  196  196\n",
      "   9ca88e465c3f866a76f7adee3871bdd8:   23   30   62   62   96   96\n",
      "                             iphone:   23   30   62   62   96   96\n",
      "   ad99dd9d3646cc3c0dda65debcd266a7:   23   30   62   62   97   97\n",
      "Instagram responded with HTTP error \"429 - Too Many Requests\". Please\n",
      "do not run multiple instances of Instaloader in parallel or within\n",
      "short sequence. Also, do not use any Instagram App while Instaloader\n",
      "is running.\n",
      "The request will be retried in 16 seconds, at 07:50.\n",
      "JSON Query to 1demetozdemirf.p/feed/: 429 Too Many Requests [retrying; skip with ^C]\n",
      "Requests within last 10/11/20/22/30/60 minutes grouped by type:\n",
      " *                            other:   54   65  122  122  197  197\n",
      "   9ca88e465c3f866a76f7adee3871bdd8:   21   28   62   62   96   96\n",
      "                             iphone:   21   28   62   62   96   96\n",
      "   ad99dd9d3646cc3c0dda65debcd266a7:   21   28   62   62   97   97\n",
      "Instagram responded with HTTP error \"429 - Too Many Requests\". Please\n",
      "do not run multiple instances of Instaloader in parallel or within\n",
      "short sequence. Also, do not use any Instagram App while Instaloader\n",
      "is running.\n",
      "The request will be retried in 8 seconds, at 07:50.\n"
     ]
    },
    {
     "name": "stderr",
     "output_type": "stream",
     "text": [
      "JSON Query to 1dizil/feed/: 429 Too Many Requests [retrying; skip with ^C]\n",
      "Requests within last 10/11/20/22/30/60 minutes grouped by type:\n",
      " *                            other:   53   65  124  124  199  199\n",
      "   9ca88e465c3f866a76f7adee3871bdd8:   21   26   62   62   96   96\n",
      "                             iphone:   21   26   62   62   96   96\n",
      "   ad99dd9d3646cc3c0dda65debcd266a7:   21   26   62   62   97   97\n",
      "Instagram responded with HTTP error \"429 - Too Many Requests\". Please\n",
      "do not run multiple instances of Instaloader in parallel or within\n",
      "short sequence. Also, do not use any Instagram App while Instaloader\n",
      "is running.\n",
      "The request will be retried in 6 seconds, at 07:51.\n",
      "JSON Query to 1dizil/feed/: 429 Too Many Requests [retrying; skip with ^C]\n",
      "Requests within last 10/11/20/22/30/60 minutes grouped by type:\n",
      " *                            other:   51   65  125  125  200  200\n",
      "   9ca88e465c3f866a76f7adee3871bdd8:   21   25   62   62   96   96\n",
      "                             iphone:   21   25   62   62   96   96\n",
      "   ad99dd9d3646cc3c0dda65debcd266a7:   21   26   62   62   97   97\n",
      "Instagram responded with HTTP error \"429 - Too Many Requests\". Please\n",
      "do not run multiple instances of Instaloader in parallel or within\n",
      "short sequence. Also, do not use any Instagram App while Instaloader\n",
      "is running.\n",
      "The request will be retried in 13 seconds, at 07:51.\n",
      "JSON Query to 1dizivefilm/feed/: 429 Too Many Requests [retrying; skip with ^C]\n",
      "Requests within last 10/11/20/22/30/60 minutes grouped by type:\n",
      " *                            other:   52   65  127  127  202  202\n",
      "   9ca88e465c3f866a76f7adee3871bdd8:   21   23   62   62   96   96\n",
      "                             iphone:   21   24   62   62   96   96\n",
      "   ad99dd9d3646cc3c0dda65debcd266a7:   21   24   62   62   97   97\n",
      "Instagram responded with HTTP error \"429 - Too Many Requests\". Please\n",
      "do not run multiple instances of Instaloader in parallel or within\n",
      "short sequence. Also, do not use any Instagram App while Instaloader\n",
      "is running.\n",
      "The request will be retried in 14 seconds, at 07:51.\n",
      "JSON Query to 1dizivefilm/feed/: 429 Too Many Requests [retrying; skip with ^C]\n",
      "Requests within last 10/11/20/22/30/60 minutes grouped by type:\n",
      " *                            other:   53   61  128  128  203  203\n",
      "   9ca88e465c3f866a76f7adee3871bdd8:   21   23   62   62   96   96\n",
      "                             iphone:   21   23   62   62   96   96\n",
      "   ad99dd9d3646cc3c0dda65debcd266a7:   21   23   62   62   97   97\n",
      "Instagram responded with HTTP error \"429 - Too Many Requests\". Please\n",
      "do not run multiple instances of Instaloader in parallel or within\n",
      "short sequence. Also, do not use any Instagram App while Instaloader\n",
      "is running.\n",
      "The request will be retried in 14 seconds, at 07:51.\n",
      "JSON Query to 1dogukanbhr/feed/: 429 Too Many Requests [retrying; skip with ^C]\n",
      "Requests within last 10/11/20/22/30/60 minutes grouped by type:\n",
      " *                            other:   55   60  130  130  205  205\n",
      "   9ca88e465c3f866a76f7adee3871bdd8:   21   21   62   62   96   96\n",
      "                             iphone:   21   21   62   62   96   96\n",
      "   ad99dd9d3646cc3c0dda65debcd266a7:   21   21   62   62   97   97\n",
      "Instagram responded with HTTP error \"429 - Too Many Requests\". Please\n",
      "do not run multiple instances of Instaloader in parallel or within\n",
      "short sequence. Also, do not use any Instagram App while Instaloader\n",
      "is running.\n",
      "The request will be retried in 7 seconds, at 07:52.\n",
      "JSON Query to 1dogukanbhr/feed/: 429 Too Many Requests [retrying; skip with ^C]\n",
      "Requests within last 10/11/20/22/30/60 minutes grouped by type:\n",
      " *                            other:   56   58  131  131  206  206\n",
      "   9ca88e465c3f866a76f7adee3871bdd8:   21   21   62   62   96   96\n",
      "                             iphone:   21   21   62   62   96   96\n",
      "   ad99dd9d3646cc3c0dda65debcd266a7:   21   21   62   62   97   97\n",
      "Instagram responded with HTTP error \"429 - Too Many Requests\". Please\n",
      "do not run multiple instances of Instaloader in parallel or within\n",
      "short sequence. Also, do not use any Instagram App while Instaloader\n",
      "is running.\n",
      "The request will be retried in 7 seconds, at 07:52.\n",
      "JSON Query to 1dr.rayaalsaid/feed/: 429 Too Many Requests [retrying; skip with ^C]\n",
      "Requests within last 10/11/20/22/30/60 minutes grouped by type:\n",
      " *                            other:   58   58  133  133  208  208\n",
      "   9ca88e465c3f866a76f7adee3871bdd8:   21   21   62   62   96   96\n",
      "                             iphone:   21   21   62   62   96   96\n",
      "   ad99dd9d3646cc3c0dda65debcd266a7:   21   21   62   62   97   97\n",
      "Instagram responded with HTTP error \"429 - Too Many Requests\". Please\n",
      "do not run multiple instances of Instaloader in parallel or within\n",
      "short sequence. Also, do not use any Instagram App while Instaloader\n",
      "is running.\n",
      "The request will be retried in 217 seconds, at 07:55.\n",
      "JSON Query to 1dr.rayaalsaid/feed/: 429 Too Many Requests [retrying; skip with ^C]\n",
      "Requests within last 10/11/20/22/30/60 minutes grouped by type:\n",
      " *                            other:   50   57  111  130  165  209\n",
      "   9ca88e465c3f866a76f7adee3871bdd8:   13   20   53   61   76   96\n",
      "                             iphone:   13   20   53   62   76   96\n",
      "   ad99dd9d3646cc3c0dda65debcd266a7:   13   21   53   62   76   97\n",
      "Instagram responded with HTTP error \"429 - Too Many Requests\". Please\n",
      "do not run multiple instances of Instaloader in parallel or within\n",
      "short sequence. Also, do not use any Instagram App while Instaloader\n",
      "is running.\n",
      "The request will be retried in 9 seconds, at 07:56.\n",
      "JSON Query to 1drydniz/feed/: 429 Too Many Requests [retrying; skip with ^C]\n",
      "Requests within last 10/11/20/22/30/60 minutes grouped by type:\n",
      " *                            other:   50   58  111  130  165  211\n",
      "   9ca88e465c3f866a76f7adee3871bdd8:   12   19   53   61   75   96\n",
      "                             iphone:   12   19   53   61   75   96\n",
      "   ad99dd9d3646cc3c0dda65debcd266a7:   12   20   53   61   75   97\n",
      "Instagram responded with HTTP error \"429 - Too Many Requests\". Please\n",
      "do not run multiple instances of Instaloader in parallel or within\n",
      "short sequence. Also, do not use any Instagram App while Instaloader\n",
      "is running.\n",
      "The request will be retried in 7 seconds, at 07:56.\n",
      "JSON Query to 1drydniz/feed/: 429 Too Many Requests [retrying; skip with ^C]\n",
      "Requests within last 10/11/20/22/30/60 minutes grouped by type:\n",
      " *                            other:   50   58  112  129  165  212\n",
      "   9ca88e465c3f866a76f7adee3871bdd8:   10   18   52   61   73   96\n",
      "                             iphone:   11   18   52   61   74   96\n",
      "   ad99dd9d3646cc3c0dda65debcd266a7:   11   18   52   61   74   97\n",
      "Instagram responded with HTTP error \"429 - Too Many Requests\". Please\n",
      "do not run multiple instances of Instaloader in parallel or within\n",
      "short sequence. Also, do not use any Instagram App while Instaloader\n",
      "is running.\n",
      "The request will be retried in 9 seconds, at 07:56.\n",
      "JSON Query to 1dude18/feed/: 429 Too Many Requests [retrying; skip with ^C]\n",
      "Requests within last 10/11/20/22/30/60 minutes grouped by type:\n",
      " *                            other:   51   58  112  129  161  214\n",
      "   9ca88e465c3f866a76f7adee3871bdd8:    9   17   50   60   73   96\n",
      "                             iphone:    9   17   50   60   73   96\n",
      "   ad99dd9d3646cc3c0dda65debcd266a7:   10   17   50   60   73   97\n",
      "Instagram responded with HTTP error \"429 - Too Many Requests\". Please\n",
      "do not run multiple instances of Instaloader in parallel or within\n",
      "short sequence. Also, do not use any Instagram App while Instaloader\n",
      "is running.\n",
      "The request will be retried in 16 seconds, at 07:56.\n",
      "JSON Query to 1dude18/feed/: 429 Too Many Requests [retrying; skip with ^C]\n",
      "Requests within last 10/11/20/22/30/60 minutes grouped by type:\n",
      " *                            other:   50   58  110  130  158  215\n",
      "   9ca88e465c3f866a76f7adee3871bdd8:    7   15   48   59   71   96\n",
      "                             iphone:    8   15   48   59   71   96\n",
      "   ad99dd9d3646cc3c0dda65debcd266a7:    8   16   48   59   71   97\n",
      "Instagram responded with HTTP error \"429 - Too Many Requests\". Please\n",
      "do not run multiple instances of Instaloader in parallel or within\n",
      "short sequence. Also, do not use any Instagram App while Instaloader\n",
      "is running.\n",
      "The request will be retried in 8 seconds, at 07:56.\n",
      "JSON Query to 1dummyfortest/feed/: 429 Too Many Requests [retrying; skip with ^C]\n",
      "Requests within last 10/11/20/22/30/60 minutes grouped by type:\n",
      " *                            other:   51   58  108  131  155  217\n",
      "   9ca88e465c3f866a76f7adee3871bdd8:    6   13   47   58   70   96\n",
      "                             iphone:    6   13   47   58   71   96\n",
      "   ad99dd9d3646cc3c0dda65debcd266a7:    7   13   47   59   71   97\n",
      "Instagram responded with HTTP error \"429 - Too Many Requests\". Please\n",
      "do not run multiple instances of Instaloader in parallel or within\n",
      "short sequence. Also, do not use any Instagram App while Instaloader\n",
      "is running.\n",
      "The request will be retried in 8 seconds, at 07:56.\n"
     ]
    },
    {
     "name": "stderr",
     "output_type": "stream",
     "text": [
      "JSON Query to 1dummyfortest/feed/: 429 Too Many Requests [retrying; skip with ^C]\n",
      "Requests within last 10/11/20/22/30/60 minutes grouped by type:\n",
      " *                            other:   51   58  107  131  156  218\n",
      "   9ca88e465c3f866a76f7adee3871bdd8:    5   12   45   57   70   96\n",
      "                             iphone:    5   12   46   57   70   96\n",
      "   ad99dd9d3646cc3c0dda65debcd266a7:    6   13   46   57   70   97\n",
      "Instagram responded with HTTP error \"429 - Too Many Requests\". Please\n",
      "do not run multiple instances of Instaloader in parallel or within\n",
      "short sequence. Also, do not use any Instagram App while Instaloader\n",
      "is running.\n",
      "The request will be retried in 8 seconds, at 07:57.\n",
      "JSON Query to 1e.g3/feed/: 429 Too Many Requests [retrying; skip with ^C]\n",
      "Requests within last 10/11/20/22/30/60 minutes grouped by type:\n",
      " *                            other:   52   59  108  131  156  220\n",
      "   9ca88e465c3f866a76f7adee3871bdd8:    4   11   44   56   68   96\n",
      "                             iphone:    4   11   45   56   69   96\n",
      "   ad99dd9d3646cc3c0dda65debcd266a7:    4   11   45   56   69   97\n",
      "Instagram responded with HTTP error \"429 - Too Many Requests\". Please\n",
      "do not run multiple instances of Instaloader in parallel or within\n",
      "short sequence. Also, do not use any Instagram App while Instaloader\n",
      "is running.\n",
      "The request will be retried in 7 seconds, at 07:57.\n",
      "JSON Query to 1e.g3/feed/: 429 Too Many Requests [retrying; skip with ^C]\n",
      "Requests within last 10/11/20/22/30/60 minutes grouped by type:\n",
      " *                            other:   52   59  108  131  156  221\n",
      "   9ca88e465c3f866a76f7adee3871bdd8:    3   10   43   54   67   96\n",
      "                             iphone:    3   10   44   55   68   96\n",
      "   ad99dd9d3646cc3c0dda65debcd266a7:    3   11   44   55   68   97\n",
      "Instagram responded with HTTP error \"429 - Too Many Requests\". Please\n",
      "do not run multiple instances of Instaloader in parallel or within\n",
      "short sequence. Also, do not use any Instagram App while Instaloader\n",
      "is running.\n",
      "The request will be retried in 9 seconds, at 07:57.\n",
      "JSON Query to 1edaolgacc/feed/: 429 Too Many Requests [retrying; skip with ^C]\n",
      "Requests within last 10/11/20/22/30/60 minutes grouped by type:\n",
      " *                            other:   52   59  108  129  157  223\n",
      "   9ca88e465c3f866a76f7adee3871bdd8:    1    8   41   54   66   96\n",
      "                             iphone:    1    9   42   54   66   96\n",
      "   ad99dd9d3646cc3c0dda65debcd266a7:    1    9   42   54   66   97\n",
      "Instagram responded with HTTP error \"429 - Too Many Requests\". Please\n",
      "do not run multiple instances of Instaloader in parallel or within\n",
      "short sequence. Also, do not use any Instagram App while Instaloader\n",
      "is running.\n",
      "The request will be retried in 9 seconds, at 07:57.\n",
      "JSON Query to 1edaolgacc/feed/: 429 Too Many Requests [retrying; skip with ^C]\n",
      "Requests within last 10/11/20/22/30/60 minutes grouped by type:\n",
      " *                            other:   51   59  108  127  153  224\n",
      "   9ca88e465c3f866a76f7adee3871bdd8:    0    7   40   53   65   96\n",
      "                             iphone:    0    7   41   53   66   96\n",
      "   ad99dd9d3646cc3c0dda65debcd266a7:    0    8   41   53   66   97\n",
      "Instagram responded with HTTP error \"429 - Too Many Requests\". Please\n",
      "do not run multiple instances of Instaloader in parallel or within\n",
      "short sequence. Also, do not use any Instagram App while Instaloader\n",
      "is running.\n",
      "The request will be retried in 9 seconds, at 07:57.\n",
      "JSON Query to 1ee_cv/feed/: 429 Too Many Requests [retrying; skip with ^C]\n",
      "Requests within last 10/11/20/22/30/60 minutes grouped by type:\n",
      " *                            other:   46   60  109  128  154  226\n",
      "   9ca88e465c3f866a76f7adee3871bdd8:    0    6   39   53   64   96\n",
      "                             iphone:    0    6   40   53   64   96\n",
      "   ad99dd9d3646cc3c0dda65debcd266a7:    0    7   40   53   64   97\n",
      "Instagram responded with HTTP error \"429 - Too Many Requests\". Please\n",
      "do not run multiple instances of Instaloader in parallel or within\n",
      "short sequence. Also, do not use any Instagram App while Instaloader\n",
      "is running.\n",
      "The request will be retried in 9 seconds, at 07:58.\n",
      "JSON Query to 1ee_cv/feed/: 429 Too Many Requests [retrying; skip with ^C]\n",
      "Requests within last 10/11/20/22/30/60 minutes grouped by type:\n",
      " *                            other:   46   59  108  127  153  227\n",
      "   9ca88e465c3f866a76f7adee3871bdd8:    0    4   38   53   63   96\n",
      "                             iphone:    0    5   38   53   63   96\n",
      "   ad99dd9d3646cc3c0dda65debcd266a7:    0    5   38   53   63   97\n",
      "Instagram responded with HTTP error \"429 - Too Many Requests\". Please\n",
      "do not run multiple instances of Instaloader in parallel or within\n",
      "short sequence. Also, do not use any Instagram App while Instaloader\n",
      "is running.\n",
      "The request will be retried in 12 seconds, at 07:58.\n",
      "JSON Query to 1eess2/feed/: 429 Too Many Requests [retrying; skip with ^C]\n",
      "Requests within last 10/11/20/22/30/60 minutes grouped by type:\n",
      " *                            other:   47   59  105  127  154  229\n",
      "   9ca88e465c3f866a76f7adee3871bdd8:    0    3   37   50   62   96\n",
      "                             iphone:    0    3   37   50   62   96\n",
      "   ad99dd9d3646cc3c0dda65debcd266a7:    0    3   37   51   62   97\n",
      "Instagram responded with HTTP error \"429 - Too Many Requests\". Please\n",
      "do not run multiple instances of Instaloader in parallel or within\n",
      "short sequence. Also, do not use any Instagram App while Instaloader\n",
      "is running.\n",
      "The request will be retried in 11 seconds, at 07:58.\n",
      "JSON Query to 1eess2/feed/: 429 Too Many Requests [retrying; skip with ^C]\n",
      "Requests within last 10/11/20/22/30/60 minutes grouped by type:\n",
      " *                            other:   47   59  105  126  155  230\n",
      "   9ca88e465c3f866a76f7adee3871bdd8:    0    1   36   49   62   96\n",
      "                             iphone:    0    1   36   49   62   96\n",
      "   ad99dd9d3646cc3c0dda65debcd266a7:    0    1   36   49   62   97\n",
      "Instagram responded with HTTP error \"429 - Too Many Requests\". Please\n",
      "do not run multiple instances of Instaloader in parallel or within\n",
      "short sequence. Also, do not use any Instagram App while Instaloader\n",
      "is running.\n",
      "The request will be retried in 7 seconds, at 07:58.\n",
      "JSON Query to 1ehsanasadi/feed/: 429 Too Many Requests [retrying; skip with ^C]\n",
      "Requests within last 10/11/20/22/30/60 minutes grouped by type:\n",
      " *                            other:   47   59  106  125  157  232\n",
      "   9ca88e465c3f866a76f7adee3871bdd8:    0    0   34   48   62   96\n",
      "                             iphone:    0    0   35   48   62   96\n",
      "   ad99dd9d3646cc3c0dda65debcd266a7:    0    0   35   48   62   97\n",
      "Instagram responded with HTTP error \"429 - Too Many Requests\". Please\n",
      "do not run multiple instances of Instaloader in parallel or within\n",
      "short sequence. Also, do not use any Instagram App while Instaloader\n",
      "is running.\n",
      "The request will be retried in 10 seconds, at 07:58.\n",
      "JSON Query to 1ehsanasadi/feed/: 429 Too Many Requests [retrying; skip with ^C]\n",
      "Requests within last 10/11/20/22/30/60 minutes grouped by type:\n",
      " *                            other:   48   54  106  123  158  233\n",
      "   9ca88e465c3f866a76f7adee3871bdd8:    0    0   34   46   62   96\n",
      "                             iphone:    0    0   34   47   62   96\n",
      "   ad99dd9d3646cc3c0dda65debcd266a7:    0    0   34   47   62   97\n",
      "Instagram responded with HTTP error \"429 - Too Many Requests\". Please\n",
      "do not run multiple instances of Instaloader in parallel or within\n",
      "short sequence. Also, do not use any Instagram App while Instaloader\n",
      "is running.\n",
      "The request will be retried in 6 seconds, at 07:58.\n",
      "JSON Query to 1elvee/feed/: 429 Too Many Requests [retrying; skip with ^C]\n",
      "Requests within last 10/11/20/22/30/60 minutes grouped by type:\n",
      " *                            other:   48   54  107  124  160  235\n",
      "   9ca88e465c3f866a76f7adee3871bdd8:    0    0   32   45   62   96\n",
      "                             iphone:    0    0   33   45   62   96\n",
      "   ad99dd9d3646cc3c0dda65debcd266a7:    0    0   33   45   62   97\n",
      "Instagram responded with HTTP error \"429 - Too Many Requests\". Please\n",
      "do not run multiple instances of Instaloader in parallel or within\n",
      "short sequence. Also, do not use any Instagram App while Instaloader\n",
      "is running.\n",
      "The request will be retried in 18 seconds, at 07:59.\n",
      "JSON Query to 1elvee/feed/: 429 Too Many Requests [retrying; skip with ^C]\n",
      "Requests within last 10/11/20/22/30/60 minutes grouped by type:\n",
      " *                            other:   48   54  106  123  161  236\n",
      "   9ca88e465c3f866a76f7adee3871bdd8:    0    0   31   43   62   96\n",
      "                             iphone:    0    0   31   43   62   96\n",
      "   ad99dd9d3646cc3c0dda65debcd266a7:    0    0   31   44   62   97\n",
      "Instagram responded with HTTP error \"429 - Too Many Requests\". Please\n",
      "do not run multiple instances of Instaloader in parallel or within\n",
      "short sequence. Also, do not use any Instagram App while Instaloader\n",
      "is running.\n",
      "The request will be retried in 16 seconds, at 07:59.\n"
     ]
    },
    {
     "name": "stderr",
     "output_type": "stream",
     "text": [
      "JSON Query to 1enginbilgic/feed/: 429 Too Many Requests [retrying; skip with ^C]\n",
      "Requests within last 10/11/20/22/30/60 minutes grouped by type:\n",
      " *                            other:   48   54  106  122  163  238\n",
      "   9ca88e465c3f866a76f7adee3871bdd8:    0    0   29   41   62   96\n",
      "                             iphone:    0    0   29   41   62   96\n",
      "   ad99dd9d3646cc3c0dda65debcd266a7:    0    0   29   41   62   97\n",
      "Instagram responded with HTTP error \"429 - Too Many Requests\". Please\n",
      "do not run multiple instances of Instaloader in parallel or within\n",
      "short sequence. Also, do not use any Instagram App while Instaloader\n",
      "is running.\n",
      "The request will be retried in 7 seconds, at 07:59.\n",
      "JSON Query to 1enginbilgic/feed/: 429 Too Many Requests [retrying; skip with ^C]\n",
      "Requests within last 10/11/20/22/30/60 minutes grouped by type:\n",
      " *                            other:   48   54  107  123  164  239\n",
      "   9ca88e465c3f866a76f7adee3871bdd8:    0    0   28   40   62   96\n",
      "                             iphone:    0    0   28   40   62   96\n",
      "   ad99dd9d3646cc3c0dda65debcd266a7:    0    0   28   40   62   97\n",
      "Instagram responded with HTTP error \"429 - Too Many Requests\". Please\n",
      "do not run multiple instances of Instaloader in parallel or within\n",
      "short sequence. Also, do not use any Instagram App while Instaloader\n",
      "is running.\n",
      "The request will be retried in 16 seconds, at 08:00.\n",
      "JSON Query to 1engineeringlaw/feed/: 429 Too Many Requests [retrying; skip with ^C]\n",
      "Requests within last 10/11/20/22/30/60 minutes grouped by type:\n",
      " *                            other:   48   54  106  121  166  241\n",
      "   9ca88e465c3f866a76f7adee3871bdd8:    0    0   25   37   62   96\n",
      "                             iphone:    0    0   25   37   62   96\n",
      "   ad99dd9d3646cc3c0dda65debcd266a7:    0    0   25   37   62   97\n",
      "Instagram responded with HTTP error \"429 - Too Many Requests\". Please\n",
      "do not run multiple instances of Instaloader in parallel or within\n",
      "short sequence. Also, do not use any Instagram App while Instaloader\n",
      "is running.\n",
      "The request will be retried in 7 seconds, at 08:00.\n",
      "JSON Query to 1engineeringlaw/feed/: 429 Too Many Requests [retrying; skip with ^C]\n",
      "Requests within last 10/11/20/22/30/60 minutes grouped by type:\n",
      " *                            other:   49   54  105  119  167  242\n",
      "   9ca88e465c3f866a76f7adee3871bdd8:    0    0   24   37   62   96\n",
      "                             iphone:    0    0   24   37   62   96\n",
      "   ad99dd9d3646cc3c0dda65debcd266a7:    0    0   24   37   62   97\n",
      "Instagram responded with HTTP error \"429 - Too Many Requests\". Please\n",
      "do not run multiple instances of Instaloader in parallel or within\n",
      "short sequence. Also, do not use any Instagram App while Instaloader\n",
      "is running.\n",
      "The request will be retried in 12 seconds, at 08:00.\n",
      "JSON Query to 1esperanto/feed/: 429 Too Many Requests [retrying; skip with ^C]\n",
      "Requests within last 10/11/20/22/30/60 minutes grouped by type:\n",
      " *                            other:   48   54  105  119  169  244\n",
      "   9ca88e465c3f866a76f7adee3871bdd8:    0    0   23   35   62   96\n",
      "                             iphone:    0    0   23   36   62   96\n",
      "   ad99dd9d3646cc3c0dda65debcd266a7:    0    0   23   36   62   97\n",
      "Instagram responded with HTTP error \"429 - Too Many Requests\". Please\n",
      "do not run multiple instances of Instaloader in parallel or within\n",
      "short sequence. Also, do not use any Instagram App while Instaloader\n",
      "is running.\n",
      "The request will be retried in 16 seconds, at 08:00.\n",
      "JSON Query to 1esperanto/feed/: 429 Too Many Requests [retrying; skip with ^C]\n",
      "Requests within last 10/11/20/22/30/60 minutes grouped by type:\n",
      " *                            other:   48   54  100  118  170  245\n",
      "   9ca88e465c3f866a76f7adee3871bdd8:    0    0   21   34   62   96\n",
      "                             iphone:    0    0   21   34   62   96\n",
      "   ad99dd9d3646cc3c0dda65debcd266a7:    0    0   21   34   62   97\n",
      "Instagram responded with HTTP error \"429 - Too Many Requests\". Please\n",
      "do not run multiple instances of Instaloader in parallel or within\n",
      "short sequence. Also, do not use any Instagram App while Instaloader\n",
      "is running.\n",
      "The request will be retried in 16 seconds, at 08:01.\n",
      "JSON Query to 1ess21s/feed/: 429 Too Many Requests [retrying; skip with ^C]\n",
      "Requests within last 10/11/20/22/30/60 minutes grouped by type:\n",
      " *                            other:   47   54   97  118  172  247\n",
      "   9ca88e465c3f866a76f7adee3871bdd8:    0    0   21   32   62   96\n",
      "                             iphone:    0    0   21   32   62   96\n",
      "   ad99dd9d3646cc3c0dda65debcd266a7:    0    0   21   32   62   97\n",
      "Instagram responded with HTTP error \"429 - Too Many Requests\". Please\n",
      "do not run multiple instances of Instaloader in parallel or within\n",
      "short sequence. Also, do not use any Instagram App while Instaloader\n",
      "is running.\n",
      "The request will be retried in 13 seconds, at 08:01.\n",
      "JSON Query to 1ess21s/feed/: 429 Too Many Requests [retrying; skip with ^C]\n",
      "Requests within last 10/11/20/22/30/60 minutes grouped by type:\n",
      " *                            other:   46   54   98  117  173  248\n",
      "   9ca88e465c3f866a76f7adee3871bdd8:    0    0   21   30   62   96\n",
      "                             iphone:    0    0   21   30   62   96\n",
      "   ad99dd9d3646cc3c0dda65debcd266a7:    0    0   21   30   62   97\n",
      "Instagram responded with HTTP error \"429 - Too Many Requests\". Please\n",
      "do not run multiple instances of Instaloader in parallel or within\n",
      "short sequence. Also, do not use any Instagram App while Instaloader\n",
      "is running.\n",
      "The request will be retried in 7 seconds, at 08:01.\n",
      "JSON Query to 1everich/feed/: 429 Too Many Requests [retrying; skip with ^C]\n",
      "Requests within last 10/11/20/22/30/60 minutes grouped by type:\n",
      " *                            other:   47   54  100  119  175  250\n",
      "   9ca88e465c3f866a76f7adee3871bdd8:    0    0   21   29   62   96\n",
      "                             iphone:    0    0   21   29   62   96\n",
      "   ad99dd9d3646cc3c0dda65debcd266a7:    0    0   21   29   62   97\n",
      "Instagram responded with HTTP error \"429 - Too Many Requests\". Please\n",
      "do not run multiple instances of Instaloader in parallel or within\n",
      "short sequence. Also, do not use any Instagram App while Instaloader\n",
      "is running.\n",
      "The request will be retried in 15 seconds, at 08:01.\n",
      "JSON Query to 1everich/feed/: 429 Too Many Requests [retrying; skip with ^C]\n",
      "Requests within last 10/11/20/22/30/60 minutes grouped by type:\n",
      " *                            other:   46   52  101  116  176  251\n",
      "   9ca88e465c3f866a76f7adee3871bdd8:    0    0   21   26   62   96\n",
      "                             iphone:    0    0   21   26   62   96\n",
      "   ad99dd9d3646cc3c0dda65debcd266a7:    0    0   21   26   62   97\n",
      "Instagram responded with HTTP error \"429 - Too Many Requests\". Please\n",
      "do not run multiple instances of Instaloader in parallel or within\n",
      "short sequence. Also, do not use any Instagram App while Instaloader\n",
      "is running.\n",
      "The request will be retried in 11 seconds, at 08:02.\n",
      "JSON Query to 1f_n29/feed/: 429 Too Many Requests [retrying; skip with ^C]\n",
      "Requests within last 10/11/20/22/30/60 minutes grouped by type:\n",
      " *                            other:   46   53  103  117  178  253\n",
      "   9ca88e465c3f866a76f7adee3871bdd8:    0    0   21   25   62   96\n",
      "                             iphone:    0    0   21   25   62   96\n",
      "   ad99dd9d3646cc3c0dda65debcd266a7:    0    0   21   25   62   97\n",
      "Instagram responded with HTTP error \"429 - Too Many Requests\". Please\n",
      "do not run multiple instances of Instaloader in parallel or within\n",
      "short sequence. Also, do not use any Instagram App while Instaloader\n",
      "is running.\n",
      "The request will be retried in 15 seconds, at 08:02.\n",
      "JSON Query to 1f_n29/feed/: 429 Too Many Requests [retrying; skip with ^C]\n",
      "Requests within last 10/11/20/22/30/60 minutes grouped by type:\n",
      " *                            other:   46   52  104  117  179  254\n",
      "   9ca88e465c3f866a76f7adee3871bdd8:    0    0   21   23   62   96\n",
      "                             iphone:    0    0   21   23   62   96\n",
      "   ad99dd9d3646cc3c0dda65debcd266a7:    0    0   21   23   62   97\n",
      "Instagram responded with HTTP error \"429 - Too Many Requests\". Please\n",
      "do not run multiple instances of Instaloader in parallel or within\n",
      "short sequence. Also, do not use any Instagram App while Instaloader\n",
      "is running.\n",
      "The request will be retried in 13 seconds, at 08:02.\n",
      "JSON Query to 1fadyyy/feed/: 429 Too Many Requests [retrying; skip with ^C]\n",
      "Requests within last 10/11/20/22/30/60 minutes grouped by type:\n",
      " *                            other:   48   53  106  114  181  256\n",
      "   9ca88e465c3f866a76f7adee3871bdd8:    0    0   21   22   62   96\n",
      "                             iphone:    0    0   21   22   62   96\n",
      "   ad99dd9d3646cc3c0dda65debcd266a7:    0    0   21   22   62   97\n",
      "Instagram responded with HTTP error \"429 - Too Many Requests\". Please\n",
      "do not run multiple instances of Instaloader in parallel or within\n",
      "short sequence. Also, do not use any Instagram App while Instaloader\n",
      "is running.\n",
      "The request will be retried in 13 seconds, at 08:02.\n"
     ]
    },
    {
     "name": "stderr",
     "output_type": "stream",
     "text": [
      "JSON Query to 1fadyyy/feed/: 429 Too Many Requests [retrying; skip with ^C]\n",
      "Requests within last 10/11/20/22/30/60 minutes grouped by type:\n",
      " *                            other:   49   52  107  111  182  257\n",
      "   9ca88e465c3f866a76f7adee3871bdd8:    0    0   21   21   62   96\n",
      "                             iphone:    0    0   21   21   62   96\n",
      "   ad99dd9d3646cc3c0dda65debcd266a7:    0    0   21   21   62   97\n",
      "Instagram responded with HTTP error \"429 - Too Many Requests\". Please\n",
      "do not run multiple instances of Instaloader in parallel or within\n",
      "short sequence. Also, do not use any Instagram App while Instaloader\n",
      "is running.\n",
      "The request will be retried in 10 seconds, at 08:03.\n",
      "JSON Query to 1fan_payton0/feed/: 429 Too Many Requests [retrying; skip with ^C]\n",
      "Requests within last 10/11/20/22/30/60 minutes grouped by type:\n",
      " *                            other:   51   53  109  109  184  259\n",
      "   9ca88e465c3f866a76f7adee3871bdd8:    0    0   21   21   62   96\n",
      "                             iphone:    0    0   21   21   62   96\n",
      "   ad99dd9d3646cc3c0dda65debcd266a7:    0    0   21   21   62   97\n",
      "Instagram responded with HTTP error \"429 - Too Many Requests\". Please\n",
      "do not run multiple instances of Instaloader in parallel or within\n",
      "short sequence. Also, do not use any Instagram App while Instaloader\n",
      "is running.\n",
      "The request will be retried in 7 seconds, at 08:03.\n",
      "JSON Query to 1fan_payton0/feed/: 429 Too Many Requests [retrying; skip with ^C]\n",
      "Requests within last 10/11/20/22/30/60 minutes grouped by type:\n",
      " *                            other:   52   52  110  110  185  260\n",
      "   9ca88e465c3f866a76f7adee3871bdd8:    0    0   21   21   62   96\n",
      "                             iphone:    0    0   21   21   62   96\n",
      "   ad99dd9d3646cc3c0dda65debcd266a7:    0    0   21   21   62   97\n",
      "Instagram responded with HTTP error \"429 - Too Many Requests\". Please\n",
      "do not run multiple instances of Instaloader in parallel or within\n",
      "short sequence. Also, do not use any Instagram App while Instaloader\n",
      "is running.\n",
      "The request will be retried in 217 seconds, at 08:06.\n",
      "JSON Query to 1farzad_abbasi/feed/: 429 Too Many Requests [retrying; skip with ^C]\n",
      "Requests within last 10/11/20/22/30/60 minutes grouped by type:\n",
      " *                            other:   44   53   94  109  151  262\n",
      "   9ca88e465c3f866a76f7adee3871bdd8:    0    0    5   19   45   96\n",
      "                             iphone:    0    0    5   19   45   96\n",
      "   ad99dd9d3646cc3c0dda65debcd266a7:    0    0    5   20   46   97\n",
      "Instagram responded with HTTP error \"429 - Too Many Requests\". Please\n",
      "do not run multiple instances of Instaloader in parallel or within\n",
      "short sequence. Also, do not use any Instagram App while Instaloader\n",
      "is running.\n",
      "The request will be retried in 6 seconds, at 08:07.\n",
      "JSON Query to 1farzad_abbasi/feed/: 429 Too Many Requests [retrying; skip with ^C]\n",
      "Requests within last 10/11/20/22/30/60 minutes grouped by type:\n",
      " *                            other:   43   52   95  109  151  263\n",
      "   9ca88e465c3f866a76f7adee3871bdd8:    0    0    4   18   44   96\n",
      "                             iphone:    0    0    4   18   44   96\n",
      "   ad99dd9d3646cc3c0dda65debcd266a7:    0    0    4   19   45   97\n",
      "Instagram responded with HTTP error \"429 - Too Many Requests\". Please\n",
      "do not run multiple instances of Instaloader in parallel or within\n",
      "short sequence. Also, do not use any Instagram App while Instaloader\n",
      "is running.\n",
      "The request will be retried in 7 seconds, at 08:07.\n",
      "JSON Query to 1fbgsnoop/feed/: 429 Too Many Requests [retrying; skip with ^C]\n",
      "Requests within last 10/11/20/22/30/60 minutes grouped by type:\n",
      " *                            other:   44   51   95  109  152  265\n",
      "   9ca88e465c3f866a76f7adee3871bdd8:    0    0    2   17   43   96\n",
      "                             iphone:    0    0    3   17   43   96\n",
      "   ad99dd9d3646cc3c0dda65debcd266a7:    0    0    3   17   43   97\n",
      "Instagram responded with HTTP error \"429 - Too Many Requests\". Please\n",
      "do not run multiple instances of Instaloader in parallel or within\n",
      "short sequence. Also, do not use any Instagram App while Instaloader\n",
      "is running.\n",
      "The request will be retried in 21 seconds, at 08:07.\n",
      "JSON Query to 1fbgsnoop/feed/: 429 Too Many Requests [retrying; skip with ^C]\n",
      "Requests within last 10/11/20/22/30/60 minutes grouped by type:\n",
      " *                            other:   42   51   92  107  150  266\n",
      "   9ca88e465c3f866a76f7adee3871bdd8:    0    0    0   14   40   96\n",
      "                             iphone:    0    0    0   14   40   96\n",
      "   ad99dd9d3646cc3c0dda65debcd266a7:    0    0    0   14   41   97\n",
      "Instagram responded with HTTP error \"429 - Too Many Requests\". Please\n",
      "do not run multiple instances of Instaloader in parallel or within\n",
      "short sequence. Also, do not use any Instagram App while Instaloader\n",
      "is running.\n",
      "The request will be retried in 9 seconds, at 08:07.\n",
      "JSON Query to 1feeka/feed/: 429 Too Many Requests [retrying; skip with ^C]\n",
      "Requests within last 10/11/20/22/30/60 minutes grouped by type:\n",
      " *                            other:   42   50   87  108  150  268\n",
      "   9ca88e465c3f866a76f7adee3871bdd8:    0    0    0   12   39   96\n",
      "                             iphone:    0    0    0   12   39   96\n",
      "   ad99dd9d3646cc3c0dda65debcd266a7:    0    0    0   12   39   97\n",
      "Instagram responded with HTTP error \"429 - Too Many Requests\". Please\n",
      "do not run multiple instances of Instaloader in parallel or within\n",
      "short sequence. Also, do not use any Instagram App while Instaloader\n",
      "is running.\n",
      "The request will be retried in 13 seconds, at 08:08.\n",
      "JSON Query to 1feeka/feed/: 429 Too Many Requests [retrying; skip with ^C]\n",
      "Requests within last 10/11/20/22/30/60 minutes grouped by type:\n",
      " *                            other:   42   49   88  107  148  269\n",
      "   9ca88e465c3f866a76f7adee3871bdd8:    0    0    0   10   37   96\n",
      "                             iphone:    0    0    0   11   37   96\n",
      "   ad99dd9d3646cc3c0dda65debcd266a7:    0    0    0   11   37   97\n",
      "Instagram responded with HTTP error \"429 - Too Many Requests\". Please\n",
      "do not run multiple instances of Instaloader in parallel or within\n",
      "short sequence. Also, do not use any Instagram App while Instaloader\n",
      "is running.\n",
      "The request will be retried in 9 seconds, at 08:08.\n",
      "[skipped by user]\n",
      "JSON Query to 1femaledondada/feed/: 429 Too Many Requests [retrying; skip with ^C]\n",
      "Requests within last 10/11/20/22/30/60 minutes grouped by type:\n",
      " *                            other:   41   49   88  107  146  270\n",
      "   9ca88e465c3f866a76f7adee3871bdd8:    0    0    0    9   37   96\n",
      "                             iphone:    0    0    0    9   37   96\n",
      "   ad99dd9d3646cc3c0dda65debcd266a7:    0    0    0   10   37   97\n",
      "Instagram responded with HTTP error \"429 - Too Many Requests\". Please\n",
      "do not run multiple instances of Instaloader in parallel or within\n",
      "short sequence. Also, do not use any Instagram App while Instaloader\n",
      "is running.\n",
      "The request will be retried in 14 seconds, at 08:08.\n",
      "[skipped by user]\n",
      "JSON Query to 1ff9l/feed/: 429 Too Many Requests [retrying; skip with ^C]\n",
      "Requests within last 10/11/20/22/30/60 minutes grouped by type:\n",
      " *                            other:   41   48   87  106  146  271\n",
      "   9ca88e465c3f866a76f7adee3871bdd8:    0    0    0    8   35   96\n",
      "                             iphone:    0    0    0    8   35   96\n",
      "   ad99dd9d3646cc3c0dda65debcd266a7:    0    0    0    8   35   97\n",
      "Instagram responded with HTTP error \"429 - Too Many Requests\". Please\n",
      "do not run multiple instances of Instaloader in parallel or within\n",
      "short sequence. Also, do not use any Instagram App while Instaloader\n",
      "is running.\n",
      "The request will be retried in 11 seconds, at 08:08.\n",
      "JSON Query to 1ff9l/feed/: 429 Too Many Requests [retrying; skip with ^C]\n",
      "Requests within last 10/11/20/22/30/60 minutes grouped by type:\n",
      " *                            other:   40   48   87  106  146  272\n",
      "   9ca88e465c3f866a76f7adee3871bdd8:    0    0    0    6   34   96\n",
      "                             iphone:    0    0    0    7   34   96\n",
      "   ad99dd9d3646cc3c0dda65debcd266a7:    0    0    0    7   35   97\n",
      "Instagram responded with HTTP error \"429 - Too Many Requests\". Please\n",
      "do not run multiple instances of Instaloader in parallel or within\n",
      "short sequence. Also, do not use any Instagram App while Instaloader\n",
      "is running.\n",
      "The request will be retried in 10 seconds, at 08:08.\n"
     ]
    },
    {
     "name": "stderr",
     "output_type": "stream",
     "text": [
      "[skipped by user]\n"
     ]
    }
   ],
   "source": [
    "# 150 is the max number for data downloads per day\n",
    "# Change [600:750] to [750:900] on 11/23/2020\n",
    "\n",
    "name_lst, lst_dict = download_instaloader(unique_ids[600:750])"
   ]
  },
  {
   "cell_type": "code",
   "execution_count": 37,
   "metadata": {
    "scrolled": true
   },
   "outputs": [
    {
     "data": {
      "text/plain": [
       "(96, 96)"
      ]
     },
     "execution_count": 37,
     "metadata": {},
     "output_type": "execute_result"
    }
   ],
   "source": [
    "len(name_lst), len(lst_dict)"
   ]
  },
  {
   "cell_type": "code",
   "execution_count": 38,
   "metadata": {},
   "outputs": [
    {
     "data": {
      "text/html": [
       "<div>\n",
       "<style scoped>\n",
       "    .dataframe tbody tr th:only-of-type {\n",
       "        vertical-align: middle;\n",
       "    }\n",
       "\n",
       "    .dataframe tbody tr th {\n",
       "        vertical-align: top;\n",
       "    }\n",
       "\n",
       "    .dataframe thead th {\n",
       "        text-align: right;\n",
       "    }\n",
       "</style>\n",
       "<table border=\"1\" class=\"dataframe\">\n",
       "  <thead>\n",
       "    <tr style=\"text-align: right;\">\n",
       "      <th></th>\n",
       "      <th>user_name</th>\n",
       "      <th>user_id</th>\n",
       "      <th>private</th>\n",
       "      <th>followed</th>\n",
       "      <th>post_count</th>\n",
       "      <th>igtv_count</th>\n",
       "      <th>followers_count</th>\n",
       "      <th>following_count</th>\n",
       "      <th>external_url</th>\n",
       "      <th>business_acct</th>\n",
       "      <th>business_cat</th>\n",
       "      <th>bio</th>\n",
       "      <th>blocked_by_viewers</th>\n",
       "      <th>follows</th>\n",
       "      <th>full_name</th>\n",
       "      <th>blocked_viewers</th>\n",
       "      <th>public_story</th>\n",
       "      <th>requested_viewer</th>\n",
       "      <th>profile_pic_url</th>\n",
       "      <th>similar_accounts</th>\n",
       "    </tr>\n",
       "  </thead>\n",
       "  <tbody>\n",
       "    <tr>\n",
       "      <th>0</th>\n",
       "      <td>1992_oviedo</td>\n",
       "      <td>1430020671</td>\n",
       "      <td>False</td>\n",
       "      <td>False</td>\n",
       "      <td>3</td>\n",
       "      <td>0</td>\n",
       "      <td>63974</td>\n",
       "      <td>169</td>\n",
       "      <td>None</td>\n",
       "      <td>False</td>\n",
       "      <td>None</td>\n",
       "      <td>Honduras 🇭🇳 \\nSoltera\\nMi Pasatiempo Es El Gim...</td>\n",
       "      <td>False</td>\n",
       "      <td>False</td>\n",
       "      <td>Dominguez</td>\n",
       "      <td>False</td>\n",
       "      <td>False</td>\n",
       "      <td>False</td>\n",
       "      <td>https://scontent-sjc3-1.cdninstagram.com/v/t51...</td>\n",
       "      <td>{&lt;Profile rociohernandezhn (7683643908)&gt;, &lt;Pro...</td>\n",
       "    </tr>\n",
       "    <tr>\n",
       "      <th>1</th>\n",
       "      <td>1994akrakr</td>\n",
       "      <td>26573298319</td>\n",
       "      <td>False</td>\n",
       "      <td>False</td>\n",
       "      <td>21</td>\n",
       "      <td>1</td>\n",
       "      <td>29280</td>\n",
       "      <td>127</td>\n",
       "      <td>None</td>\n",
       "      <td>False</td>\n",
       "      <td>None</td>\n",
       "      <td>Babam 🇸🇦 ￼￼‏￼￼ والدي\\nAnnem 🇹🇷 ￼￼￼￼￼‏ والدتي\\n...</td>\n",
       "      <td>False</td>\n",
       "      <td>False</td>\n",
       "      <td>‏بتول بتول</td>\n",
       "      <td>False</td>\n",
       "      <td>False</td>\n",
       "      <td>False</td>\n",
       "      <td>https://scontent-sjc3-1.cdninstagram.com/v/t51...</td>\n",
       "      <td>{&lt;Profile jayreubens (12184680070)&gt;, &lt;Profile ...</td>\n",
       "    </tr>\n",
       "    <tr>\n",
       "      <th>2</th>\n",
       "      <td>1994iiab</td>\n",
       "      <td>1506373927</td>\n",
       "      <td>True</td>\n",
       "      <td>False</td>\n",
       "      <td>12</td>\n",
       "      <td>0</td>\n",
       "      <td>22713</td>\n",
       "      <td>66</td>\n",
       "      <td>None</td>\n",
       "      <td>False</td>\n",
       "      <td>None</td>\n",
       "      <td>فيّ السَماء منْ يجيَب فلآ تحِزن ولاتخيَب.</td>\n",
       "      <td>False</td>\n",
       "      <td>False</td>\n",
       "      <td>Bero Alhumeed</td>\n",
       "      <td>False</td>\n",
       "      <td>False</td>\n",
       "      <td>False</td>\n",
       "      <td>https://scontent-sjc3-1.cdninstagram.com/v/t51...</td>\n",
       "      <td>{&lt;Profile jayreubens (12184680070)&gt;, &lt;Profile ...</td>\n",
       "    </tr>\n",
       "  </tbody>\n",
       "</table>\n",
       "</div>"
      ],
      "text/plain": [
       "     user_name      user_id  private  followed  post_count  igtv_count  \\\n",
       "0  1992_oviedo   1430020671    False     False           3           0   \n",
       "1   1994akrakr  26573298319    False     False          21           1   \n",
       "2     1994iiab   1506373927     True     False          12           0   \n",
       "\n",
       "   followers_count  following_count external_url  business_acct business_cat  \\\n",
       "0            63974              169         None          False         None   \n",
       "1            29280              127         None          False         None   \n",
       "2            22713               66         None          False         None   \n",
       "\n",
       "                                                 bio  blocked_by_viewers  \\\n",
       "0  Honduras 🇭🇳 \\nSoltera\\nMi Pasatiempo Es El Gim...               False   \n",
       "1  Babam 🇸🇦 ￼￼‏￼￼ والدي\\nAnnem 🇹🇷 ￼￼￼￼￼‏ والدتي\\n...               False   \n",
       "2          فيّ السَماء منْ يجيَب فلآ تحِزن ولاتخيَب.               False   \n",
       "\n",
       "   follows      full_name  blocked_viewers  public_story  requested_viewer  \\\n",
       "0    False      Dominguez            False         False             False   \n",
       "1    False     ‏بتول بتول            False         False             False   \n",
       "2    False  Bero Alhumeed            False         False             False   \n",
       "\n",
       "                                     profile_pic_url  \\\n",
       "0  https://scontent-sjc3-1.cdninstagram.com/v/t51...   \n",
       "1  https://scontent-sjc3-1.cdninstagram.com/v/t51...   \n",
       "2  https://scontent-sjc3-1.cdninstagram.com/v/t51...   \n",
       "\n",
       "                                    similar_accounts  \n",
       "0  {<Profile rociohernandezhn (7683643908)>, <Pro...  \n",
       "1  {<Profile jayreubens (12184680070)>, <Profile ...  \n",
       "2  {<Profile jayreubens (12184680070)>, <Profile ...  "
      ]
     },
     "execution_count": 38,
     "metadata": {},
     "output_type": "execute_result"
    }
   ],
   "source": [
    "# 150 is the max number for data downloads per day\n",
    "# Change [600:750] to [750:900] on 11/23/2020\n",
    "\n",
    "df_600_750 = pd.DataFrame({'user_id': name_lst\n",
    "                        , 'profile': lst_dict\n",
    "                       }\n",
    "                      )\n",
    "df_600_750 = df_600_750.profile.apply(pd.Series)\n",
    "df_600_750.head(3)"
   ]
  },
  {
   "cell_type": "code",
   "execution_count": 39,
   "metadata": {},
   "outputs": [
    {
     "data": {
      "text/plain": [
       "user_name              0\n",
       "user_id                0\n",
       "private                0\n",
       "followed               0\n",
       "post_count             0\n",
       "igtv_count             0\n",
       "followers_count        0\n",
       "following_count        0\n",
       "external_url          84\n",
       "business_acct          0\n",
       "business_cat          78\n",
       "bio                    0\n",
       "blocked_by_viewers     0\n",
       "follows                0\n",
       "full_name              0\n",
       "blocked_viewers        0\n",
       "public_story           0\n",
       "requested_viewer       0\n",
       "profile_pic_url        0\n",
       "similar_accounts       0\n",
       "dtype: int64"
      ]
     },
     "execution_count": 39,
     "metadata": {},
     "output_type": "execute_result"
    }
   ],
   "source": [
    "df_600_750.isna().sum()"
   ]
  },
  {
   "cell_type": "code",
   "execution_count": 40,
   "metadata": {},
   "outputs": [
    {
     "data": {
      "text/plain": [
       "user_name             0\n",
       "user_id               0\n",
       "private               0\n",
       "followed              0\n",
       "post_count            0\n",
       "igtv_count            0\n",
       "followers_count       0\n",
       "following_count       0\n",
       "external_url          0\n",
       "business_acct         0\n",
       "business_cat          0\n",
       "bio                   0\n",
       "blocked_by_viewers    0\n",
       "follows               0\n",
       "full_name             0\n",
       "blocked_viewers       0\n",
       "public_story          0\n",
       "requested_viewer      0\n",
       "profile_pic_url       0\n",
       "similar_accounts      0\n",
       "dtype: int64"
      ]
     },
     "execution_count": 40,
     "metadata": {},
     "output_type": "execute_result"
    }
   ],
   "source": [
    "df_600_750.fillna('None', inplace = True)\n",
    "df_600_750.isna().sum()"
   ]
  },
  {
   "cell_type": "code",
   "execution_count": 41,
   "metadata": {},
   "outputs": [
    {
     "data": {
      "text/plain": [
       "(96, 20)"
      ]
     },
     "execution_count": 41,
     "metadata": {},
     "output_type": "execute_result"
    }
   ],
   "source": [
    "df_600_750.shape"
   ]
  },
  {
   "cell_type": "code",
   "execution_count": 42,
   "metadata": {},
   "outputs": [
    {
     "data": {
      "text/plain": [
       "(96, 20)"
      ]
     },
     "execution_count": 42,
     "metadata": {},
     "output_type": "execute_result"
    }
   ],
   "source": [
    "# Save and test load\n",
    "df_600_750.to_csv('./data/df_600_750.csv'\n",
    "                , encoding='utf-8'\n",
    "                , index = False\n",
    "               )\n",
    "df_600_750_test = pd.read_csv('./data/df_600_750.csv'\n",
    "                            , encoding='utf-8'\n",
    "                           )\n",
    "df_600_750_test.fillna('None', inplace = True)\n",
    "df_600_750_test.shape"
   ]
  },
  {
   "cell_type": "code",
   "execution_count": 43,
   "metadata": {},
   "outputs": [
    {
     "name": "stdout",
     "output_type": "stream",
     "text": [
      "<class 'pandas.core.frame.DataFrame'>\n",
      "RangeIndex: 96 entries, 0 to 95\n",
      "Data columns (total 20 columns):\n",
      " #   Column              Non-Null Count  Dtype \n",
      "---  ------              --------------  ----- \n",
      " 0   user_name           96 non-null     object\n",
      " 1   user_id             96 non-null     int64 \n",
      " 2   private             96 non-null     bool  \n",
      " 3   followed            96 non-null     bool  \n",
      " 4   post_count          96 non-null     int64 \n",
      " 5   igtv_count          96 non-null     int64 \n",
      " 6   followers_count     96 non-null     int64 \n",
      " 7   following_count     96 non-null     int64 \n",
      " 8   external_url        96 non-null     object\n",
      " 9   business_acct       96 non-null     bool  \n",
      " 10  business_cat        96 non-null     object\n",
      " 11  bio                 96 non-null     object\n",
      " 12  blocked_by_viewers  96 non-null     bool  \n",
      " 13  follows             96 non-null     bool  \n",
      " 14  full_name           96 non-null     object\n",
      " 15  blocked_viewers     96 non-null     bool  \n",
      " 16  public_story        96 non-null     bool  \n",
      " 17  requested_viewer    96 non-null     bool  \n",
      " 18  profile_pic_url     96 non-null     object\n",
      " 19  similar_accounts    96 non-null     object\n",
      "dtypes: bool(8), int64(5), object(7)\n",
      "memory usage: 9.9+ KB\n",
      "<class 'pandas.core.frame.DataFrame'>\n",
      "RangeIndex: 96 entries, 0 to 95\n",
      "Data columns (total 20 columns):\n",
      " #   Column              Non-Null Count  Dtype \n",
      "---  ------              --------------  ----- \n",
      " 0   user_name           96 non-null     object\n",
      " 1   user_id             96 non-null     int64 \n",
      " 2   private             96 non-null     bool  \n",
      " 3   followed            96 non-null     bool  \n",
      " 4   post_count          96 non-null     int64 \n",
      " 5   igtv_count          96 non-null     int64 \n",
      " 6   followers_count     96 non-null     int64 \n",
      " 7   following_count     96 non-null     int64 \n",
      " 8   external_url        96 non-null     object\n",
      " 9   business_acct       96 non-null     bool  \n",
      " 10  business_cat        96 non-null     object\n",
      " 11  bio                 96 non-null     object\n",
      " 12  blocked_by_viewers  96 non-null     bool  \n",
      " 13  follows             96 non-null     bool  \n",
      " 14  full_name           96 non-null     object\n",
      " 15  blocked_viewers     96 non-null     bool  \n",
      " 16  public_story        96 non-null     bool  \n",
      " 17  requested_viewer    96 non-null     bool  \n",
      " 18  profile_pic_url     96 non-null     object\n",
      " 19  similar_accounts    96 non-null     object\n",
      "dtypes: bool(8), int64(5), object(7)\n",
      "memory usage: 9.9+ KB\n"
     ]
    },
    {
     "data": {
      "text/plain": [
       "(None, None)"
      ]
     },
     "execution_count": 43,
     "metadata": {},
     "output_type": "execute_result"
    }
   ],
   "source": [
    "# validate save and test load\n",
    "df_600_750.info(), df_600_750_test.info()"
   ]
  },
  {
   "cell_type": "code",
   "execution_count": null,
   "metadata": {},
   "outputs": [],
   "source": []
  },
  {
   "cell_type": "code",
   "execution_count": null,
   "metadata": {},
   "outputs": [],
   "source": []
  },
  {
   "cell_type": "code",
   "execution_count": null,
   "metadata": {},
   "outputs": [],
   "source": []
  },
  {
   "cell_type": "markdown",
   "metadata": {},
   "source": [
    "## Combine Data Frames from Pervious "
   ]
  },
  {
   "cell_type": "code",
   "execution_count": 44,
   "metadata": {},
   "outputs": [
    {
     "data": {
      "text/plain": [
       "(482, 21)"
      ]
     },
     "execution_count": 44,
     "metadata": {},
     "output_type": "execute_result"
    }
   ],
   "source": [
    "df = pd.read_csv('./data/df.csv')\n",
    "df.fillna('None'\n",
    "          , inplace = True\n",
    "         )\n",
    "df.shape"
   ]
  },
  {
   "cell_type": "code",
   "execution_count": 45,
   "metadata": {},
   "outputs": [
    {
     "data": {
      "text/plain": [
       "(482, 20)"
      ]
     },
     "execution_count": 45,
     "metadata": {},
     "output_type": "execute_result"
    }
   ],
   "source": [
    "df = df.drop('Unnamed: 0', axis = 1)\n",
    "df.shape"
   ]
  },
  {
   "cell_type": "code",
   "execution_count": 46,
   "metadata": {},
   "outputs": [
    {
     "data": {
      "text/plain": [
       "user_name             0\n",
       "user_id               0\n",
       "private               0\n",
       "followed              0\n",
       "post_count            0\n",
       "igtv_count            0\n",
       "followers_count       0\n",
       "following_count       0\n",
       "external_url          0\n",
       "business_acct         0\n",
       "business_cat          0\n",
       "bio                   0\n",
       "blocked_by_viewers    0\n",
       "follows               0\n",
       "full_name             0\n",
       "blocked_viewers       0\n",
       "public_story          0\n",
       "requested_viewer      0\n",
       "profile_pic_url       0\n",
       "similar_accounts      0\n",
       "dtype: int64"
      ]
     },
     "execution_count": 46,
     "metadata": {},
     "output_type": "execute_result"
    }
   ],
   "source": [
    "df.isna().sum()"
   ]
  },
  {
   "cell_type": "code",
   "execution_count": 47,
   "metadata": {},
   "outputs": [
    {
     "data": {
      "text/plain": [
       "(578, 20)"
      ]
     },
     "execution_count": 47,
     "metadata": {},
     "output_type": "execute_result"
    }
   ],
   "source": [
    "# combine df with pervious dataframes\n",
    "df = df.append(df_600_750)\n",
    "df.shape"
   ]
  },
  {
   "cell_type": "code",
   "execution_count": 48,
   "metadata": {},
   "outputs": [
    {
     "data": {
      "text/plain": [
       "user_name             0\n",
       "user_id               0\n",
       "private               0\n",
       "followed              0\n",
       "post_count            0\n",
       "igtv_count            0\n",
       "followers_count       0\n",
       "following_count       0\n",
       "external_url          0\n",
       "business_acct         0\n",
       "business_cat          0\n",
       "bio                   0\n",
       "blocked_by_viewers    0\n",
       "follows               0\n",
       "full_name             0\n",
       "blocked_viewers       0\n",
       "public_story          0\n",
       "requested_viewer      0\n",
       "profile_pic_url       0\n",
       "similar_accounts      0\n",
       "dtype: int64"
      ]
     },
     "execution_count": 48,
     "metadata": {},
     "output_type": "execute_result"
    }
   ],
   "source": [
    "# check for nulls\n",
    "df.isna().sum()"
   ]
  },
  {
   "cell_type": "code",
   "execution_count": 49,
   "metadata": {
    "scrolled": true
   },
   "outputs": [
    {
     "data": {
      "text/html": [
       "<div>\n",
       "<style scoped>\n",
       "    .dataframe tbody tr th:only-of-type {\n",
       "        vertical-align: middle;\n",
       "    }\n",
       "\n",
       "    .dataframe tbody tr th {\n",
       "        vertical-align: top;\n",
       "    }\n",
       "\n",
       "    .dataframe thead th {\n",
       "        text-align: right;\n",
       "    }\n",
       "</style>\n",
       "<table border=\"1\" class=\"dataframe\">\n",
       "  <thead>\n",
       "    <tr style=\"text-align: right;\">\n",
       "      <th></th>\n",
       "      <th>user_name</th>\n",
       "      <th>user_id</th>\n",
       "      <th>private</th>\n",
       "      <th>followed</th>\n",
       "      <th>post_count</th>\n",
       "      <th>igtv_count</th>\n",
       "      <th>followers_count</th>\n",
       "      <th>following_count</th>\n",
       "      <th>external_url</th>\n",
       "      <th>business_acct</th>\n",
       "      <th>business_cat</th>\n",
       "      <th>bio</th>\n",
       "      <th>blocked_by_viewers</th>\n",
       "      <th>follows</th>\n",
       "      <th>full_name</th>\n",
       "      <th>blocked_viewers</th>\n",
       "      <th>public_story</th>\n",
       "      <th>requested_viewer</th>\n",
       "      <th>profile_pic_url</th>\n",
       "      <th>similar_accounts</th>\n",
       "    </tr>\n",
       "  </thead>\n",
       "  <tbody>\n",
       "    <tr>\n",
       "      <th>0</th>\n",
       "      <td>0.11.220</td>\n",
       "      <td>3545283040</td>\n",
       "      <td>False</td>\n",
       "      <td>False</td>\n",
       "      <td>16</td>\n",
       "      <td>0</td>\n",
       "      <td>36885</td>\n",
       "      <td>40</td>\n",
       "      <td>None</td>\n",
       "      <td>True</td>\n",
       "      <td>Creators &amp; Celebrities</td>\n",
       "      <td>🌹آختم آعجابك بذكر اللَّه🌹.     \\n❣️ هذا حسابي ...</td>\n",
       "      <td>False</td>\n",
       "      <td>False</td>\n",
       "      <td>عبدالمجيد الوادعي 🇸🇦</td>\n",
       "      <td>False</td>\n",
       "      <td>False</td>\n",
       "      <td>False</td>\n",
       "      <td>https://scontent-sjc3-1.cdninstagram.com/v/t51...</td>\n",
       "      <td>{&lt;Profile 4pzg (3700869643)&gt;, &lt;Profile t9ur (8...</td>\n",
       "    </tr>\n",
       "    <tr>\n",
       "      <th>1</th>\n",
       "      <td>0.12eotae</td>\n",
       "      <td>9989303843</td>\n",
       "      <td>False</td>\n",
       "      <td>False</td>\n",
       "      <td>145</td>\n",
       "      <td>0</td>\n",
       "      <td>38867</td>\n",
       "      <td>122</td>\n",
       "      <td>https://discord.gg/weSPRDr</td>\n",
       "      <td>True</td>\n",
       "      <td>Grocery &amp; Convenience Stores</td>\n",
       "      <td>🌱 ~ Occasionally Post‍s\\n❌ ~ 사진은 내 것이 아니다\\n🏅 ~...</td>\n",
       "      <td>False</td>\n",
       "      <td>False</td>\n",
       "      <td>。korea 。</td>\n",
       "      <td>False</td>\n",
       "      <td>False</td>\n",
       "      <td>False</td>\n",
       "      <td>https://scontent-sjc3-1.cdninstagram.com/v/t51...</td>\n",
       "      <td>{&lt;Profile japanootd (2338520580)&gt;, &lt;Profile ko...</td>\n",
       "    </tr>\n",
       "    <tr>\n",
       "      <th>2</th>\n",
       "      <td>0.1gg1.0</td>\n",
       "      <td>610795355</td>\n",
       "      <td>False</td>\n",
       "      <td>False</td>\n",
       "      <td>0</td>\n",
       "      <td>0</td>\n",
       "      <td>40759</td>\n",
       "      <td>107</td>\n",
       "      <td>None</td>\n",
       "      <td>True</td>\n",
       "      <td>Personal Goods &amp; General Merchandise Stores</td>\n",
       "      <td>None</td>\n",
       "      <td>False</td>\n",
       "      <td>False</td>\n",
       "      <td>.</td>\n",
       "      <td>False</td>\n",
       "      <td>False</td>\n",
       "      <td>False</td>\n",
       "      <td>https://instagram.fcpv12-1.fna.fbcdn.net/v/t51...</td>\n",
       "      <td>{&lt;Profile docepelicula (815156746)&gt;, &lt;Profile ...</td>\n",
       "    </tr>\n",
       "    <tr>\n",
       "      <th>3</th>\n",
       "      <td>0.6rv</td>\n",
       "      <td>5384633763</td>\n",
       "      <td>False</td>\n",
       "      <td>False</td>\n",
       "      <td>1</td>\n",
       "      <td>0</td>\n",
       "      <td>23885</td>\n",
       "      <td>3465</td>\n",
       "      <td>None</td>\n",
       "      <td>True</td>\n",
       "      <td>Publishers</td>\n",
       "      <td>- عِندما تشعُر اטּ ۿناكَ شيء سَيڪسرك، بَـادر بخ...</td>\n",
       "      <td>False</td>\n",
       "      <td>False</td>\n",
       "      <td>⠀⠀ ⠀⠀‎ ⠀⠀⠀ 𓆩𝙰𝙱𝙽 𝙰𝙻𝙴𝙿𝙿𝙾🇸🇾؛𓆪</td>\n",
       "      <td>False</td>\n",
       "      <td>True</td>\n",
       "      <td>False</td>\n",
       "      <td>https://scontent-sjc3-1.cdninstagram.com/v/t51...</td>\n",
       "      <td>{&lt;Profile 8q8w (3256311171)&gt;, &lt;Profile kd9c (8...</td>\n",
       "    </tr>\n",
       "    <tr>\n",
       "      <th>4</th>\n",
       "      <td>0.6s9</td>\n",
       "      <td>8923732010</td>\n",
       "      <td>False</td>\n",
       "      <td>False</td>\n",
       "      <td>1</td>\n",
       "      <td>0</td>\n",
       "      <td>24026</td>\n",
       "      <td>182</td>\n",
       "      <td>http://t.me/HIH1H</td>\n",
       "      <td>False</td>\n",
       "      <td>None</td>\n",
       "      <td>⠀𐒨 𝟮𝟬𝟮𝟬 - 𝟭𝟰𝟰𝟮 𐒧\\n⠀ ⠀  ⠀- ڪل قهوة لهَآ حكايـَ...</td>\n",
       "      <td>False</td>\n",
       "      <td>False</td>\n",
       "      <td>👼🏻⁩هــَٔبًــت الــذًًگرھہ🍭</td>\n",
       "      <td>False</td>\n",
       "      <td>False</td>\n",
       "      <td>False</td>\n",
       "      <td>https://scontent-sjc3-1.cdninstagram.com/v/t51...</td>\n",
       "      <td>{&lt;Profile jayreubens (12184680070)&gt;, &lt;Profile ...</td>\n",
       "    </tr>\n",
       "  </tbody>\n",
       "</table>\n",
       "</div>"
      ],
      "text/plain": [
       "   user_name     user_id  private  followed  post_count  igtv_count  \\\n",
       "0   0.11.220  3545283040    False     False          16           0   \n",
       "1  0.12eotae  9989303843    False     False         145           0   \n",
       "2   0.1gg1.0   610795355    False     False           0           0   \n",
       "3      0.6rv  5384633763    False     False           1           0   \n",
       "4      0.6s9  8923732010    False     False           1           0   \n",
       "\n",
       "   followers_count  following_count                external_url  \\\n",
       "0            36885               40                        None   \n",
       "1            38867              122  https://discord.gg/weSPRDr   \n",
       "2            40759              107                        None   \n",
       "3            23885             3465                        None   \n",
       "4            24026              182           http://t.me/HIH1H   \n",
       "\n",
       "   business_acct                                 business_cat  \\\n",
       "0           True                       Creators & Celebrities   \n",
       "1           True                 Grocery & Convenience Stores   \n",
       "2           True  Personal Goods & General Merchandise Stores   \n",
       "3           True                                   Publishers   \n",
       "4          False                                         None   \n",
       "\n",
       "                                                 bio  blocked_by_viewers  \\\n",
       "0  🌹آختم آعجابك بذكر اللَّه🌹.     \\n❣️ هذا حسابي ...               False   \n",
       "1  🌱 ~ Occasionally Post‍s\\n❌ ~ 사진은 내 것이 아니다\\n🏅 ~...               False   \n",
       "2                                               None               False   \n",
       "3  - عِندما تشعُر اטּ ۿناكَ شيء سَيڪسرك، بَـادر بخ...               False   \n",
       "4  ⠀𐒨 𝟮𝟬𝟮𝟬 - 𝟭𝟰𝟰𝟮 𐒧\\n⠀ ⠀  ⠀- ڪل قهوة لهَآ حكايـَ...               False   \n",
       "\n",
       "   follows                   full_name  blocked_viewers  public_story  \\\n",
       "0    False        عبدالمجيد الوادعي 🇸🇦            False         False   \n",
       "1    False                    。korea 。            False         False   \n",
       "2    False                           .            False         False   \n",
       "3    False  ⠀⠀ ⠀⠀‎ ⠀⠀⠀ 𓆩𝙰𝙱𝙽 𝙰𝙻𝙴𝙿𝙿𝙾🇸🇾؛𓆪            False          True   \n",
       "4    False  👼🏻⁩هــَٔبًــت الــذًًگرھہ🍭            False         False   \n",
       "\n",
       "   requested_viewer                                    profile_pic_url  \\\n",
       "0             False  https://scontent-sjc3-1.cdninstagram.com/v/t51...   \n",
       "1             False  https://scontent-sjc3-1.cdninstagram.com/v/t51...   \n",
       "2             False  https://instagram.fcpv12-1.fna.fbcdn.net/v/t51...   \n",
       "3             False  https://scontent-sjc3-1.cdninstagram.com/v/t51...   \n",
       "4             False  https://scontent-sjc3-1.cdninstagram.com/v/t51...   \n",
       "\n",
       "                                    similar_accounts  \n",
       "0  {<Profile 4pzg (3700869643)>, <Profile t9ur (8...  \n",
       "1  {<Profile japanootd (2338520580)>, <Profile ko...  \n",
       "2  {<Profile docepelicula (815156746)>, <Profile ...  \n",
       "3  {<Profile 8q8w (3256311171)>, <Profile kd9c (8...  \n",
       "4  {<Profile jayreubens (12184680070)>, <Profile ...  "
      ]
     },
     "execution_count": 49,
     "metadata": {},
     "output_type": "execute_result"
    }
   ],
   "source": [
    "df.head()"
   ]
  },
  {
   "cell_type": "code",
   "execution_count": 51,
   "metadata": {},
   "outputs": [
    {
     "data": {
      "text/plain": [
       "(578, 20)"
      ]
     },
     "execution_count": 51,
     "metadata": {},
     "output_type": "execute_result"
    }
   ],
   "source": [
    "df.shape"
   ]
  },
  {
   "cell_type": "code",
   "execution_count": 50,
   "metadata": {},
   "outputs": [],
   "source": [
    "df.to_csv('./data/df.csv')"
   ]
  },
  {
   "cell_type": "code",
   "execution_count": null,
   "metadata": {},
   "outputs": [],
   "source": []
  },
  {
   "cell_type": "code",
   "execution_count": null,
   "metadata": {},
   "outputs": [],
   "source": []
  },
  {
   "cell_type": "code",
   "execution_count": null,
   "metadata": {},
   "outputs": [],
   "source": []
  },
  {
   "cell_type": "code",
   "execution_count": null,
   "metadata": {},
   "outputs": [],
   "source": []
  },
  {
   "cell_type": "markdown",
   "metadata": {},
   "source": [
    "## EDA of Data Collected"
   ]
  },
  {
   "cell_type": "code",
   "execution_count": 55,
   "metadata": {},
   "outputs": [],
   "source": [
    "df = pd.read_csv('./data/df.csv', set_index = 0)\n",
    "df.fillna('None'\n",
    "          , inplace = True\n",
    "         )"
   ]
  },
  {
   "cell_type": "code",
   "execution_count": 57,
   "metadata": {},
   "outputs": [
    {
     "data": {
      "text/html": [
       "<div>\n",
       "<style scoped>\n",
       "    .dataframe tbody tr th:only-of-type {\n",
       "        vertical-align: middle;\n",
       "    }\n",
       "\n",
       "    .dataframe tbody tr th {\n",
       "        vertical-align: top;\n",
       "    }\n",
       "\n",
       "    .dataframe thead th {\n",
       "        text-align: right;\n",
       "    }\n",
       "</style>\n",
       "<table border=\"1\" class=\"dataframe\">\n",
       "  <thead>\n",
       "    <tr style=\"text-align: right;\">\n",
       "      <th></th>\n",
       "      <th>Unnamed: 0</th>\n",
       "      <th>user_name</th>\n",
       "      <th>user_id</th>\n",
       "      <th>private</th>\n",
       "      <th>followed</th>\n",
       "      <th>post_count</th>\n",
       "      <th>igtv_count</th>\n",
       "      <th>followers_count</th>\n",
       "      <th>following_count</th>\n",
       "      <th>external_url</th>\n",
       "      <th>...</th>\n",
       "      <th>business_cat</th>\n",
       "      <th>bio</th>\n",
       "      <th>blocked_by_viewers</th>\n",
       "      <th>follows</th>\n",
       "      <th>full_name</th>\n",
       "      <th>blocked_viewers</th>\n",
       "      <th>public_story</th>\n",
       "      <th>requested_viewer</th>\n",
       "      <th>profile_pic_url</th>\n",
       "      <th>similar_accounts</th>\n",
       "    </tr>\n",
       "  </thead>\n",
       "  <tbody>\n",
       "    <tr>\n",
       "      <th>0</th>\n",
       "      <td>0</td>\n",
       "      <td>0.11.220</td>\n",
       "      <td>3545283040</td>\n",
       "      <td>False</td>\n",
       "      <td>False</td>\n",
       "      <td>16</td>\n",
       "      <td>0</td>\n",
       "      <td>36885</td>\n",
       "      <td>40</td>\n",
       "      <td>None</td>\n",
       "      <td>...</td>\n",
       "      <td>Creators &amp; Celebrities</td>\n",
       "      <td>🌹آختم آعجابك بذكر اللَّه🌹.     \\n❣️ هذا حسابي ...</td>\n",
       "      <td>False</td>\n",
       "      <td>False</td>\n",
       "      <td>عبدالمجيد الوادعي 🇸🇦</td>\n",
       "      <td>False</td>\n",
       "      <td>False</td>\n",
       "      <td>False</td>\n",
       "      <td>https://scontent-sjc3-1.cdninstagram.com/v/t51...</td>\n",
       "      <td>{&lt;Profile 4pzg (3700869643)&gt;, &lt;Profile t9ur (8...</td>\n",
       "    </tr>\n",
       "  </tbody>\n",
       "</table>\n",
       "<p>1 rows × 21 columns</p>\n",
       "</div>"
      ],
      "text/plain": [
       "   Unnamed: 0 user_name     user_id  private  followed  post_count  \\\n",
       "0           0  0.11.220  3545283040    False     False          16   \n",
       "\n",
       "   igtv_count  followers_count  following_count external_url  ...  \\\n",
       "0           0            36885               40         None  ...   \n",
       "\n",
       "             business_cat                                                bio  \\\n",
       "0  Creators & Celebrities  🌹آختم آعجابك بذكر اللَّه🌹.     \\n❣️ هذا حسابي ...   \n",
       "\n",
       "  blocked_by_viewers  follows             full_name blocked_viewers  \\\n",
       "0              False    False  عبدالمجيد الوادعي 🇸🇦           False   \n",
       "\n",
       "   public_story  requested_viewer  \\\n",
       "0         False             False   \n",
       "\n",
       "                                     profile_pic_url  \\\n",
       "0  https://scontent-sjc3-1.cdninstagram.com/v/t51...   \n",
       "\n",
       "                                    similar_accounts  \n",
       "0  {<Profile 4pzg (3700869643)>, <Profile t9ur (8...  \n",
       "\n",
       "[1 rows x 21 columns]"
      ]
     },
     "execution_count": 57,
     "metadata": {},
     "output_type": "execute_result"
    }
   ],
   "source": [
    "df.head(1)"
   ]
  },
  {
   "cell_type": "code",
   "execution_count": 58,
   "metadata": {},
   "outputs": [
    {
     "data": {
      "text/html": [
       "<div>\n",
       "<style scoped>\n",
       "    .dataframe tbody tr th:only-of-type {\n",
       "        vertical-align: middle;\n",
       "    }\n",
       "\n",
       "    .dataframe tbody tr th {\n",
       "        vertical-align: top;\n",
       "    }\n",
       "\n",
       "    .dataframe thead th {\n",
       "        text-align: right;\n",
       "    }\n",
       "</style>\n",
       "<table border=\"1\" class=\"dataframe\">\n",
       "  <thead>\n",
       "    <tr style=\"text-align: right;\">\n",
       "      <th></th>\n",
       "      <th>user_name</th>\n",
       "      <th>user_id</th>\n",
       "      <th>private</th>\n",
       "      <th>followed</th>\n",
       "      <th>post_count</th>\n",
       "      <th>igtv_count</th>\n",
       "      <th>followers_count</th>\n",
       "      <th>following_count</th>\n",
       "      <th>external_url</th>\n",
       "      <th>business_acct</th>\n",
       "      <th>business_cat</th>\n",
       "      <th>bio</th>\n",
       "      <th>blocked_by_viewers</th>\n",
       "      <th>follows</th>\n",
       "      <th>full_name</th>\n",
       "      <th>blocked_viewers</th>\n",
       "      <th>public_story</th>\n",
       "      <th>requested_viewer</th>\n",
       "      <th>profile_pic_url</th>\n",
       "      <th>similar_accounts</th>\n",
       "    </tr>\n",
       "  </thead>\n",
       "  <tbody>\n",
       "    <tr>\n",
       "      <th>0</th>\n",
       "      <td>0.11.220</td>\n",
       "      <td>3545283040</td>\n",
       "      <td>False</td>\n",
       "      <td>False</td>\n",
       "      <td>16</td>\n",
       "      <td>0</td>\n",
       "      <td>36885</td>\n",
       "      <td>40</td>\n",
       "      <td>None</td>\n",
       "      <td>True</td>\n",
       "      <td>Creators &amp; Celebrities</td>\n",
       "      <td>🌹آختم آعجابك بذكر اللَّه🌹.     \\n❣️ هذا حسابي ...</td>\n",
       "      <td>False</td>\n",
       "      <td>False</td>\n",
       "      <td>عبدالمجيد الوادعي 🇸🇦</td>\n",
       "      <td>False</td>\n",
       "      <td>False</td>\n",
       "      <td>False</td>\n",
       "      <td>https://scontent-sjc3-1.cdninstagram.com/v/t51...</td>\n",
       "      <td>{&lt;Profile 4pzg (3700869643)&gt;, &lt;Profile t9ur (8...</td>\n",
       "    </tr>\n",
       "  </tbody>\n",
       "</table>\n",
       "</div>"
      ],
      "text/plain": [
       "  user_name     user_id  private  followed  post_count  igtv_count  \\\n",
       "0  0.11.220  3545283040    False     False          16           0   \n",
       "\n",
       "   followers_count  following_count external_url  business_acct  \\\n",
       "0            36885               40         None           True   \n",
       "\n",
       "             business_cat                                                bio  \\\n",
       "0  Creators & Celebrities  🌹آختم آعجابك بذكر اللَّه🌹.     \\n❣️ هذا حسابي ...   \n",
       "\n",
       "   blocked_by_viewers  follows             full_name  blocked_viewers  \\\n",
       "0               False    False  عبدالمجيد الوادعي 🇸🇦            False   \n",
       "\n",
       "   public_story  requested_viewer  \\\n",
       "0         False             False   \n",
       "\n",
       "                                     profile_pic_url  \\\n",
       "0  https://scontent-sjc3-1.cdninstagram.com/v/t51...   \n",
       "\n",
       "                                    similar_accounts  \n",
       "0  {<Profile 4pzg (3700869643)>, <Profile t9ur (8...  "
      ]
     },
     "execution_count": 58,
     "metadata": {},
     "output_type": "execute_result"
    }
   ],
   "source": [
    "df = df.drop('Unnamed: 0', axis = 1)\n",
    "df.head(1)"
   ]
  },
  {
   "cell_type": "code",
   "execution_count": 53,
   "metadata": {},
   "outputs": [
    {
     "data": {
      "text/plain": [
       "(578, 21)"
      ]
     },
     "execution_count": 53,
     "metadata": {},
     "output_type": "execute_result"
    }
   ],
   "source": [
    "df.shape"
   ]
  },
  {
   "cell_type": "code",
   "execution_count": 54,
   "metadata": {},
   "outputs": [
    {
     "data": {
      "image/png": "[encoded data removed]",
      "text/plain": [
       "<Figure size 432x288 with 1 Axes>"
      ]
     },
     "metadata": {},
     "output_type": "display_data"
    }
   ],
   "source": [
    "df.followers_count.hist(bins=50\n",
    "                        , log = False\n",
    "                       )\n",
    "plt.xticks(rotation=90)\n",
    "plt.title('Distribution fo Followers')\n",
    "plt.ylabel('Count')\n",
    "plt.xlabel('Followers');"
   ]
  },
  {
   "cell_type": "code",
   "execution_count": null,
   "metadata": {},
   "outputs": [],
   "source": []
  }
 ],
 "metadata": {
  "kernelspec": {
   "display_name": "Python 3",
   "language": "python",
   "name": "python3"
  },
  "language_info": {
   "codemirror_mode": {
    "name": "ipython",
    "version": 3
   },
   "file_extension": ".py",
   "mimetype": "text/x-python",
   "name": "python",
   "nbconvert_exporter": "python",
   "pygments_lexer": "ipython3",
   "version": "3.8.5"
  }
 },
 "nbformat": 4,
 "nbformat_minor": 4
}
