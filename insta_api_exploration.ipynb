{
 "cells": [
  {
   "cell_type": "markdown",
   "metadata": {},
   "source": [
    "### Documentation: https://rapidapi.com/blog/instagram-api-python/"
   ]
  },
  {
   "cell_type": "code",
   "execution_count": 10,
   "metadata": {},
   "outputs": [
    {
     "data": {
      "text/plain": [
       "{'count': 3,\n",
       " 'page_info': {'has_next_page': False, 'end_cursor': None},\n",
       " 'edges': [{'node': {'comments_disabled': False,\n",
       "    '__typename': 'GraphSidecar',\n",
       "    'id': '2258459918707474312',\n",
       "    'edge_media_to_caption': {'edges': [{'node': {'text': 'Not only did we win the #virtualstarsgymnastics team competition, we also swept the event titles! \\nFX: @sammontague11 \\nPH: @james_strevey \\nSR: @nickjsmiley \\nVT: Sam Montague/Nick Smiley\\nPB: @chernando92 \\nHB: @mike.the.italian.peluso'}}]},\n",
       "    'shortcode': 'B9XqVSKBD-I',\n",
       "    'edge_media_to_comment': {'count': 4},\n",
       "    'taken_at_timestamp': 1583449424,\n",
       "    'dimensions': {'height': 750, 'width': 750},\n",
       "    'display_url': 'https://scontent-atl3-1.cdninstagram.com/v/t51.2885-15/e35/87735786_238424007191163_839654482208762354_n.jpg?_nc_ht=scontent-atl3-1.cdninstagram.com&_nc_cat=103&_nc_ohc=f-yrt6MosvUAX_1hYPG&_nc_tp=18&oh=d705151666e33d111be0d6fce678cc23&oe=5F947B2E',\n",
       "    'edge_liked_by': {'count': 202},\n",
       "    'edge_media_preview_like': {'count': 202},\n",
       "    'owner': {'id': '1528942775'},\n",
       "    'thumbnail_src': 'https://scontent-atl3-1.cdninstagram.com/v/t51.2885-15/sh0.08/e35/s640x640/87735786_238424007191163_839654482208762354_n.jpg?_nc_ht=scontent-atl3-1.cdninstagram.com&_nc_cat=103&_nc_ohc=f-yrt6MosvUAX_1hYPG&_nc_tp=24&oh=06a0fa76129637ff05835433c457d773&oe=5F94389F',\n",
       "    'thumbnail_resources': [{'src': 'https://scontent-atl3-1.cdninstagram.com/v/t51.2885-15/e35/s150x150/87735786_238424007191163_839654482208762354_n.jpg?_nc_ht=scontent-atl3-1.cdninstagram.com&_nc_cat=103&_nc_ohc=f-yrt6MosvUAX_1hYPG&_nc_tp=15&oh=ed432cda331708a976a15f58e44383a9&oe=5F946A00',\n",
       "      'config_width': 150,\n",
       "      'config_height': 150},\n",
       "     {'src': 'https://scontent-atl3-1.cdninstagram.com/v/t51.2885-15/e35/s240x240/87735786_238424007191163_839654482208762354_n.jpg?_nc_ht=scontent-atl3-1.cdninstagram.com&_nc_cat=103&_nc_ohc=f-yrt6MosvUAX_1hYPG&_nc_tp=15&oh=496f7ae8d75acd46986b50806075bd6e&oe=5F946F4B',\n",
       "      'config_width': 240,\n",
       "      'config_height': 240},\n",
       "     {'src': 'https://scontent-atl3-1.cdninstagram.com/v/t51.2885-15/e35/s320x320/87735786_238424007191163_839654482208762354_n.jpg?_nc_ht=scontent-atl3-1.cdninstagram.com&_nc_cat=103&_nc_ohc=f-yrt6MosvUAX_1hYPG&_nc_tp=15&oh=2461508a00cc055bac5517f4ddb4aa75&oe=5F945CB3',\n",
       "      'config_width': 320,\n",
       "      'config_height': 320},\n",
       "     {'src': 'https://scontent-atl3-1.cdninstagram.com/v/t51.2885-15/e35/s480x480/87735786_238424007191163_839654482208762354_n.jpg?_nc_ht=scontent-atl3-1.cdninstagram.com&_nc_cat=103&_nc_ohc=f-yrt6MosvUAX_1hYPG&_nc_tp=15&oh=fdb4cc0972fe88230d99e0c72c2116ca&oe=5F946C2F',\n",
       "      'config_width': 480,\n",
       "      'config_height': 480},\n",
       "     {'src': 'https://scontent-atl3-1.cdninstagram.com/v/t51.2885-15/sh0.08/e35/s640x640/87735786_238424007191163_839654482208762354_n.jpg?_nc_ht=scontent-atl3-1.cdninstagram.com&_nc_cat=103&_nc_ohc=f-yrt6MosvUAX_1hYPG&_nc_tp=24&oh=06a0fa76129637ff05835433c457d773&oe=5F94389F',\n",
       "      'config_width': 640,\n",
       "      'config_height': 640}],\n",
       "    'is_video': False,\n",
       "    'accessibility_caption': None}},\n",
       "  {'node': {'comments_disabled': False,\n",
       "    '__typename': 'GraphVideo',\n",
       "    'id': '2257744315323613582',\n",
       "    'edge_media_to_caption': {'edges': [{'node': {'text': 'Last month we took part in (and won) the world’s first ever virtual gymnastics meet! #virtualstarsgymnastics provided us with an opportunity to compete with teams across the country without having to travel, thanks to everyone that made this innovative and unique event so successful!'}}]},\n",
       "    'shortcode': 'B9VHn4khYGO',\n",
       "    'edge_media_to_comment': {'count': 1},\n",
       "    'taken_at_timestamp': 1583364144,\n",
       "    'dimensions': {'height': 421, 'width': 750},\n",
       "    'display_url': 'https://scontent-atl3-1.cdninstagram.com/v/t51.2885-15/e35/88134989_234677814231266_8384754161248408249_n.jpg?_nc_ht=scontent-atl3-1.cdninstagram.com&_nc_cat=102&_nc_ohc=JuSZ8jgFTAkAX-05y88&_nc_tp=18&oh=6ce9d8c5cc9b31fd8059e72871ba4c2c&oe=5F9465CC',\n",
       "    'edge_liked_by': {'count': 218},\n",
       "    'edge_media_preview_like': {'count': 218},\n",
       "    'owner': {'id': '1528942775'},\n",
       "    'thumbnail_src': 'https://scontent-atl3-1.cdninstagram.com/v/t51.2885-15/e35/c157.0.405.405a/88134989_234677814231266_8384754161248408249_n.jpg?_nc_ht=scontent-atl3-1.cdninstagram.com&_nc_cat=102&_nc_ohc=JuSZ8jgFTAkAX-05y88&oh=20a1d3c01519faadf573365104cee8c6&oe=5F941884',\n",
       "    'thumbnail_resources': [{'src': 'https://scontent-atl3-1.cdninstagram.com/v/t51.2885-15/e35/c157.0.405.405a/s150x150/88134989_234677814231266_8384754161248408249_n.jpg?_nc_ht=scontent-atl3-1.cdninstagram.com&_nc_cat=102&_nc_ohc=JuSZ8jgFTAkAX-05y88&tp=16&oh=c417b71daeb5ec09d1d5d0397c9e379e&oe=5F945E3A',\n",
       "      'config_width': 150,\n",
       "      'config_height': 150},\n",
       "     {'src': 'https://scontent-atl3-1.cdninstagram.com/v/t51.2885-15/e35/c157.0.405.405a/s240x240/88134989_234677814231266_8384754161248408249_n.jpg?_nc_ht=scontent-atl3-1.cdninstagram.com&_nc_cat=102&_nc_ohc=JuSZ8jgFTAkAX-05y88&tp=16&oh=692e23fe7da05b1741be2fd14e2407e4&oe=5F949234',\n",
       "      'config_width': 240,\n",
       "      'config_height': 240},\n",
       "     {'src': 'https://scontent-atl3-1.cdninstagram.com/v/t51.2885-15/e35/c157.0.405.405a/s320x320/88134989_234677814231266_8384754161248408249_n.jpg?_nc_ht=scontent-atl3-1.cdninstagram.com&_nc_cat=102&_nc_ohc=JuSZ8jgFTAkAX-05y88&tp=16&oh=7c4ef246b2e32f4cc5170e5ddda2b072&oe=5F946BCA',\n",
       "      'config_width': 320,\n",
       "      'config_height': 320},\n",
       "     {'src': 'https://scontent-atl3-1.cdninstagram.com/v/t51.2885-15/e35/c157.0.405.405a/88134989_234677814231266_8384754161248408249_n.jpg?_nc_ht=scontent-atl3-1.cdninstagram.com&_nc_cat=102&_nc_ohc=JuSZ8jgFTAkAX-05y88&oh=20a1d3c01519faadf573365104cee8c6&oe=5F941884',\n",
       "      'config_width': 480,\n",
       "      'config_height': 480},\n",
       "     {'src': 'https://scontent-atl3-1.cdninstagram.com/v/t51.2885-15/e35/c157.0.405.405a/88134989_234677814231266_8384754161248408249_n.jpg?_nc_ht=scontent-atl3-1.cdninstagram.com&_nc_cat=102&_nc_ohc=JuSZ8jgFTAkAX-05y88&oh=20a1d3c01519faadf573365104cee8c6&oe=5F941884',\n",
       "      'config_width': 640,\n",
       "      'config_height': 640}],\n",
       "    'is_video': True,\n",
       "    'accessibility_caption': None,\n",
       "    'product_type': 'feed',\n",
       "    'video_view_count': 783}},\n",
       "  {'node': {'comments_disabled': False,\n",
       "    '__typename': 'GraphImage',\n",
       "    'id': '2249803045198597145',\n",
       "    'edge_media_to_caption': {'edges': [{'node': {'text': 'Last week, along with the men’s team @gymatuic , we competed in a meet called Virtual Stars which was done 100% online. “What?” Yep, 100% online, \\nIf you’re interested in seeing routines of us or other gymnasts taking part in the meet — go to YouTube and use the tag #VirtualStarsGymnastics to see them all. The days of having to do meets in person may be limited 👀 In the words of squid-ward: “fuuuutuuurrreeee”'}}]},\n",
       "    'shortcode': 'B845_Mbp4wZ',\n",
       "    'edge_media_to_comment': {'count': 0},\n",
       "    'taken_at_timestamp': 1582417444,\n",
       "    'dimensions': {'height': 750, 'width': 750},\n",
       "    'display_url': 'https://scontent-atl3-1.cdninstagram.com/v/t51.2885-15/e35/84350684_282129899418344_707816938818066146_n.jpg?_nc_ht=scontent-atl3-1.cdninstagram.com&_nc_cat=108&_nc_ohc=w-IYlN6fBi4AX8nvZej&_nc_tp=18&oh=88bd2870d110db3303e554fc9a957f0e&oe=5FBB9BF3&ig_cache_key=MjI0OTgwMzA0NTE5ODU5NzE0NQ%3D%3D.2',\n",
       "    'edge_liked_by': {'count': 40},\n",
       "    'edge_media_preview_like': {'count': 40},\n",
       "    'owner': {'id': '15884644295'},\n",
       "    'thumbnail_src': 'https://scontent-atl3-1.cdninstagram.com/v/t51.2885-15/sh0.08/e35/s640x640/84350684_282129899418344_707816938818066146_n.jpg?_nc_ht=scontent-atl3-1.cdninstagram.com&_nc_cat=108&_nc_ohc=w-IYlN6fBi4AX8nvZej&_nc_tp=24&oh=2602f074b6cc999be389aece2e1676cf&oe=5FBAA682&ig_cache_key=MjI0OTgwMzA0NTE5ODU5NzE0NQ%3D%3D.2',\n",
       "    'thumbnail_resources': [{'src': 'https://scontent-atl3-1.cdninstagram.com/v/t51.2885-15/e35/s150x150/84350684_282129899418344_707816938818066146_n.jpg?_nc_ht=scontent-atl3-1.cdninstagram.com&_nc_cat=108&_nc_ohc=w-IYlN6fBi4AX8nvZej&_nc_tp=15&oh=35b194c7612dced8d1fb499903b3264e&oe=5FBCB4E1&ig_cache_key=MjI0OTgwMzA0NTE5ODU5NzE0NQ%3D%3D.2',\n",
       "      'config_width': 150,\n",
       "      'config_height': 150},\n",
       "     {'src': 'https://scontent-atl3-1.cdninstagram.com/v/t51.2885-15/e35/s240x240/84350684_282129899418344_707816938818066146_n.jpg?_nc_ht=scontent-atl3-1.cdninstagram.com&_nc_cat=108&_nc_ohc=w-IYlN6fBi4AX8nvZej&_nc_tp=15&oh=cf60116e5f88ee73dda142f2e7e1fab7&oe=5FBB0CD6&ig_cache_key=MjI0OTgwMzA0NTE5ODU5NzE0NQ%3D%3D.2',\n",
       "      'config_width': 240,\n",
       "      'config_height': 240},\n",
       "     {'src': 'https://scontent-atl3-1.cdninstagram.com/v/t51.2885-15/e35/s320x320/84350684_282129899418344_707816938818066146_n.jpg?_nc_ht=scontent-atl3-1.cdninstagram.com&_nc_cat=108&_nc_ohc=w-IYlN6fBi4AX8nvZej&_nc_tp=15&oh=c330aa23e68965bb82fbfcd23f199f4e&oe=5FBC3D6E&ig_cache_key=MjI0OTgwMzA0NTE5ODU5NzE0NQ%3D%3D.2',\n",
       "      'config_width': 320,\n",
       "      'config_height': 320},\n",
       "     {'src': 'https://scontent-atl3-1.cdninstagram.com/v/t51.2885-15/e35/s480x480/84350684_282129899418344_707816938818066146_n.jpg?_nc_ht=scontent-atl3-1.cdninstagram.com&_nc_cat=108&_nc_ohc=w-IYlN6fBi4AX8nvZej&_nc_tp=15&oh=5e2a816b6d96892e8a6e4dcbe157a831&oe=5FBA2832&ig_cache_key=MjI0OTgwMzA0NTE5ODU5NzE0NQ%3D%3D.2',\n",
       "      'config_width': 480,\n",
       "      'config_height': 480},\n",
       "     {'src': 'https://scontent-atl3-1.cdninstagram.com/v/t51.2885-15/sh0.08/e35/s640x640/84350684_282129899418344_707816938818066146_n.jpg?_nc_ht=scontent-atl3-1.cdninstagram.com&_nc_cat=108&_nc_ohc=w-IYlN6fBi4AX8nvZej&_nc_tp=24&oh=2602f074b6cc999be389aece2e1676cf&oe=5FBAA682&ig_cache_key=MjI0OTgwMzA0NTE5ODU5NzE0NQ%3D%3D.2',\n",
       "      'config_width': 640,\n",
       "      'config_height': 640}],\n",
       "    'is_video': False,\n",
       "    'accessibility_caption': 'Photo by NIU Mens Gymnastics on February 22, 2020.'}}]}"
      ]
     },
     "execution_count": 10,
     "metadata": {},
     "output_type": "execute_result"
    }
   ],
   "source": [
    "import http.client\n",
    "import json\n",
    "\n",
    "conn = http.client.HTTPSConnection(\"instagramdimashirokovv1.p.rapidapi.com\")\n",
    "\n",
    "headers = {\n",
    "    'x-rapidapi-host': \"InstagramdimashirokovV1.p.rapidapi.com\",\n",
    "    'x-rapidapi-key': \"d8bd99579amsh60d48190a20b6d4p18dcbdjsnd5edf570cb37\",\n",
    "    'useQueryString': True\n",
    "    }\n",
    "\n",
    "conn.request(\"GET\", \"/tag/virtualstarsgymnastics/optional\", headers=headers)\n",
    "\n",
    "res = conn.getresponse()\n",
    "data = res.read()\n",
    "\n",
    "json_dictionary = json.loads(data.decode(\"utf-8\"))\n",
    "json_dictionary"
   ]
  },
  {
   "cell_type": "code",
   "execution_count": 11,
   "metadata": {},
   "outputs": [],
   "source": [
    "import pandas as pd"
   ]
  },
  {
   "cell_type": "code",
   "execution_count": 13,
   "metadata": {},
   "outputs": [
    {
     "data": {
      "text/plain": [
       "3"
      ]
     },
     "execution_count": 13,
     "metadata": {},
     "output_type": "execute_result"
    }
   ],
   "source": [
    "len(json_dictionary)"
   ]
  },
  {
   "cell_type": "code",
   "execution_count": 12,
   "metadata": {},
   "outputs": [
    {
     "ename": "ValueError",
     "evalue": "Mixing dicts with non-Series may lead to ambiguous ordering.",
     "output_type": "error",
     "traceback": [
      "\u001b[0;31m---------------------------------------------------------------------------\u001b[0m",
      "\u001b[0;31mValueError\u001b[0m                                Traceback (most recent call last)",
      "\u001b[0;32m<ipython-input-12-c16445c91f1c>\u001b[0m in \u001b[0;36m<module>\u001b[0;34m\u001b[0m\n\u001b[0;32m----> 1\u001b[0;31m \u001b[0mtemp_df\u001b[0m \u001b[0;34m=\u001b[0m \u001b[0mpd\u001b[0m\u001b[0;34m.\u001b[0m\u001b[0mDataFrame\u001b[0m\u001b[0;34m(\u001b[0m\u001b[0mjson_dictionary\u001b[0m\u001b[0;34m)\u001b[0m\u001b[0;34m\u001b[0m\u001b[0;34m\u001b[0m\u001b[0m\n\u001b[0m\u001b[1;32m      2\u001b[0m \u001b[0mtemp_df\u001b[0m\u001b[0;34m.\u001b[0m\u001b[0mhead\u001b[0m\u001b[0;34m(\u001b[0m\u001b[0;34m)\u001b[0m\u001b[0;34m\u001b[0m\u001b[0;34m\u001b[0m\u001b[0m\n",
      "\u001b[0;32m~/.local/lib/python3.8/site-packages/pandas/core/frame.py\u001b[0m in \u001b[0;36m__init__\u001b[0;34m(self, data, index, columns, dtype, copy)\u001b[0m\n\u001b[1;32m    433\u001b[0m             )\n\u001b[1;32m    434\u001b[0m         \u001b[0;32melif\u001b[0m \u001b[0misinstance\u001b[0m\u001b[0;34m(\u001b[0m\u001b[0mdata\u001b[0m\u001b[0;34m,\u001b[0m \u001b[0mdict\u001b[0m\u001b[0;34m)\u001b[0m\u001b[0;34m:\u001b[0m\u001b[0;34m\u001b[0m\u001b[0;34m\u001b[0m\u001b[0m\n\u001b[0;32m--> 435\u001b[0;31m             \u001b[0mmgr\u001b[0m \u001b[0;34m=\u001b[0m \u001b[0minit_dict\u001b[0m\u001b[0;34m(\u001b[0m\u001b[0mdata\u001b[0m\u001b[0;34m,\u001b[0m \u001b[0mindex\u001b[0m\u001b[0;34m,\u001b[0m \u001b[0mcolumns\u001b[0m\u001b[0;34m,\u001b[0m \u001b[0mdtype\u001b[0m\u001b[0;34m=\u001b[0m\u001b[0mdtype\u001b[0m\u001b[0;34m)\u001b[0m\u001b[0;34m\u001b[0m\u001b[0;34m\u001b[0m\u001b[0m\n\u001b[0m\u001b[1;32m    436\u001b[0m         \u001b[0;32melif\u001b[0m \u001b[0misinstance\u001b[0m\u001b[0;34m(\u001b[0m\u001b[0mdata\u001b[0m\u001b[0;34m,\u001b[0m \u001b[0mma\u001b[0m\u001b[0;34m.\u001b[0m\u001b[0mMaskedArray\u001b[0m\u001b[0;34m)\u001b[0m\u001b[0;34m:\u001b[0m\u001b[0;34m\u001b[0m\u001b[0;34m\u001b[0m\u001b[0m\n\u001b[1;32m    437\u001b[0m             \u001b[0;32mimport\u001b[0m \u001b[0mnumpy\u001b[0m\u001b[0;34m.\u001b[0m\u001b[0mma\u001b[0m\u001b[0;34m.\u001b[0m\u001b[0mmrecords\u001b[0m \u001b[0;32mas\u001b[0m \u001b[0mmrecords\u001b[0m\u001b[0;34m\u001b[0m\u001b[0;34m\u001b[0m\u001b[0m\n",
      "\u001b[0;32m~/.local/lib/python3.8/site-packages/pandas/core/internals/construction.py\u001b[0m in \u001b[0;36minit_dict\u001b[0;34m(data, index, columns, dtype)\u001b[0m\n\u001b[1;32m    252\u001b[0m             \u001b[0marr\u001b[0m \u001b[0;32mif\u001b[0m \u001b[0;32mnot\u001b[0m \u001b[0mis_datetime64tz_dtype\u001b[0m\u001b[0;34m(\u001b[0m\u001b[0marr\u001b[0m\u001b[0;34m)\u001b[0m \u001b[0;32melse\u001b[0m \u001b[0marr\u001b[0m\u001b[0;34m.\u001b[0m\u001b[0mcopy\u001b[0m\u001b[0;34m(\u001b[0m\u001b[0;34m)\u001b[0m \u001b[0;32mfor\u001b[0m \u001b[0marr\u001b[0m \u001b[0;32min\u001b[0m \u001b[0marrays\u001b[0m\u001b[0;34m\u001b[0m\u001b[0;34m\u001b[0m\u001b[0m\n\u001b[1;32m    253\u001b[0m         ]\n\u001b[0;32m--> 254\u001b[0;31m     \u001b[0;32mreturn\u001b[0m \u001b[0marrays_to_mgr\u001b[0m\u001b[0;34m(\u001b[0m\u001b[0marrays\u001b[0m\u001b[0;34m,\u001b[0m \u001b[0mdata_names\u001b[0m\u001b[0;34m,\u001b[0m \u001b[0mindex\u001b[0m\u001b[0;34m,\u001b[0m \u001b[0mcolumns\u001b[0m\u001b[0;34m,\u001b[0m \u001b[0mdtype\u001b[0m\u001b[0;34m=\u001b[0m\u001b[0mdtype\u001b[0m\u001b[0;34m)\u001b[0m\u001b[0;34m\u001b[0m\u001b[0;34m\u001b[0m\u001b[0m\n\u001b[0m\u001b[1;32m    255\u001b[0m \u001b[0;34m\u001b[0m\u001b[0m\n\u001b[1;32m    256\u001b[0m \u001b[0;34m\u001b[0m\u001b[0m\n",
      "\u001b[0;32m~/.local/lib/python3.8/site-packages/pandas/core/internals/construction.py\u001b[0m in \u001b[0;36marrays_to_mgr\u001b[0;34m(arrays, arr_names, index, columns, dtype)\u001b[0m\n\u001b[1;32m     62\u001b[0m     \u001b[0;31m# figure out the index, if necessary\u001b[0m\u001b[0;34m\u001b[0m\u001b[0;34m\u001b[0m\u001b[0;34m\u001b[0m\u001b[0m\n\u001b[1;32m     63\u001b[0m     \u001b[0;32mif\u001b[0m \u001b[0mindex\u001b[0m \u001b[0;32mis\u001b[0m \u001b[0;32mNone\u001b[0m\u001b[0;34m:\u001b[0m\u001b[0;34m\u001b[0m\u001b[0;34m\u001b[0m\u001b[0m\n\u001b[0;32m---> 64\u001b[0;31m         \u001b[0mindex\u001b[0m \u001b[0;34m=\u001b[0m \u001b[0mextract_index\u001b[0m\u001b[0;34m(\u001b[0m\u001b[0marrays\u001b[0m\u001b[0;34m)\u001b[0m\u001b[0;34m\u001b[0m\u001b[0;34m\u001b[0m\u001b[0m\n\u001b[0m\u001b[1;32m     65\u001b[0m     \u001b[0;32melse\u001b[0m\u001b[0;34m:\u001b[0m\u001b[0;34m\u001b[0m\u001b[0;34m\u001b[0m\u001b[0m\n\u001b[1;32m     66\u001b[0m         \u001b[0mindex\u001b[0m \u001b[0;34m=\u001b[0m \u001b[0mensure_index\u001b[0m\u001b[0;34m(\u001b[0m\u001b[0mindex\u001b[0m\u001b[0;34m)\u001b[0m\u001b[0;34m\u001b[0m\u001b[0;34m\u001b[0m\u001b[0m\n",
      "\u001b[0;32m~/.local/lib/python3.8/site-packages/pandas/core/internals/construction.py\u001b[0m in \u001b[0;36mextract_index\u001b[0;34m(data)\u001b[0m\n\u001b[1;32m    366\u001b[0m \u001b[0;34m\u001b[0m\u001b[0m\n\u001b[1;32m    367\u001b[0m             \u001b[0;32mif\u001b[0m \u001b[0mhave_dicts\u001b[0m\u001b[0;34m:\u001b[0m\u001b[0;34m\u001b[0m\u001b[0;34m\u001b[0m\u001b[0m\n\u001b[0;32m--> 368\u001b[0;31m                 raise ValueError(\n\u001b[0m\u001b[1;32m    369\u001b[0m                     \u001b[0;34m\"Mixing dicts with non-Series may lead to ambiguous ordering.\"\u001b[0m\u001b[0;34m\u001b[0m\u001b[0;34m\u001b[0m\u001b[0m\n\u001b[1;32m    370\u001b[0m                 )\n",
      "\u001b[0;31mValueError\u001b[0m: Mixing dicts with non-Series may lead to ambiguous ordering."
     ]
    }
   ],
   "source": [
    "temp_df = pd.DataFrame(json_dictionary)\n",
    "temp_df.head()"
   ]
  },
  {
   "cell_type": "code",
   "execution_count": null,
   "metadata": {},
   "outputs": [],
   "source": []
  }
 ],
 "metadata": {
  "kernelspec": {
   "display_name": "Python 3",
   "language": "python",
   "name": "python3"
  },
  "language_info": {
   "codemirror_mode": {
    "name": "ipython",
    "version": 3
   },
   "file_extension": ".py",
   "mimetype": "text/x-python",
   "name": "python",
   "nbconvert_exporter": "python",
   "pygments_lexer": "ipython3",
   "version": "3.8.5"
  }
 },
 "nbformat": 4,
 "nbformat_minor": 4
}
